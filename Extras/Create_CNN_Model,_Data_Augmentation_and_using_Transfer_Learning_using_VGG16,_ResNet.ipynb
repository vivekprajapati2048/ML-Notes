{
  "nbformat": 4,
  "nbformat_minor": 0,
  "metadata": {
    "colab": {
      "name": "Create CNN Model, Data Augmentation and using Transfer Learning using VGG16, ResNet",
      "provenance": [],
      "collapsed_sections": []
    },
    "kernelspec": {
      "name": "python3",
      "display_name": "Python 3"
    }
  },
  "cells": [
    {
      "cell_type": "code",
      "metadata": {
        "id": "PsTyyR1YaMF-"
      },
      "source": [
        "from keras.layers import Input, Lambda, Dense, Flatten\r\n",
        "from keras.models import Model\r\n",
        "from keras.models import Sequential\r\n",
        "\r\n",
        "from keras.applications.vgg16 import VGG16\r\n",
        "from keras.applications.vgg16 import preprocess_input\r\n",
        "\r\n",
        "from keras.preprocessing import image\r\n",
        "from keras.preprocessing.image import ImageDataGenerator # Data Augmentation\r\n",
        "\r\n",
        "import numpy as np\r\n",
        "import matplotlib.pyplot as plt\r\n",
        "from glob import glob"
      ],
      "execution_count": 2,
      "outputs": []
    },
    {
      "cell_type": "code",
      "metadata": {
        "id": "jsQr1G-ebNJz"
      },
      "source": [
        "# resize all images\r\n",
        "IMAGE_SIZE = [244, 244]"
      ],
      "execution_count": 3,
      "outputs": []
    },
    {
      "cell_type": "code",
      "metadata": {
        "id": "oErBhgWecoOJ"
      },
      "source": [
        "train_path = 'Datasets/Train'\r\n",
        "valid_path = 'Datasets/Test'"
      ],
      "execution_count": 5,
      "outputs": []
    },
    {
      "cell_type": "code",
      "metadata": {
        "colab": {
          "base_uri": "https://localhost:8080/"
        },
        "id": "nJKY9ysBcvGb",
        "outputId": "844d7317-5427-4e83-9c98-283e153026cc"
      },
      "source": [
        "# add preprocessing layers to the front of VGG\r\n",
        "vgg = VGG16(input_shape=IMAGE_SIZE + [3], # 3 for RGB channel and 1 for B&W\r\n",
        "            weights='imagenet',\r\n",
        "            include_top=False) # last layer is to be removed"
      ],
      "execution_count": 6,
      "outputs": [
        {
          "output_type": "stream",
          "text": [
            "Downloading data from https://storage.googleapis.com/tensorflow/keras-applications/vgg16/vgg16_weights_tf_dim_ordering_tf_kernels_notop.h5\n",
            "58892288/58889256 [==============================] - 0s 0us/step\n"
          ],
          "name": "stdout"
        }
      ]
    },
    {
      "cell_type": "code",
      "metadata": {
        "id": "B_ilwMaXdbQI"
      },
      "source": [
        "# don't have to train existing weights as it is state-of-art algorithm, it is already training\r\n",
        "for layer in vgg.layers:\r\n",
        "  layer.trainable = False"
      ],
      "execution_count": 7,
      "outputs": []
    },
    {
      "cell_type": "code",
      "metadata": {
        "id": "T2XinDghdxKV"
      },
      "source": [
        "# for getting number of classes\r\n",
        "folders = glob('Datasets/Train/*')"
      ],
      "execution_count": 8,
      "outputs": []
    },
    {
      "cell_type": "code",
      "metadata": {
        "id": "SKS1U2ZseIjd"
      },
      "source": [
        "# our layers, you can add more if you want\r\n",
        "x = Flatten()(vgg.output)\r\n",
        "\r\n",
        "predictions = Dense(len(folders), activation='softmax')(x)  # add four categories with softmax which we already find out above"
      ],
      "execution_count": 9,
      "outputs": []
    },
    {
      "cell_type": "code",
      "metadata": {
        "colab": {
          "base_uri": "https://localhost:8080/"
        },
        "id": "mK-K6xjufB2w",
        "outputId": "5c2ee8b5-bd0d-4a7b-f8d5-acdc52a08379"
      },
      "source": [
        "# create model object\r\n",
        "model = Model(inputs=vgg.input, outputs=predictions)\r\n",
        "\r\n",
        "# view structure of the model\r\n",
        "model.summary()\r\n",
        "\r\n",
        "# tell model what cost and optimization method to use\r\n",
        "model.compile(\r\n",
        "    optimizer='adam',\r\n",
        "    loss='categorical_crossentropy',\r\n",
        "    metrics=['accuracy']\r\n",
        "    )"
      ],
      "execution_count": 11,
      "outputs": [
        {
          "output_type": "stream",
          "text": [
            "Model: \"model\"\n",
            "_________________________________________________________________\n",
            "Layer (type)                 Output Shape              Param #   \n",
            "=================================================================\n",
            "input_1 (InputLayer)         [(None, 244, 244, 3)]     0         \n",
            "_________________________________________________________________\n",
            "block1_conv1 (Conv2D)        (None, 244, 244, 64)      1792      \n",
            "_________________________________________________________________\n",
            "block1_conv2 (Conv2D)        (None, 244, 244, 64)      36928     \n",
            "_________________________________________________________________\n",
            "block1_pool (MaxPooling2D)   (None, 122, 122, 64)      0         \n",
            "_________________________________________________________________\n",
            "block2_conv1 (Conv2D)        (None, 122, 122, 128)     73856     \n",
            "_________________________________________________________________\n",
            "block2_conv2 (Conv2D)        (None, 122, 122, 128)     147584    \n",
            "_________________________________________________________________\n",
            "block2_pool (MaxPooling2D)   (None, 61, 61, 128)       0         \n",
            "_________________________________________________________________\n",
            "block3_conv1 (Conv2D)        (None, 61, 61, 256)       295168    \n",
            "_________________________________________________________________\n",
            "block3_conv2 (Conv2D)        (None, 61, 61, 256)       590080    \n",
            "_________________________________________________________________\n",
            "block3_conv3 (Conv2D)        (None, 61, 61, 256)       590080    \n",
            "_________________________________________________________________\n",
            "block3_pool (MaxPooling2D)   (None, 30, 30, 256)       0         \n",
            "_________________________________________________________________\n",
            "block4_conv1 (Conv2D)        (None, 30, 30, 512)       1180160   \n",
            "_________________________________________________________________\n",
            "block4_conv2 (Conv2D)        (None, 30, 30, 512)       2359808   \n",
            "_________________________________________________________________\n",
            "block4_conv3 (Conv2D)        (None, 30, 30, 512)       2359808   \n",
            "_________________________________________________________________\n",
            "block4_pool (MaxPooling2D)   (None, 15, 15, 512)       0         \n",
            "_________________________________________________________________\n",
            "block5_conv1 (Conv2D)        (None, 15, 15, 512)       2359808   \n",
            "_________________________________________________________________\n",
            "block5_conv2 (Conv2D)        (None, 15, 15, 512)       2359808   \n",
            "_________________________________________________________________\n",
            "block5_conv3 (Conv2D)        (None, 15, 15, 512)       2359808   \n",
            "_________________________________________________________________\n",
            "block5_pool (MaxPooling2D)   (None, 7, 7, 512)         0         \n",
            "_________________________________________________________________\n",
            "flatten (Flatten)            (None, 25088)             0         \n",
            "_________________________________________________________________\n",
            "dense (Dense)                (None, 0)                 0         \n",
            "=================================================================\n",
            "Total params: 14,714,688\n",
            "Trainable params: 0\n",
            "Non-trainable params: 14,714,688\n",
            "_________________________________________________________________\n"
          ],
          "name": "stdout"
        }
      ]
    },
    {
      "cell_type": "code",
      "metadata": {
        "id": "W2k6baPlfq79"
      },
      "source": [
        "# Image Augmentation\r\n",
        "train_datagen = ImageDataGenerator(rescale=1/255.0,\r\n",
        "                                   shear_range=0.2,\r\n",
        "                                   zoom_range=0.2,\r\n",
        "                                   horizontal_flip=True)\r\n",
        "\r\n",
        "test_datagen = ImageDataGenerator(rescale=1/255.0)"
      ],
      "execution_count": 13,
      "outputs": []
    },
    {
      "cell_type": "code",
      "metadata": {
        "id": "MfIZfq-0ixZb"
      },
      "source": [
        "# generate the images in directory\r\n",
        "training_set = train_datagen.flow_from_directory('Datasets/Train',\r\n",
        "                                                 target_size=(224, 224),\r\n",
        "                                                 batch_size=32,\r\n",
        "                                                 class_mode = 'categorical')\r\n",
        "\r\n",
        "test_set = test_datagen.flow_from_directory('Datasets/Test',\r\n",
        "                                            target_size=(224, 224),\r\n",
        "                                            batch_size=32,\r\n",
        "                                            class_mode = 'categorical')"
      ],
      "execution_count": null,
      "outputs": []
    },
    {
      "cell_type": "code",
      "metadata": {
        "id": "kelFTVTyixWy"
      },
      "source": [
        "# fit the model\r\n",
        "'''r=model.fit_generator(training_set,\r\n",
        "                         samples_per_epoch = 8000,\r\n",
        "                         nb_epoch = 5,\r\n",
        "                         validation_data = test_set,\r\n",
        "                         nb_val_samples = 2000)'''\r\n",
        "\r\n",
        "# fit_generator is used when either we have a huge dataset to fit into our memory \r\n",
        "# or when data augmentation needs to be applied.\r\n",
        "\r\n",
        "r = model.fit_generator(training set,\r\n",
        "                        validation_set=test_set,\r\n",
        "                        epochs=5,\r\n",
        "                        steps_per_epoch=len(training_set),\r\n",
        "                        validation_steps=len(test_set)\r\n",
        "                        )"
      ],
      "execution_count": null,
      "outputs": []
    },
    {
      "cell_type": "code",
      "metadata": {
        "id": "oPbyyHMtixTq"
      },
      "source": [
        "# loss\r\n",
        "plt.plot(r.history['loss'], label='train_loss')\r\n",
        "plt.plot(r.history['val_loss'], label='val_loss')\r\n",
        "plt.legend()\r\n",
        "plt.show()\r\n",
        "plt.savefig('LossVal_loss')\r\n",
        "\r\n",
        "# accuracies\r\n",
        "plt.plot(r.history['acc'], label='train_acc')\r\n",
        "plt.plot(r.history['val_acc'], label='val_acc')\r\n",
        "plt.legend()\r\n",
        "plt.show()\r\n",
        "plt.savefig('AccVal_acc')"
      ],
      "execution_count": null,
      "outputs": []
    },
    {
      "cell_type": "code",
      "metadata": {
        "id": "nU7KrssQixQi"
      },
      "source": [
        "# save the model\r\n",
        "from keras.models import load_model\r\n",
        "model.save('facesfeatures_new_model.h5')"
      ],
      "execution_count": null,
      "outputs": []
    },
    {
      "cell_type": "code",
      "metadata": {
        "id": "SxFWHAckixMj"
      },
      "source": [
        ""
      ],
      "execution_count": null,
      "outputs": []
    }
  ]
}