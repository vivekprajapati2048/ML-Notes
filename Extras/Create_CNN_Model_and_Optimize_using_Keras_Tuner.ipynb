{
  "nbformat": 4,
  "nbformat_minor": 0,
  "metadata": {
    "colab": {
      "name": "Create CNN Model and Optimize using Keras Tuner",
      "provenance": [],
      "collapsed_sections": []
    },
    "kernelspec": {
      "name": "python3",
      "display_name": "Python 3"
    }
  },
  "cells": [
    {
      "cell_type": "code",
      "metadata": {
        "id": "ZKnuNcd1UTUj"
      },
      "source": [
        "import tensorflow as tf\r\n",
        "from tensorflow import keras\r\n",
        "import numpy as np"
      ],
      "execution_count": 1,
      "outputs": []
    },
    {
      "cell_type": "code",
      "metadata": {
        "id": "Q0TMtlBjVHFv"
      },
      "source": [
        "fashion_mnist = keras.datasets.fashion_mnist"
      ],
      "execution_count": 3,
      "outputs": []
    },
    {
      "cell_type": "code",
      "metadata": {
        "id": "TkiHC3-qVOgL"
      },
      "source": [
        "(train_images, train_labels), (test_images, test_labels) = fashion_mnist.load_data()"
      ],
      "execution_count": 4,
      "outputs": []
    },
    {
      "cell_type": "code",
      "metadata": {
        "id": "1VPwd_XnVl1O"
      },
      "source": [
        "train_images = train_images / 255.0\r\n",
        "test_images = test_images/255.0"
      ],
      "execution_count": 5,
      "outputs": []
    },
    {
      "cell_type": "code",
      "metadata": {
        "colab": {
          "base_uri": "https://localhost:8080/"
        },
        "id": "GcXXZcXJV5Om",
        "outputId": "bfcf6dab-4673-4b57-b12f-1343b818c29d"
      },
      "source": [
        "train_images[0].shape"
      ],
      "execution_count": 6,
      "outputs": [
        {
          "output_type": "execute_result",
          "data": {
            "text/plain": [
              "(28, 28)"
            ]
          },
          "metadata": {
            "tags": []
          },
          "execution_count": 6
        }
      ]
    },
    {
      "cell_type": "code",
      "metadata": {
        "id": "gSru13SqWI-4"
      },
      "source": [
        "train_images = train_images.reshape(len(train_images), 28, 28, 1)\r\n",
        "test_images = test_images.reshape(len(test_images), 28, 28, 1)"
      ],
      "execution_count": 7,
      "outputs": []
    },
    {
      "cell_type": "code",
      "metadata": {
        "id": "V4FRPyHDWWqo"
      },
      "source": [
        "def build_model(hp):\r\n",
        "  model = keras.Sequential([\r\n",
        "                            keras.layers.Conv2D(\r\n",
        "                                filters = hp.Int('conv_1_filter', min_value=32, max_values=128, step=16),\r\n",
        "                                kernel_size=hp.Choice('conv_1_kernel', values=[3,5]),\r\n",
        "                                activation='relu',\r\n",
        "                                input_shape=(28,28,1)\r\n",
        "                            ),\r\n",
        "\r\n",
        "                            keras.layers.Conv2D(\r\n",
        "                                filters = hp.Int('conv_2_filter', min_value=32, max_values=64, step=16),\r\n",
        "                                kernel_size=hp.Choice('conv_2_kernel', values=[3,5]),\r\n",
        "                                activation='relu'\r\n",
        "                            ),\r\n",
        "\r\n",
        "                            keras.layers.Flatten(),\r\n",
        "\r\n",
        "                            keras.layers.Dense(\r\n",
        "                                units=hp.Int('dense_1_units', min_value=32, max_value=128, step=16),\r\n",
        "                                activation='relu'   \r\n",
        "                            ),\r\n",
        "\r\n",
        "                            keras.layers.Dense(10, activation='softmax')\r\n",
        "                            ])\r\n",
        "  \r\n",
        "\r\n",
        "  model.compile(optimizer=keras.optimizer.Adam(hp.Choice('learning_rate', values=[1e-2, 1e-3])),\r\n",
        "                loss='sparse_categorical_crossentropy',\r\n",
        "                metrics=['accuracy'])\r\n",
        "  return model"
      ],
      "execution_count": 8,
      "outputs": []
    },
    {
      "cell_type": "code",
      "metadata": {
        "id": "x56ecnIvamMF"
      },
      "source": [
        "pip install -U keras-tuner"
      ],
      "execution_count": null,
      "outputs": []
    },
    {
      "cell_type": "code",
      "metadata": {
        "id": "bOIyhRJkaKoG"
      },
      "source": [
        "from kerastuner import RandomSearch\r\n",
        "from kerastuner.engine.hyperparameters import HyperParameters"
      ],
      "execution_count": 10,
      "outputs": []
    },
    {
      "cell_type": "code",
      "metadata": {
        "id": "z9MKsgasft20"
      },
      "source": [
        "tuner_search = RandomSearch(build_model,\r\n",
        "                            objective='val_accuracy',\r\n",
        "                            max_trials=5,\r\n",
        "                            directory='output',\r\n",
        "                            project_name='Mnist_Fashion')"
      ],
      "execution_count": null,
      "outputs": []
    },
    {
      "cell_type": "code",
      "metadata": {
        "id": "9OTCxElZfvwV"
      },
      "source": [
        "tuner_search.search(train_images,\r\n",
        "                    train_labels,\r\n",
        "                    epochs=3,\r\n",
        "                    validation_split=0.1)"
      ],
      "execution_count": null,
      "outputs": []
    },
    {
      "cell_type": "code",
      "metadata": {
        "id": "ekuYd8JXfkf2"
      },
      "source": [
        "model = tuner_search.get_best_models(num_models=1)[0]"
      ],
      "execution_count": null,
      "outputs": []
    },
    {
      "cell_type": "code",
      "metadata": {
        "id": "vsuVpywXgz1D"
      },
      "source": [
        "model.summary()"
      ],
      "execution_count": null,
      "outputs": []
    },
    {
      "cell_type": "code",
      "metadata": {
        "id": "IVgK6SWwhEAc"
      },
      "source": [
        "model.fit(train_images,\r\n",
        "          train_labels,\r\n",
        "          epochs=10,\r\n",
        "          validation_split=0.1,\r\n",
        "          initial_epoch=3)"
      ],
      "execution_count": null,
      "outputs": []
    },
    {
      "cell_type": "code",
      "metadata": {
        "id": "xbQQh0ZshU2i"
      },
      "source": [
        ""
      ],
      "execution_count": null,
      "outputs": []
    }
  ]
}