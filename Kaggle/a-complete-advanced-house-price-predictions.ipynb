{
 "cells": [
  {
   "cell_type": "code",
   "execution_count": 1,
   "metadata": {
    "_cell_guid": "b1076dfc-b9ad-4769-8c92-a6c4dae69d19",
    "_uuid": "8f2839f25d086af736a60e9eeb907d3b93b6e0e5",
    "execution": {
     "iopub.execute_input": "2020-11-08T14:11:20.508781Z",
     "iopub.status.busy": "2020-11-08T14:11:20.507605Z",
     "iopub.status.idle": "2020-11-08T14:11:20.512921Z",
     "shell.execute_reply": "2020-11-08T14:11:20.512026Z"
    },
    "papermill": {
     "duration": 0.14207,
     "end_time": "2020-11-08T14:11:20.513096",
     "exception": false,
     "start_time": "2020-11-08T14:11:20.371026",
     "status": "completed"
    },
    "tags": []
   },
   "outputs": [
    {
     "name": "stdout",
     "output_type": "stream",
     "text": [
      "/kaggle/input/house-prices-advanced-regression-techniques/data_description.txt\n",
      "/kaggle/input/house-prices-advanced-regression-techniques/sample_submission.csv\n",
      "/kaggle/input/house-prices-advanced-regression-techniques/test.csv\n",
      "/kaggle/input/house-prices-advanced-regression-techniques/train.csv\n"
     ]
    }
   ],
   "source": [
    "# This Python 3 environment comes with many helpful analytics libraries installed\n",
    "# It is defined by the kaggle/python Docker image: https://github.com/kaggle/docker-python\n",
    "# For example, here's several helpful packages to load\n",
    "\n",
    "import numpy as np # linear algebra\n",
    "import pandas as pd # data processing, CSV file I/O (e.g. pd.read_csv)\n",
    "\n",
    "# Input data files are available in the read-only \"../input/\" directory\n",
    "# For example, running this (by clicking run or pressing Shift+Enter) will list all files under the input directory\n",
    "\n",
    "import os\n",
    "for dirname, _, filenames in os.walk('/kaggle/input'):\n",
    "    for filename in filenames:\n",
    "        print(os.path.join(dirname, filename))\n",
    "\n",
    "# You can write up to 5GB to the current directory (/kaggle/working/) that gets preserved as output when you create a version using \"Save & Run All\" \n",
    "# You can also write temporary files to /kaggle/temp/, but they won't be saved outside of the current session"
   ]
  },
  {
   "cell_type": "markdown",
   "metadata": {
    "papermill": {
     "duration": 0.126031,
     "end_time": "2020-11-08T14:11:20.773002",
     "exception": false,
     "start_time": "2020-11-08T14:11:20.646971",
     "status": "completed"
    },
    "tags": []
   },
   "source": [
    "## Import Dependencies"
   ]
  },
  {
   "cell_type": "code",
   "execution_count": 2,
   "metadata": {
    "_cell_guid": "79c7e3d0-c299-4dcb-8224-4455121ee9b0",
    "_uuid": "d629ff2d2480ee46fbb7e2d37f6b5fab8052498a",
    "execution": {
     "iopub.execute_input": "2020-11-08T14:11:21.033606Z",
     "iopub.status.busy": "2020-11-08T14:11:21.032796Z",
     "iopub.status.idle": "2020-11-08T14:11:22.082796Z",
     "shell.execute_reply": "2020-11-08T14:11:22.082020Z"
    },
    "papermill": {
     "duration": 1.184036,
     "end_time": "2020-11-08T14:11:22.082926",
     "exception": false,
     "start_time": "2020-11-08T14:11:20.898890",
     "status": "completed"
    },
    "tags": []
   },
   "outputs": [],
   "source": [
    "import pandas as pd\n",
    "import numpy as np\n",
    "import  matplotlib.pyplot as plt\n",
    "import seaborn as sns\n",
    "%matplotlib inline\n",
    "\n",
    "pd.pandas.set_option('display.max_columns', None)\n",
    "\n",
    "import warnings"
   ]
  },
  {
   "cell_type": "markdown",
   "metadata": {
    "papermill": {
     "duration": 0.127577,
     "end_time": "2020-11-08T14:11:22.339620",
     "exception": false,
     "start_time": "2020-11-08T14:11:22.212043",
     "status": "completed"
    },
    "tags": []
   },
   "source": [
    "### Understanding the data"
   ]
  },
  {
   "cell_type": "code",
   "execution_count": 3,
   "metadata": {
    "execution": {
     "iopub.execute_input": "2020-11-08T14:11:22.608757Z",
     "iopub.status.busy": "2020-11-08T14:11:22.607517Z",
     "iopub.status.idle": "2020-11-08T14:11:22.677493Z",
     "shell.execute_reply": "2020-11-08T14:11:22.676707Z"
    },
    "papermill": {
     "duration": 0.210532,
     "end_time": "2020-11-08T14:11:22.677623",
     "exception": false,
     "start_time": "2020-11-08T14:11:22.467091",
     "status": "completed"
    },
    "tags": []
   },
   "outputs": [
    {
     "name": "stdout",
     "output_type": "stream",
     "text": [
      "Training set shape: (1460, 81)\n",
      "Testing set shape: (1459, 80)\n"
     ]
    }
   ],
   "source": [
    "df_train = pd.read_csv('../input/house-prices-advanced-regression-techniques/train.csv')\n",
    "print('Training set shape:', df_train.shape)\n",
    "\n",
    "df_test = pd.read_csv('../input/house-prices-advanced-regression-techniques/test.csv')\n",
    "print('Testing set shape:', df_test.shape)"
   ]
  },
  {
   "cell_type": "code",
   "execution_count": 4,
   "metadata": {
    "execution": {
     "iopub.execute_input": "2020-11-08T14:11:22.975686Z",
     "iopub.status.busy": "2020-11-08T14:11:22.974882Z",
     "iopub.status.idle": "2020-11-08T14:11:23.015849Z",
     "shell.execute_reply": "2020-11-08T14:11:23.016463Z"
    },
    "papermill": {
     "duration": 0.210908,
     "end_time": "2020-11-08T14:11:23.016622",
     "exception": false,
     "start_time": "2020-11-08T14:11:22.805714",
     "status": "completed"
    },
    "tags": []
   },
   "outputs": [
    {
     "data": {
      "text/html": [
       "<div>\n",
       "<style scoped>\n",
       "    .dataframe tbody tr th:only-of-type {\n",
       "        vertical-align: middle;\n",
       "    }\n",
       "\n",
       "    .dataframe tbody tr th {\n",
       "        vertical-align: top;\n",
       "    }\n",
       "\n",
       "    .dataframe thead th {\n",
       "        text-align: right;\n",
       "    }\n",
       "</style>\n",
       "<table border=\"1\" class=\"dataframe\">\n",
       "  <thead>\n",
       "    <tr style=\"text-align: right;\">\n",
       "      <th></th>\n",
       "      <th>Id</th>\n",
       "      <th>MSSubClass</th>\n",
       "      <th>MSZoning</th>\n",
       "      <th>LotFrontage</th>\n",
       "      <th>LotArea</th>\n",
       "      <th>Street</th>\n",
       "      <th>Alley</th>\n",
       "      <th>LotShape</th>\n",
       "      <th>LandContour</th>\n",
       "      <th>Utilities</th>\n",
       "      <th>LotConfig</th>\n",
       "      <th>LandSlope</th>\n",
       "      <th>Neighborhood</th>\n",
       "      <th>Condition1</th>\n",
       "      <th>Condition2</th>\n",
       "      <th>BldgType</th>\n",
       "      <th>HouseStyle</th>\n",
       "      <th>OverallQual</th>\n",
       "      <th>OverallCond</th>\n",
       "      <th>YearBuilt</th>\n",
       "      <th>YearRemodAdd</th>\n",
       "      <th>RoofStyle</th>\n",
       "      <th>RoofMatl</th>\n",
       "      <th>Exterior1st</th>\n",
       "      <th>Exterior2nd</th>\n",
       "      <th>MasVnrType</th>\n",
       "      <th>MasVnrArea</th>\n",
       "      <th>ExterQual</th>\n",
       "      <th>ExterCond</th>\n",
       "      <th>Foundation</th>\n",
       "      <th>BsmtQual</th>\n",
       "      <th>BsmtCond</th>\n",
       "      <th>BsmtExposure</th>\n",
       "      <th>BsmtFinType1</th>\n",
       "      <th>BsmtFinSF1</th>\n",
       "      <th>BsmtFinType2</th>\n",
       "      <th>BsmtFinSF2</th>\n",
       "      <th>BsmtUnfSF</th>\n",
       "      <th>TotalBsmtSF</th>\n",
       "      <th>Heating</th>\n",
       "      <th>HeatingQC</th>\n",
       "      <th>CentralAir</th>\n",
       "      <th>Electrical</th>\n",
       "      <th>1stFlrSF</th>\n",
       "      <th>2ndFlrSF</th>\n",
       "      <th>LowQualFinSF</th>\n",
       "      <th>GrLivArea</th>\n",
       "      <th>BsmtFullBath</th>\n",
       "      <th>BsmtHalfBath</th>\n",
       "      <th>FullBath</th>\n",
       "      <th>HalfBath</th>\n",
       "      <th>BedroomAbvGr</th>\n",
       "      <th>KitchenAbvGr</th>\n",
       "      <th>KitchenQual</th>\n",
       "      <th>TotRmsAbvGrd</th>\n",
       "      <th>Functional</th>\n",
       "      <th>Fireplaces</th>\n",
       "      <th>FireplaceQu</th>\n",
       "      <th>GarageType</th>\n",
       "      <th>GarageYrBlt</th>\n",
       "      <th>GarageFinish</th>\n",
       "      <th>GarageCars</th>\n",
       "      <th>GarageArea</th>\n",
       "      <th>GarageQual</th>\n",
       "      <th>GarageCond</th>\n",
       "      <th>PavedDrive</th>\n",
       "      <th>WoodDeckSF</th>\n",
       "      <th>OpenPorchSF</th>\n",
       "      <th>EnclosedPorch</th>\n",
       "      <th>3SsnPorch</th>\n",
       "      <th>ScreenPorch</th>\n",
       "      <th>PoolArea</th>\n",
       "      <th>PoolQC</th>\n",
       "      <th>Fence</th>\n",
       "      <th>MiscFeature</th>\n",
       "      <th>MiscVal</th>\n",
       "      <th>MoSold</th>\n",
       "      <th>YrSold</th>\n",
       "      <th>SaleType</th>\n",
       "      <th>SaleCondition</th>\n",
       "      <th>SalePrice</th>\n",
       "    </tr>\n",
       "  </thead>\n",
       "  <tbody>\n",
       "    <tr>\n",
       "      <th>0</th>\n",
       "      <td>1</td>\n",
       "      <td>60</td>\n",
       "      <td>RL</td>\n",
       "      <td>65.0</td>\n",
       "      <td>8450</td>\n",
       "      <td>Pave</td>\n",
       "      <td>NaN</td>\n",
       "      <td>Reg</td>\n",
       "      <td>Lvl</td>\n",
       "      <td>AllPub</td>\n",
       "      <td>Inside</td>\n",
       "      <td>Gtl</td>\n",
       "      <td>CollgCr</td>\n",
       "      <td>Norm</td>\n",
       "      <td>Norm</td>\n",
       "      <td>1Fam</td>\n",
       "      <td>2Story</td>\n",
       "      <td>7</td>\n",
       "      <td>5</td>\n",
       "      <td>2003</td>\n",
       "      <td>2003</td>\n",
       "      <td>Gable</td>\n",
       "      <td>CompShg</td>\n",
       "      <td>VinylSd</td>\n",
       "      <td>VinylSd</td>\n",
       "      <td>BrkFace</td>\n",
       "      <td>196.0</td>\n",
       "      <td>Gd</td>\n",
       "      <td>TA</td>\n",
       "      <td>PConc</td>\n",
       "      <td>Gd</td>\n",
       "      <td>TA</td>\n",
       "      <td>No</td>\n",
       "      <td>GLQ</td>\n",
       "      <td>706</td>\n",
       "      <td>Unf</td>\n",
       "      <td>0</td>\n",
       "      <td>150</td>\n",
       "      <td>856</td>\n",
       "      <td>GasA</td>\n",
       "      <td>Ex</td>\n",
       "      <td>Y</td>\n",
       "      <td>SBrkr</td>\n",
       "      <td>856</td>\n",
       "      <td>854</td>\n",
       "      <td>0</td>\n",
       "      <td>1710</td>\n",
       "      <td>1</td>\n",
       "      <td>0</td>\n",
       "      <td>2</td>\n",
       "      <td>1</td>\n",
       "      <td>3</td>\n",
       "      <td>1</td>\n",
       "      <td>Gd</td>\n",
       "      <td>8</td>\n",
       "      <td>Typ</td>\n",
       "      <td>0</td>\n",
       "      <td>NaN</td>\n",
       "      <td>Attchd</td>\n",
       "      <td>2003.0</td>\n",
       "      <td>RFn</td>\n",
       "      <td>2</td>\n",
       "      <td>548</td>\n",
       "      <td>TA</td>\n",
       "      <td>TA</td>\n",
       "      <td>Y</td>\n",
       "      <td>0</td>\n",
       "      <td>61</td>\n",
       "      <td>0</td>\n",
       "      <td>0</td>\n",
       "      <td>0</td>\n",
       "      <td>0</td>\n",
       "      <td>NaN</td>\n",
       "      <td>NaN</td>\n",
       "      <td>NaN</td>\n",
       "      <td>0</td>\n",
       "      <td>2</td>\n",
       "      <td>2008</td>\n",
       "      <td>WD</td>\n",
       "      <td>Normal</td>\n",
       "      <td>208500</td>\n",
       "    </tr>\n",
       "    <tr>\n",
       "      <th>1</th>\n",
       "      <td>2</td>\n",
       "      <td>20</td>\n",
       "      <td>RL</td>\n",
       "      <td>80.0</td>\n",
       "      <td>9600</td>\n",
       "      <td>Pave</td>\n",
       "      <td>NaN</td>\n",
       "      <td>Reg</td>\n",
       "      <td>Lvl</td>\n",
       "      <td>AllPub</td>\n",
       "      <td>FR2</td>\n",
       "      <td>Gtl</td>\n",
       "      <td>Veenker</td>\n",
       "      <td>Feedr</td>\n",
       "      <td>Norm</td>\n",
       "      <td>1Fam</td>\n",
       "      <td>1Story</td>\n",
       "      <td>6</td>\n",
       "      <td>8</td>\n",
       "      <td>1976</td>\n",
       "      <td>1976</td>\n",
       "      <td>Gable</td>\n",
       "      <td>CompShg</td>\n",
       "      <td>MetalSd</td>\n",
       "      <td>MetalSd</td>\n",
       "      <td>None</td>\n",
       "      <td>0.0</td>\n",
       "      <td>TA</td>\n",
       "      <td>TA</td>\n",
       "      <td>CBlock</td>\n",
       "      <td>Gd</td>\n",
       "      <td>TA</td>\n",
       "      <td>Gd</td>\n",
       "      <td>ALQ</td>\n",
       "      <td>978</td>\n",
       "      <td>Unf</td>\n",
       "      <td>0</td>\n",
       "      <td>284</td>\n",
       "      <td>1262</td>\n",
       "      <td>GasA</td>\n",
       "      <td>Ex</td>\n",
       "      <td>Y</td>\n",
       "      <td>SBrkr</td>\n",
       "      <td>1262</td>\n",
       "      <td>0</td>\n",
       "      <td>0</td>\n",
       "      <td>1262</td>\n",
       "      <td>0</td>\n",
       "      <td>1</td>\n",
       "      <td>2</td>\n",
       "      <td>0</td>\n",
       "      <td>3</td>\n",
       "      <td>1</td>\n",
       "      <td>TA</td>\n",
       "      <td>6</td>\n",
       "      <td>Typ</td>\n",
       "      <td>1</td>\n",
       "      <td>TA</td>\n",
       "      <td>Attchd</td>\n",
       "      <td>1976.0</td>\n",
       "      <td>RFn</td>\n",
       "      <td>2</td>\n",
       "      <td>460</td>\n",
       "      <td>TA</td>\n",
       "      <td>TA</td>\n",
       "      <td>Y</td>\n",
       "      <td>298</td>\n",
       "      <td>0</td>\n",
       "      <td>0</td>\n",
       "      <td>0</td>\n",
       "      <td>0</td>\n",
       "      <td>0</td>\n",
       "      <td>NaN</td>\n",
       "      <td>NaN</td>\n",
       "      <td>NaN</td>\n",
       "      <td>0</td>\n",
       "      <td>5</td>\n",
       "      <td>2007</td>\n",
       "      <td>WD</td>\n",
       "      <td>Normal</td>\n",
       "      <td>181500</td>\n",
       "    </tr>\n",
       "    <tr>\n",
       "      <th>2</th>\n",
       "      <td>3</td>\n",
       "      <td>60</td>\n",
       "      <td>RL</td>\n",
       "      <td>68.0</td>\n",
       "      <td>11250</td>\n",
       "      <td>Pave</td>\n",
       "      <td>NaN</td>\n",
       "      <td>IR1</td>\n",
       "      <td>Lvl</td>\n",
       "      <td>AllPub</td>\n",
       "      <td>Inside</td>\n",
       "      <td>Gtl</td>\n",
       "      <td>CollgCr</td>\n",
       "      <td>Norm</td>\n",
       "      <td>Norm</td>\n",
       "      <td>1Fam</td>\n",
       "      <td>2Story</td>\n",
       "      <td>7</td>\n",
       "      <td>5</td>\n",
       "      <td>2001</td>\n",
       "      <td>2002</td>\n",
       "      <td>Gable</td>\n",
       "      <td>CompShg</td>\n",
       "      <td>VinylSd</td>\n",
       "      <td>VinylSd</td>\n",
       "      <td>BrkFace</td>\n",
       "      <td>162.0</td>\n",
       "      <td>Gd</td>\n",
       "      <td>TA</td>\n",
       "      <td>PConc</td>\n",
       "      <td>Gd</td>\n",
       "      <td>TA</td>\n",
       "      <td>Mn</td>\n",
       "      <td>GLQ</td>\n",
       "      <td>486</td>\n",
       "      <td>Unf</td>\n",
       "      <td>0</td>\n",
       "      <td>434</td>\n",
       "      <td>920</td>\n",
       "      <td>GasA</td>\n",
       "      <td>Ex</td>\n",
       "      <td>Y</td>\n",
       "      <td>SBrkr</td>\n",
       "      <td>920</td>\n",
       "      <td>866</td>\n",
       "      <td>0</td>\n",
       "      <td>1786</td>\n",
       "      <td>1</td>\n",
       "      <td>0</td>\n",
       "      <td>2</td>\n",
       "      <td>1</td>\n",
       "      <td>3</td>\n",
       "      <td>1</td>\n",
       "      <td>Gd</td>\n",
       "      <td>6</td>\n",
       "      <td>Typ</td>\n",
       "      <td>1</td>\n",
       "      <td>TA</td>\n",
       "      <td>Attchd</td>\n",
       "      <td>2001.0</td>\n",
       "      <td>RFn</td>\n",
       "      <td>2</td>\n",
       "      <td>608</td>\n",
       "      <td>TA</td>\n",
       "      <td>TA</td>\n",
       "      <td>Y</td>\n",
       "      <td>0</td>\n",
       "      <td>42</td>\n",
       "      <td>0</td>\n",
       "      <td>0</td>\n",
       "      <td>0</td>\n",
       "      <td>0</td>\n",
       "      <td>NaN</td>\n",
       "      <td>NaN</td>\n",
       "      <td>NaN</td>\n",
       "      <td>0</td>\n",
       "      <td>9</td>\n",
       "      <td>2008</td>\n",
       "      <td>WD</td>\n",
       "      <td>Normal</td>\n",
       "      <td>223500</td>\n",
       "    </tr>\n",
       "    <tr>\n",
       "      <th>3</th>\n",
       "      <td>4</td>\n",
       "      <td>70</td>\n",
       "      <td>RL</td>\n",
       "      <td>60.0</td>\n",
       "      <td>9550</td>\n",
       "      <td>Pave</td>\n",
       "      <td>NaN</td>\n",
       "      <td>IR1</td>\n",
       "      <td>Lvl</td>\n",
       "      <td>AllPub</td>\n",
       "      <td>Corner</td>\n",
       "      <td>Gtl</td>\n",
       "      <td>Crawfor</td>\n",
       "      <td>Norm</td>\n",
       "      <td>Norm</td>\n",
       "      <td>1Fam</td>\n",
       "      <td>2Story</td>\n",
       "      <td>7</td>\n",
       "      <td>5</td>\n",
       "      <td>1915</td>\n",
       "      <td>1970</td>\n",
       "      <td>Gable</td>\n",
       "      <td>CompShg</td>\n",
       "      <td>Wd Sdng</td>\n",
       "      <td>Wd Shng</td>\n",
       "      <td>None</td>\n",
       "      <td>0.0</td>\n",
       "      <td>TA</td>\n",
       "      <td>TA</td>\n",
       "      <td>BrkTil</td>\n",
       "      <td>TA</td>\n",
       "      <td>Gd</td>\n",
       "      <td>No</td>\n",
       "      <td>ALQ</td>\n",
       "      <td>216</td>\n",
       "      <td>Unf</td>\n",
       "      <td>0</td>\n",
       "      <td>540</td>\n",
       "      <td>756</td>\n",
       "      <td>GasA</td>\n",
       "      <td>Gd</td>\n",
       "      <td>Y</td>\n",
       "      <td>SBrkr</td>\n",
       "      <td>961</td>\n",
       "      <td>756</td>\n",
       "      <td>0</td>\n",
       "      <td>1717</td>\n",
       "      <td>1</td>\n",
       "      <td>0</td>\n",
       "      <td>1</td>\n",
       "      <td>0</td>\n",
       "      <td>3</td>\n",
       "      <td>1</td>\n",
       "      <td>Gd</td>\n",
       "      <td>7</td>\n",
       "      <td>Typ</td>\n",
       "      <td>1</td>\n",
       "      <td>Gd</td>\n",
       "      <td>Detchd</td>\n",
       "      <td>1998.0</td>\n",
       "      <td>Unf</td>\n",
       "      <td>3</td>\n",
       "      <td>642</td>\n",
       "      <td>TA</td>\n",
       "      <td>TA</td>\n",
       "      <td>Y</td>\n",
       "      <td>0</td>\n",
       "      <td>35</td>\n",
       "      <td>272</td>\n",
       "      <td>0</td>\n",
       "      <td>0</td>\n",
       "      <td>0</td>\n",
       "      <td>NaN</td>\n",
       "      <td>NaN</td>\n",
       "      <td>NaN</td>\n",
       "      <td>0</td>\n",
       "      <td>2</td>\n",
       "      <td>2006</td>\n",
       "      <td>WD</td>\n",
       "      <td>Abnorml</td>\n",
       "      <td>140000</td>\n",
       "    </tr>\n",
       "    <tr>\n",
       "      <th>4</th>\n",
       "      <td>5</td>\n",
       "      <td>60</td>\n",
       "      <td>RL</td>\n",
       "      <td>84.0</td>\n",
       "      <td>14260</td>\n",
       "      <td>Pave</td>\n",
       "      <td>NaN</td>\n",
       "      <td>IR1</td>\n",
       "      <td>Lvl</td>\n",
       "      <td>AllPub</td>\n",
       "      <td>FR2</td>\n",
       "      <td>Gtl</td>\n",
       "      <td>NoRidge</td>\n",
       "      <td>Norm</td>\n",
       "      <td>Norm</td>\n",
       "      <td>1Fam</td>\n",
       "      <td>2Story</td>\n",
       "      <td>8</td>\n",
       "      <td>5</td>\n",
       "      <td>2000</td>\n",
       "      <td>2000</td>\n",
       "      <td>Gable</td>\n",
       "      <td>CompShg</td>\n",
       "      <td>VinylSd</td>\n",
       "      <td>VinylSd</td>\n",
       "      <td>BrkFace</td>\n",
       "      <td>350.0</td>\n",
       "      <td>Gd</td>\n",
       "      <td>TA</td>\n",
       "      <td>PConc</td>\n",
       "      <td>Gd</td>\n",
       "      <td>TA</td>\n",
       "      <td>Av</td>\n",
       "      <td>GLQ</td>\n",
       "      <td>655</td>\n",
       "      <td>Unf</td>\n",
       "      <td>0</td>\n",
       "      <td>490</td>\n",
       "      <td>1145</td>\n",
       "      <td>GasA</td>\n",
       "      <td>Ex</td>\n",
       "      <td>Y</td>\n",
       "      <td>SBrkr</td>\n",
       "      <td>1145</td>\n",
       "      <td>1053</td>\n",
       "      <td>0</td>\n",
       "      <td>2198</td>\n",
       "      <td>1</td>\n",
       "      <td>0</td>\n",
       "      <td>2</td>\n",
       "      <td>1</td>\n",
       "      <td>4</td>\n",
       "      <td>1</td>\n",
       "      <td>Gd</td>\n",
       "      <td>9</td>\n",
       "      <td>Typ</td>\n",
       "      <td>1</td>\n",
       "      <td>TA</td>\n",
       "      <td>Attchd</td>\n",
       "      <td>2000.0</td>\n",
       "      <td>RFn</td>\n",
       "      <td>3</td>\n",
       "      <td>836</td>\n",
       "      <td>TA</td>\n",
       "      <td>TA</td>\n",
       "      <td>Y</td>\n",
       "      <td>192</td>\n",
       "      <td>84</td>\n",
       "      <td>0</td>\n",
       "      <td>0</td>\n",
       "      <td>0</td>\n",
       "      <td>0</td>\n",
       "      <td>NaN</td>\n",
       "      <td>NaN</td>\n",
       "      <td>NaN</td>\n",
       "      <td>0</td>\n",
       "      <td>12</td>\n",
       "      <td>2008</td>\n",
       "      <td>WD</td>\n",
       "      <td>Normal</td>\n",
       "      <td>250000</td>\n",
       "    </tr>\n",
       "  </tbody>\n",
       "</table>\n",
       "</div>"
      ],
      "text/plain": [
       "   Id  MSSubClass MSZoning  LotFrontage  LotArea Street Alley LotShape  \\\n",
       "0   1          60       RL         65.0     8450   Pave   NaN      Reg   \n",
       "1   2          20       RL         80.0     9600   Pave   NaN      Reg   \n",
       "2   3          60       RL         68.0    11250   Pave   NaN      IR1   \n",
       "3   4          70       RL         60.0     9550   Pave   NaN      IR1   \n",
       "4   5          60       RL         84.0    14260   Pave   NaN      IR1   \n",
       "\n",
       "  LandContour Utilities LotConfig LandSlope Neighborhood Condition1  \\\n",
       "0         Lvl    AllPub    Inside       Gtl      CollgCr       Norm   \n",
       "1         Lvl    AllPub       FR2       Gtl      Veenker      Feedr   \n",
       "2         Lvl    AllPub    Inside       Gtl      CollgCr       Norm   \n",
       "3         Lvl    AllPub    Corner       Gtl      Crawfor       Norm   \n",
       "4         Lvl    AllPub       FR2       Gtl      NoRidge       Norm   \n",
       "\n",
       "  Condition2 BldgType HouseStyle  OverallQual  OverallCond  YearBuilt  \\\n",
       "0       Norm     1Fam     2Story            7            5       2003   \n",
       "1       Norm     1Fam     1Story            6            8       1976   \n",
       "2       Norm     1Fam     2Story            7            5       2001   \n",
       "3       Norm     1Fam     2Story            7            5       1915   \n",
       "4       Norm     1Fam     2Story            8            5       2000   \n",
       "\n",
       "   YearRemodAdd RoofStyle RoofMatl Exterior1st Exterior2nd MasVnrType  \\\n",
       "0          2003     Gable  CompShg     VinylSd     VinylSd    BrkFace   \n",
       "1          1976     Gable  CompShg     MetalSd     MetalSd       None   \n",
       "2          2002     Gable  CompShg     VinylSd     VinylSd    BrkFace   \n",
       "3          1970     Gable  CompShg     Wd Sdng     Wd Shng       None   \n",
       "4          2000     Gable  CompShg     VinylSd     VinylSd    BrkFace   \n",
       "\n",
       "   MasVnrArea ExterQual ExterCond Foundation BsmtQual BsmtCond BsmtExposure  \\\n",
       "0       196.0        Gd        TA      PConc       Gd       TA           No   \n",
       "1         0.0        TA        TA     CBlock       Gd       TA           Gd   \n",
       "2       162.0        Gd        TA      PConc       Gd       TA           Mn   \n",
       "3         0.0        TA        TA     BrkTil       TA       Gd           No   \n",
       "4       350.0        Gd        TA      PConc       Gd       TA           Av   \n",
       "\n",
       "  BsmtFinType1  BsmtFinSF1 BsmtFinType2  BsmtFinSF2  BsmtUnfSF  TotalBsmtSF  \\\n",
       "0          GLQ         706          Unf           0        150          856   \n",
       "1          ALQ         978          Unf           0        284         1262   \n",
       "2          GLQ         486          Unf           0        434          920   \n",
       "3          ALQ         216          Unf           0        540          756   \n",
       "4          GLQ         655          Unf           0        490         1145   \n",
       "\n",
       "  Heating HeatingQC CentralAir Electrical  1stFlrSF  2ndFlrSF  LowQualFinSF  \\\n",
       "0    GasA        Ex          Y      SBrkr       856       854             0   \n",
       "1    GasA        Ex          Y      SBrkr      1262         0             0   \n",
       "2    GasA        Ex          Y      SBrkr       920       866             0   \n",
       "3    GasA        Gd          Y      SBrkr       961       756             0   \n",
       "4    GasA        Ex          Y      SBrkr      1145      1053             0   \n",
       "\n",
       "   GrLivArea  BsmtFullBath  BsmtHalfBath  FullBath  HalfBath  BedroomAbvGr  \\\n",
       "0       1710             1             0         2         1             3   \n",
       "1       1262             0             1         2         0             3   \n",
       "2       1786             1             0         2         1             3   \n",
       "3       1717             1             0         1         0             3   \n",
       "4       2198             1             0         2         1             4   \n",
       "\n",
       "   KitchenAbvGr KitchenQual  TotRmsAbvGrd Functional  Fireplaces FireplaceQu  \\\n",
       "0             1          Gd             8        Typ           0         NaN   \n",
       "1             1          TA             6        Typ           1          TA   \n",
       "2             1          Gd             6        Typ           1          TA   \n",
       "3             1          Gd             7        Typ           1          Gd   \n",
       "4             1          Gd             9        Typ           1          TA   \n",
       "\n",
       "  GarageType  GarageYrBlt GarageFinish  GarageCars  GarageArea GarageQual  \\\n",
       "0     Attchd       2003.0          RFn           2         548         TA   \n",
       "1     Attchd       1976.0          RFn           2         460         TA   \n",
       "2     Attchd       2001.0          RFn           2         608         TA   \n",
       "3     Detchd       1998.0          Unf           3         642         TA   \n",
       "4     Attchd       2000.0          RFn           3         836         TA   \n",
       "\n",
       "  GarageCond PavedDrive  WoodDeckSF  OpenPorchSF  EnclosedPorch  3SsnPorch  \\\n",
       "0         TA          Y           0           61              0          0   \n",
       "1         TA          Y         298            0              0          0   \n",
       "2         TA          Y           0           42              0          0   \n",
       "3         TA          Y           0           35            272          0   \n",
       "4         TA          Y         192           84              0          0   \n",
       "\n",
       "   ScreenPorch  PoolArea PoolQC Fence MiscFeature  MiscVal  MoSold  YrSold  \\\n",
       "0            0         0    NaN   NaN         NaN        0       2    2008   \n",
       "1            0         0    NaN   NaN         NaN        0       5    2007   \n",
       "2            0         0    NaN   NaN         NaN        0       9    2008   \n",
       "3            0         0    NaN   NaN         NaN        0       2    2006   \n",
       "4            0         0    NaN   NaN         NaN        0      12    2008   \n",
       "\n",
       "  SaleType SaleCondition  SalePrice  \n",
       "0       WD        Normal     208500  \n",
       "1       WD        Normal     181500  \n",
       "2       WD        Normal     223500  \n",
       "3       WD       Abnorml     140000  \n",
       "4       WD        Normal     250000  "
      ]
     },
     "execution_count": 4,
     "metadata": {},
     "output_type": "execute_result"
    }
   ],
   "source": [
    "df_train.head()"
   ]
  },
  {
   "cell_type": "code",
   "execution_count": 5,
   "metadata": {
    "execution": {
     "iopub.execute_input": "2020-11-08T14:11:23.286722Z",
     "iopub.status.busy": "2020-11-08T14:11:23.285968Z",
     "iopub.status.idle": "2020-11-08T14:11:23.288716Z",
     "shell.execute_reply": "2020-11-08T14:11:23.289254Z"
    },
    "papermill": {
     "duration": 0.141586,
     "end_time": "2020-11-08T14:11:23.289436",
     "exception": false,
     "start_time": "2020-11-08T14:11:23.147850",
     "status": "completed"
    },
    "tags": []
   },
   "outputs": [],
   "source": [
    "def df_characteristics(df):\n",
    "    print('Shape of the dataset: {}'.format(df.shape))\n",
    "    \n",
    "    df_numerical = df.select_dtypes(include = [np.number])\n",
    "    print('Number of Numerical Features: {}'.format(df_numerical.shape[1]))\n",
    "    df_categorical = df.select_dtypes(exclude = [np.number])\n",
    "    print('Number of Categorical Features: {}'.format(df_categorical.shape[1]))"
   ]
  },
  {
   "cell_type": "code",
   "execution_count": 6,
   "metadata": {
    "execution": {
     "iopub.execute_input": "2020-11-08T14:11:23.564133Z",
     "iopub.status.busy": "2020-11-08T14:11:23.563168Z",
     "iopub.status.idle": "2020-11-08T14:11:23.568980Z",
     "shell.execute_reply": "2020-11-08T14:11:23.568312Z"
    },
    "papermill": {
     "duration": 0.149163,
     "end_time": "2020-11-08T14:11:23.569096",
     "exception": false,
     "start_time": "2020-11-08T14:11:23.419933",
     "status": "completed"
    },
    "tags": []
   },
   "outputs": [
    {
     "name": "stdout",
     "output_type": "stream",
     "text": [
      "Shape of the dataset: (1460, 81)\n",
      "Number of Numerical Features: 38\n",
      "Number of Categorical Features: 43\n"
     ]
    }
   ],
   "source": [
    "df_characteristics(df_train)"
   ]
  },
  {
   "cell_type": "code",
   "execution_count": 7,
   "metadata": {
    "execution": {
     "iopub.execute_input": "2020-11-08T14:11:23.843989Z",
     "iopub.status.busy": "2020-11-08T14:11:23.843134Z",
     "iopub.status.idle": "2020-11-08T14:11:23.847026Z",
     "shell.execute_reply": "2020-11-08T14:11:23.846229Z"
    },
    "papermill": {
     "duration": 0.146744,
     "end_time": "2020-11-08T14:11:23.847149",
     "exception": false,
     "start_time": "2020-11-08T14:11:23.700405",
     "status": "completed"
    },
    "tags": []
   },
   "outputs": [
    {
     "name": "stdout",
     "output_type": "stream",
     "text": [
      "Shape of the dataset: (1459, 80)\n",
      "Number of Numerical Features: 37\n",
      "Number of Categorical Features: 43\n"
     ]
    }
   ],
   "source": [
    "df_characteristics(df_test)"
   ]
  },
  {
   "cell_type": "markdown",
   "metadata": {
    "papermill": {
     "duration": 0.131137,
     "end_time": "2020-11-08T14:11:24.110158",
     "exception": false,
     "start_time": "2020-11-08T14:11:23.979021",
     "status": "completed"
    },
    "tags": []
   },
   "source": [
    "List of Numerical Features:"
   ]
  },
  {
   "cell_type": "code",
   "execution_count": 8,
   "metadata": {
    "execution": {
     "iopub.execute_input": "2020-11-08T14:11:24.382559Z",
     "iopub.status.busy": "2020-11-08T14:11:24.381483Z",
     "iopub.status.idle": "2020-11-08T14:11:24.385679Z",
     "shell.execute_reply": "2020-11-08T14:11:24.386201Z"
    },
    "papermill": {
     "duration": 0.145158,
     "end_time": "2020-11-08T14:11:24.386363",
     "exception": false,
     "start_time": "2020-11-08T14:11:24.241205",
     "status": "completed"
    },
    "tags": []
   },
   "outputs": [
    {
     "data": {
      "text/plain": [
       "Index(['Id', 'MSSubClass', 'LotFrontage', 'LotArea', 'OverallQual',\n",
       "       'OverallCond', 'YearBuilt', 'YearRemodAdd', 'MasVnrArea', 'BsmtFinSF1',\n",
       "       'BsmtFinSF2', 'BsmtUnfSF', 'TotalBsmtSF', '1stFlrSF', '2ndFlrSF',\n",
       "       'LowQualFinSF', 'GrLivArea', 'BsmtFullBath', 'BsmtHalfBath', 'FullBath',\n",
       "       'HalfBath', 'BedroomAbvGr', 'KitchenAbvGr', 'TotRmsAbvGrd',\n",
       "       'Fireplaces', 'GarageYrBlt', 'GarageCars', 'GarageArea', 'WoodDeckSF',\n",
       "       'OpenPorchSF', 'EnclosedPorch', '3SsnPorch', 'ScreenPorch', 'PoolArea',\n",
       "       'MiscVal', 'MoSold', 'YrSold', 'SalePrice'],\n",
       "      dtype='object')"
      ]
     },
     "execution_count": 8,
     "metadata": {},
     "output_type": "execute_result"
    }
   ],
   "source": [
    "df_numerical = df_train.select_dtypes(include = [np.number])\n",
    "numerical_features = df_numerical.columns\n",
    "numerical_features"
   ]
  },
  {
   "cell_type": "markdown",
   "metadata": {
    "papermill": {
     "duration": 0.131288,
     "end_time": "2020-11-08T14:11:24.648781",
     "exception": false,
     "start_time": "2020-11-08T14:11:24.517493",
     "status": "completed"
    },
    "tags": []
   },
   "source": [
    "List of Categorical Features"
   ]
  },
  {
   "cell_type": "code",
   "execution_count": 9,
   "metadata": {
    "execution": {
     "iopub.execute_input": "2020-11-08T14:11:24.920040Z",
     "iopub.status.busy": "2020-11-08T14:11:24.919107Z",
     "iopub.status.idle": "2020-11-08T14:11:24.923440Z",
     "shell.execute_reply": "2020-11-08T14:11:24.922720Z"
    },
    "papermill": {
     "duration": 0.143882,
     "end_time": "2020-11-08T14:11:24.923562",
     "exception": false,
     "start_time": "2020-11-08T14:11:24.779680",
     "status": "completed"
    },
    "tags": []
   },
   "outputs": [
    {
     "data": {
      "text/plain": [
       "Index(['MSZoning', 'Street', 'Alley', 'LotShape', 'LandContour', 'Utilities',\n",
       "       'LotConfig', 'LandSlope', 'Neighborhood', 'Condition1', 'Condition2',\n",
       "       'BldgType', 'HouseStyle', 'RoofStyle', 'RoofMatl', 'Exterior1st',\n",
       "       'Exterior2nd', 'MasVnrType', 'ExterQual', 'ExterCond', 'Foundation',\n",
       "       'BsmtQual', 'BsmtCond', 'BsmtExposure', 'BsmtFinType1', 'BsmtFinType2',\n",
       "       'Heating', 'HeatingQC', 'CentralAir', 'Electrical', 'KitchenQual',\n",
       "       'Functional', 'FireplaceQu', 'GarageType', 'GarageFinish', 'GarageQual',\n",
       "       'GarageCond', 'PavedDrive', 'PoolQC', 'Fence', 'MiscFeature',\n",
       "       'SaleType', 'SaleCondition'],\n",
       "      dtype='object')"
      ]
     },
     "execution_count": 9,
     "metadata": {},
     "output_type": "execute_result"
    }
   ],
   "source": [
    "df_categorical = df_train.select_dtypes(exclude = [np.number])\n",
    "categorical_features = df_categorical.columns\n",
    "categorical_features"
   ]
  },
  {
   "cell_type": "markdown",
   "metadata": {
    "papermill": {
     "duration": 0.131682,
     "end_time": "2020-11-08T14:11:25.186557",
     "exception": false,
     "start_time": "2020-11-08T14:11:25.054875",
     "status": "completed"
    },
    "tags": []
   },
   "source": [
    "## Exploratory Data Analysis"
   ]
  },
  {
   "cell_type": "markdown",
   "metadata": {
    "papermill": {
     "duration": 0.133037,
     "end_time": "2020-11-08T14:11:25.452872",
     "exception": false,
     "start_time": "2020-11-08T14:11:25.319835",
     "status": "completed"
    },
    "tags": []
   },
   "source": [
    "### Missing Data"
   ]
  },
  {
   "cell_type": "markdown",
   "metadata": {
    "papermill": {
     "duration": 0.132446,
     "end_time": "2020-11-08T14:11:25.718013",
     "exception": false,
     "start_time": "2020-11-08T14:11:25.585567",
     "status": "completed"
    },
    "tags": []
   },
   "source": [
    "Define a function to find out the percentage of missing values in respective features in both training and test sets."
   ]
  },
  {
   "cell_type": "code",
   "execution_count": 10,
   "metadata": {
    "execution": {
     "iopub.execute_input": "2020-11-08T14:11:26.038636Z",
     "iopub.status.busy": "2020-11-08T14:11:26.037631Z",
     "iopub.status.idle": "2020-11-08T14:11:26.041212Z",
     "shell.execute_reply": "2020-11-08T14:11:26.040588Z"
    },
    "papermill": {
     "duration": 0.143047,
     "end_time": "2020-11-08T14:11:26.041345",
     "exception": false,
     "start_time": "2020-11-08T14:11:25.898298",
     "status": "completed"
    },
    "tags": []
   },
   "outputs": [],
   "source": [
    "def check_null(df):\n",
    "    null_percent = (df.isnull().sum() / len(df)) * 100\n",
    "    \n",
    "    try:\n",
    "        null_percent = (null_percent.drop(null_percent[null_percent == 0].index)).sort_values(ascending=False)\n",
    "        \n",
    "    except:\n",
    "        print('There is No null values in the dataset')\n",
    "        print('Returning the dataset...')\n",
    "        return df\n",
    "    \n",
    "    return null_percent"
   ]
  },
  {
   "cell_type": "markdown",
   "metadata": {
    "papermill": {
     "duration": 0.133245,
     "end_time": "2020-11-08T14:11:26.312458",
     "exception": false,
     "start_time": "2020-11-08T14:11:26.179213",
     "status": "completed"
    },
    "tags": []
   },
   "source": [
    "Representation of missing values in percentage"
   ]
  },
  {
   "cell_type": "code",
   "execution_count": 11,
   "metadata": {
    "execution": {
     "iopub.execute_input": "2020-11-08T14:11:26.589299Z",
     "iopub.status.busy": "2020-11-08T14:11:26.588246Z",
     "iopub.status.idle": "2020-11-08T14:11:26.636656Z",
     "shell.execute_reply": "2020-11-08T14:11:26.635944Z"
    },
    "papermill": {
     "duration": 0.193482,
     "end_time": "2020-11-08T14:11:26.636774",
     "exception": false,
     "start_time": "2020-11-08T14:11:26.443292",
     "status": "completed"
    },
    "tags": []
   },
   "outputs": [
    {
     "data": {
      "text/html": [
       "<div>\n",
       "<style scoped>\n",
       "    .dataframe tbody tr th:only-of-type {\n",
       "        vertical-align: middle;\n",
       "    }\n",
       "\n",
       "    .dataframe tbody tr th {\n",
       "        vertical-align: top;\n",
       "    }\n",
       "\n",
       "    .dataframe thead th {\n",
       "        text-align: right;\n",
       "    }\n",
       "</style>\n",
       "<table border=\"1\" class=\"dataframe\">\n",
       "  <thead>\n",
       "    <tr style=\"text-align: right;\">\n",
       "      <th></th>\n",
       "      <th>Train(%)</th>\n",
       "      <th>Test(%)</th>\n",
       "    </tr>\n",
       "  </thead>\n",
       "  <tbody>\n",
       "    <tr>\n",
       "      <th>PoolQC</th>\n",
       "      <td>99.520548</td>\n",
       "      <td>99.794380</td>\n",
       "    </tr>\n",
       "    <tr>\n",
       "      <th>MiscFeature</th>\n",
       "      <td>96.301370</td>\n",
       "      <td>96.504455</td>\n",
       "    </tr>\n",
       "    <tr>\n",
       "      <th>Alley</th>\n",
       "      <td>93.767123</td>\n",
       "      <td>92.666210</td>\n",
       "    </tr>\n",
       "    <tr>\n",
       "      <th>Fence</th>\n",
       "      <td>80.753425</td>\n",
       "      <td>80.123372</td>\n",
       "    </tr>\n",
       "    <tr>\n",
       "      <th>FireplaceQu</th>\n",
       "      <td>47.260274</td>\n",
       "      <td>50.034270</td>\n",
       "    </tr>\n",
       "    <tr>\n",
       "      <th>LotFrontage</th>\n",
       "      <td>17.739726</td>\n",
       "      <td>15.558602</td>\n",
       "    </tr>\n",
       "    <tr>\n",
       "      <th>GarageFinish</th>\n",
       "      <td>5.547945</td>\n",
       "      <td>5.346127</td>\n",
       "    </tr>\n",
       "    <tr>\n",
       "      <th>GarageQual</th>\n",
       "      <td>5.547945</td>\n",
       "      <td>5.346127</td>\n",
       "    </tr>\n",
       "    <tr>\n",
       "      <th>GarageType</th>\n",
       "      <td>5.547945</td>\n",
       "      <td>5.209047</td>\n",
       "    </tr>\n",
       "    <tr>\n",
       "      <th>GarageYrBlt</th>\n",
       "      <td>5.547945</td>\n",
       "      <td>5.346127</td>\n",
       "    </tr>\n",
       "    <tr>\n",
       "      <th>GarageCond</th>\n",
       "      <td>5.547945</td>\n",
       "      <td>5.346127</td>\n",
       "    </tr>\n",
       "    <tr>\n",
       "      <th>BsmtFinType2</th>\n",
       "      <td>2.602740</td>\n",
       "      <td>2.878684</td>\n",
       "    </tr>\n",
       "    <tr>\n",
       "      <th>BsmtExposure</th>\n",
       "      <td>2.602740</td>\n",
       "      <td>3.015764</td>\n",
       "    </tr>\n",
       "    <tr>\n",
       "      <th>BsmtFinType1</th>\n",
       "      <td>2.534247</td>\n",
       "      <td>2.878684</td>\n",
       "    </tr>\n",
       "    <tr>\n",
       "      <th>BsmtQual</th>\n",
       "      <td>2.534247</td>\n",
       "      <td>3.015764</td>\n",
       "    </tr>\n",
       "    <tr>\n",
       "      <th>BsmtCond</th>\n",
       "      <td>2.534247</td>\n",
       "      <td>3.084304</td>\n",
       "    </tr>\n",
       "    <tr>\n",
       "      <th>MasVnrArea</th>\n",
       "      <td>0.547945</td>\n",
       "      <td>1.028101</td>\n",
       "    </tr>\n",
       "    <tr>\n",
       "      <th>MasVnrType</th>\n",
       "      <td>0.547945</td>\n",
       "      <td>1.096642</td>\n",
       "    </tr>\n",
       "    <tr>\n",
       "      <th>Electrical</th>\n",
       "      <td>0.068493</td>\n",
       "      <td>NaN</td>\n",
       "    </tr>\n",
       "    <tr>\n",
       "      <th>BsmtFinSF1</th>\n",
       "      <td>NaN</td>\n",
       "      <td>0.068540</td>\n",
       "    </tr>\n",
       "    <tr>\n",
       "      <th>BsmtFinSF2</th>\n",
       "      <td>NaN</td>\n",
       "      <td>0.068540</td>\n",
       "    </tr>\n",
       "    <tr>\n",
       "      <th>BsmtFullBath</th>\n",
       "      <td>NaN</td>\n",
       "      <td>0.137080</td>\n",
       "    </tr>\n",
       "    <tr>\n",
       "      <th>BsmtHalfBath</th>\n",
       "      <td>NaN</td>\n",
       "      <td>0.137080</td>\n",
       "    </tr>\n",
       "    <tr>\n",
       "      <th>BsmtUnfSF</th>\n",
       "      <td>NaN</td>\n",
       "      <td>0.068540</td>\n",
       "    </tr>\n",
       "    <tr>\n",
       "      <th>Exterior1st</th>\n",
       "      <td>NaN</td>\n",
       "      <td>0.068540</td>\n",
       "    </tr>\n",
       "    <tr>\n",
       "      <th>Exterior2nd</th>\n",
       "      <td>NaN</td>\n",
       "      <td>0.068540</td>\n",
       "    </tr>\n",
       "    <tr>\n",
       "      <th>Functional</th>\n",
       "      <td>NaN</td>\n",
       "      <td>0.137080</td>\n",
       "    </tr>\n",
       "    <tr>\n",
       "      <th>GarageArea</th>\n",
       "      <td>NaN</td>\n",
       "      <td>0.068540</td>\n",
       "    </tr>\n",
       "    <tr>\n",
       "      <th>GarageCars</th>\n",
       "      <td>NaN</td>\n",
       "      <td>0.068540</td>\n",
       "    </tr>\n",
       "    <tr>\n",
       "      <th>KitchenQual</th>\n",
       "      <td>NaN</td>\n",
       "      <td>0.068540</td>\n",
       "    </tr>\n",
       "    <tr>\n",
       "      <th>MSZoning</th>\n",
       "      <td>NaN</td>\n",
       "      <td>0.274160</td>\n",
       "    </tr>\n",
       "    <tr>\n",
       "      <th>SaleType</th>\n",
       "      <td>NaN</td>\n",
       "      <td>0.068540</td>\n",
       "    </tr>\n",
       "    <tr>\n",
       "      <th>TotalBsmtSF</th>\n",
       "      <td>NaN</td>\n",
       "      <td>0.068540</td>\n",
       "    </tr>\n",
       "    <tr>\n",
       "      <th>Utilities</th>\n",
       "      <td>NaN</td>\n",
       "      <td>0.137080</td>\n",
       "    </tr>\n",
       "  </tbody>\n",
       "</table>\n",
       "</div>"
      ],
      "text/plain": [
       "               Train(%)    Test(%)\n",
       "PoolQC        99.520548  99.794380\n",
       "MiscFeature   96.301370  96.504455\n",
       "Alley         93.767123  92.666210\n",
       "Fence         80.753425  80.123372\n",
       "FireplaceQu   47.260274  50.034270\n",
       "LotFrontage   17.739726  15.558602\n",
       "GarageFinish   5.547945   5.346127\n",
       "GarageQual     5.547945   5.346127\n",
       "GarageType     5.547945   5.209047\n",
       "GarageYrBlt    5.547945   5.346127\n",
       "GarageCond     5.547945   5.346127\n",
       "BsmtFinType2   2.602740   2.878684\n",
       "BsmtExposure   2.602740   3.015764\n",
       "BsmtFinType1   2.534247   2.878684\n",
       "BsmtQual       2.534247   3.015764\n",
       "BsmtCond       2.534247   3.084304\n",
       "MasVnrArea     0.547945   1.028101\n",
       "MasVnrType     0.547945   1.096642\n",
       "Electrical     0.068493        NaN\n",
       "BsmtFinSF1          NaN   0.068540\n",
       "BsmtFinSF2          NaN   0.068540\n",
       "BsmtFullBath        NaN   0.137080\n",
       "BsmtHalfBath        NaN   0.137080\n",
       "BsmtUnfSF           NaN   0.068540\n",
       "Exterior1st         NaN   0.068540\n",
       "Exterior2nd         NaN   0.068540\n",
       "Functional          NaN   0.137080\n",
       "GarageArea          NaN   0.068540\n",
       "GarageCars          NaN   0.068540\n",
       "KitchenQual         NaN   0.068540\n",
       "MSZoning            NaN   0.274160\n",
       "SaleType            NaN   0.068540\n",
       "TotalBsmtSF         NaN   0.068540\n",
       "Utilities           NaN   0.137080"
      ]
     },
     "execution_count": 11,
     "metadata": {},
     "output_type": "execute_result"
    }
   ],
   "source": [
    "train_nan = check_null(df_train)\n",
    "test_nan = check_null(df_test)\n",
    "\n",
    "nan = pd.DataFrame({'Train(%)': train_nan, 'Test(%)': test_nan})\n",
    "nan.sort_values(by='Train(%)', ascending=False)"
   ]
  },
  {
   "cell_type": "markdown",
   "metadata": {
    "papermill": {
     "duration": 0.131399,
     "end_time": "2020-11-08T14:11:26.901090",
     "exception": false,
     "start_time": "2020-11-08T14:11:26.769691",
     "status": "completed"
    },
    "tags": []
   },
   "source": [
    "### Handling the missing data"
   ]
  },
  {
   "cell_type": "markdown",
   "metadata": {
    "papermill": {
     "duration": 0.133538,
     "end_time": "2020-11-08T14:11:27.166782",
     "exception": false,
     "start_time": "2020-11-08T14:11:27.033244",
     "status": "completed"
    },
    "tags": []
   },
   "source": [
    "#### 1. Dropping the irrelevant features\n",
    "As `PoolQC`, `MiscFeature`, `Alley` and `Fence` are highly null (above 90%), We shall drop them."
   ]
  },
  {
   "cell_type": "code",
   "execution_count": 12,
   "metadata": {
    "execution": {
     "iopub.execute_input": "2020-11-08T14:11:27.442555Z",
     "iopub.status.busy": "2020-11-08T14:11:27.440183Z",
     "iopub.status.idle": "2020-11-08T14:11:27.447208Z",
     "shell.execute_reply": "2020-11-08T14:11:27.446621Z"
    },
    "papermill": {
     "duration": 0.147674,
     "end_time": "2020-11-08T14:11:27.447337",
     "exception": false,
     "start_time": "2020-11-08T14:11:27.299663",
     "status": "completed"
    },
    "tags": []
   },
   "outputs": [],
   "source": [
    "columns_drop = ['Id', 'PoolQC', 'MiscFeature', 'Alley', 'Fence']\n",
    "\n",
    "df_train.drop(columns = columns_drop, axis=1, inplace=True)\n",
    "df_test.drop(columns = columns_drop, axis=1, inplace=True)"
   ]
  },
  {
   "cell_type": "markdown",
   "metadata": {
    "papermill": {
     "duration": 0.133428,
     "end_time": "2020-11-08T14:11:27.715215",
     "exception": false,
     "start_time": "2020-11-08T14:11:27.581787",
     "status": "completed"
    },
    "tags": []
   },
   "source": [
    "#### 2. FireplaceQu : Fireplace Quality\n",
    "\n",
    "\n",
    "Ex  - Excellent  \n",
    "Gd  - Good  \n",
    "TA  - Average  \n",
    "Fa  - Fair  \n",
    "Po  - Poor  \n",
    "NA  - No Fireplace"
   ]
  },
  {
   "cell_type": "code",
   "execution_count": 13,
   "metadata": {
    "execution": {
     "iopub.execute_input": "2020-11-08T14:11:27.990821Z",
     "iopub.status.busy": "2020-11-08T14:11:27.989959Z",
     "iopub.status.idle": "2020-11-08T14:11:27.994237Z",
     "shell.execute_reply": "2020-11-08T14:11:27.993507Z"
    },
    "papermill": {
     "duration": 0.145917,
     "end_time": "2020-11-08T14:11:27.994360",
     "exception": false,
     "start_time": "2020-11-08T14:11:27.848443",
     "status": "completed"
    },
    "tags": []
   },
   "outputs": [
    {
     "data": {
      "text/plain": [
       "Gd    380\n",
       "TA    313\n",
       "Fa     33\n",
       "Ex     24\n",
       "Po     20\n",
       "Name: FireplaceQu, dtype: int64"
      ]
     },
     "execution_count": 13,
     "metadata": {},
     "output_type": "execute_result"
    }
   ],
   "source": [
    "df_train.FireplaceQu.value_counts()"
   ]
  },
  {
   "cell_type": "code",
   "execution_count": 14,
   "metadata": {
    "execution": {
     "iopub.execute_input": "2020-11-08T14:11:28.280588Z",
     "iopub.status.busy": "2020-11-08T14:11:28.279836Z",
     "iopub.status.idle": "2020-11-08T14:11:28.478628Z",
     "shell.execute_reply": "2020-11-08T14:11:28.477827Z"
    },
    "papermill": {
     "duration": 0.35014,
     "end_time": "2020-11-08T14:11:28.478753",
     "exception": false,
     "start_time": "2020-11-08T14:11:28.128613",
     "status": "completed"
    },
    "tags": []
   },
   "outputs": [
    {
     "data": {
      "text/plain": [
       "<matplotlib.axes._subplots.AxesSubplot at 0x7fd475c739d0>"
      ]
     },
     "execution_count": 14,
     "metadata": {},
     "output_type": "execute_result"
    },
    {
     "data": {
      "image/png": "[encoded data removed]",
      "text/plain": [
       "<Figure size 432x288 with 1 Axes>"
      ]
     },
     "metadata": {
      "needs_background": "light"
     },
     "output_type": "display_data"
    }
   ],
   "source": [
    "sns.countplot(df_train['FireplaceQu'])"
   ]
  },
  {
   "cell_type": "code",
   "execution_count": 15,
   "metadata": {
    "execution": {
     "iopub.execute_input": "2020-11-08T14:11:28.757337Z",
     "iopub.status.busy": "2020-11-08T14:11:28.756290Z",
     "iopub.status.idle": "2020-11-08T14:11:28.957347Z",
     "shell.execute_reply": "2020-11-08T14:11:28.957895Z"
    },
    "papermill": {
     "duration": 0.342762,
     "end_time": "2020-11-08T14:11:28.958049",
     "exception": false,
     "start_time": "2020-11-08T14:11:28.615287",
     "status": "completed"
    },
    "tags": []
   },
   "outputs": [
    {
     "data": {
      "text/plain": [
       "<matplotlib.axes._subplots.AxesSubplot at 0x7fd4739d0690>"
      ]
     },
     "execution_count": 15,
     "metadata": {},
     "output_type": "execute_result"
    },
    {
     "data": {
      "image/png": "[encoded data removed]",
      "text/plain": [
       "<Figure size 432x288 with 1 Axes>"
      ]
     },
     "metadata": {
      "needs_background": "light"
     },
     "output_type": "display_data"
    }
   ],
   "source": [
    "sns.boxplot(data=df_train, x='SalePrice', y='FireplaceQu')"
   ]
  },
  {
   "cell_type": "markdown",
   "metadata": {
    "papermill": {
     "duration": 0.136762,
     "end_time": "2020-11-08T14:11:29.231125",
     "exception": false,
     "start_time": "2020-11-08T14:11:29.094363",
     "status": "completed"
    },
    "tags": []
   },
   "source": [
    "As this feature directly related with our target column, it would be better if we fill it with **0**."
   ]
  },
  {
   "cell_type": "code",
   "execution_count": 16,
   "metadata": {
    "execution": {
     "iopub.execute_input": "2020-11-08T14:11:29.513884Z",
     "iopub.status.busy": "2020-11-08T14:11:29.513095Z",
     "iopub.status.idle": "2020-11-08T14:11:29.743467Z",
     "shell.execute_reply": "2020-11-08T14:11:29.742786Z"
    },
    "papermill": {
     "duration": 0.376148,
     "end_time": "2020-11-08T14:11:29.743592",
     "exception": false,
     "start_time": "2020-11-08T14:11:29.367444",
     "status": "completed"
    },
    "tags": []
   },
   "outputs": [
    {
     "data": {
      "text/plain": [
       "<matplotlib.axes._subplots.AxesSubplot at 0x7fd47c84d850>"
      ]
     },
     "execution_count": 16,
     "metadata": {},
     "output_type": "execute_result"
    },
    {
     "data": {
      "image/png": "[encoded data removed]",
      "text/plain": [
       "<Figure size 432x288 with 1 Axes>"
      ]
     },
     "metadata": {
      "needs_background": "light"
     },
     "output_type": "display_data"
    }
   ],
   "source": [
    "df_train['FireplaceQu'] = df_train['FireplaceQu'].fillna(0)\n",
    "df_test['FireplaceQu'] = df_test['FireplaceQu'].fillna(0)\n",
    "\n",
    "sns.boxplot(data=df_train, x='SalePrice', y='FireplaceQu')"
   ]
  },
  {
   "cell_type": "markdown",
   "metadata": {
    "papermill": {
     "duration": 0.138875,
     "end_time": "2020-11-08T14:11:30.020507",
     "exception": false,
     "start_time": "2020-11-08T14:11:29.881632",
     "status": "completed"
    },
    "tags": []
   },
   "source": [
    "#### 3. LotFrontage: Linear feet of street connected to property"
   ]
  },
  {
   "cell_type": "code",
   "execution_count": 17,
   "metadata": {
    "execution": {
     "iopub.execute_input": "2020-11-08T14:11:30.310818Z",
     "iopub.status.busy": "2020-11-08T14:11:30.310027Z",
     "iopub.status.idle": "2020-11-08T14:11:30.568819Z",
     "shell.execute_reply": "2020-11-08T14:11:30.568160Z"
    },
    "papermill": {
     "duration": 0.408798,
     "end_time": "2020-11-08T14:11:30.568943",
     "exception": false,
     "start_time": "2020-11-08T14:11:30.160145",
     "status": "completed"
    },
    "tags": []
   },
   "outputs": [
    {
     "data": {
      "text/plain": [
       "<matplotlib.axes._subplots.AxesSubplot at 0x7fd473a16950>"
      ]
     },
     "execution_count": 17,
     "metadata": {},
     "output_type": "execute_result"
    },
    {
     "data": {
      "image/png": "[encoded data removed]",
      "text/plain": [
       "<Figure size 432x288 with 1 Axes>"
      ]
     },
     "metadata": {
      "needs_background": "light"
     },
     "output_type": "display_data"
    }
   ],
   "source": [
    "sns.distplot(df_train.LotFrontage)"
   ]
  },
  {
   "cell_type": "code",
   "execution_count": 18,
   "metadata": {
    "execution": {
     "iopub.execute_input": "2020-11-08T14:11:30.860648Z",
     "iopub.status.busy": "2020-11-08T14:11:30.859638Z",
     "iopub.status.idle": "2020-11-08T14:11:30.863044Z",
     "shell.execute_reply": "2020-11-08T14:11:30.863680Z"
    },
    "papermill": {
     "duration": 0.151466,
     "end_time": "2020-11-08T14:11:30.863832",
     "exception": false,
     "start_time": "2020-11-08T14:11:30.712366",
     "status": "completed"
    },
    "tags": []
   },
   "outputs": [
    {
     "name": "stdout",
     "output_type": "stream",
     "text": [
      "Mean: 70.04995836802665, Medain: 69.0\n",
      "Mean: 68.58035714285714, Medain: 67.0\n"
     ]
    }
   ],
   "source": [
    "def LotFrontage_Stats(df):\n",
    "    print('Mean: {}, Medain: {}'.format(df.LotFrontage.mean(), \n",
    "                                        df.LotFrontage.median()))\n",
    "    \n",
    "LotFrontage_Stats(df_train)  # training set\n",
    "LotFrontage_Stats(df_test)  # testing set"
   ]
  },
  {
   "cell_type": "code",
   "execution_count": 19,
   "metadata": {
    "execution": {
     "iopub.execute_input": "2020-11-08T14:11:31.153198Z",
     "iopub.status.busy": "2020-11-08T14:11:31.152119Z",
     "iopub.status.idle": "2020-11-08T14:11:31.643677Z",
     "shell.execute_reply": "2020-11-08T14:11:31.642991Z"
    },
    "papermill": {
     "duration": 0.639732,
     "end_time": "2020-11-08T14:11:31.643820",
     "exception": false,
     "start_time": "2020-11-08T14:11:31.004088",
     "status": "completed"
    },
    "tags": []
   },
   "outputs": [
    {
     "data": {
      "text/plain": [
       "<matplotlib.axes._subplots.AxesSubplot at 0x7fd473731e50>"
      ]
     },
     "execution_count": 19,
     "metadata": {},
     "output_type": "execute_result"
    },
    {
     "data": {
      "image/png": "[encoded data removed]",
      "text/plain": [
       "<Figure size 432x288 with 1 Axes>"
      ]
     },
     "metadata": {
      "needs_background": "light"
     },
     "output_type": "display_data"
    }
   ],
   "source": [
    "sns.regplot(data=df_train, x='SalePrice', y='LotFrontage')"
   ]
  },
  {
   "cell_type": "markdown",
   "metadata": {
    "papermill": {
     "duration": 0.142728,
     "end_time": "2020-11-08T14:11:31.934759",
     "exception": false,
     "start_time": "2020-11-08T14:11:31.792031",
     "status": "completed"
    },
    "tags": []
   },
   "source": [
    "The difference between Mean and Medain for both training and test set is very little, so let's fill the missing values with Median."
   ]
  },
  {
   "cell_type": "code",
   "execution_count": 20,
   "metadata": {
    "execution": {
     "iopub.execute_input": "2020-11-08T14:11:32.229183Z",
     "iopub.status.busy": "2020-11-08T14:11:32.228161Z",
     "iopub.status.idle": "2020-11-08T14:11:32.231294Z",
     "shell.execute_reply": "2020-11-08T14:11:32.230642Z"
    },
    "papermill": {
     "duration": 0.153304,
     "end_time": "2020-11-08T14:11:32.231443",
     "exception": false,
     "start_time": "2020-11-08T14:11:32.078139",
     "status": "completed"
    },
    "tags": []
   },
   "outputs": [],
   "source": [
    "df_train['LotFrontage'] = df_train['LotFrontage'].fillna(df_train['LotFrontage'].median())\n",
    "df_test['LotFrontage'] = df_test['LotFrontage'].fillna(df_test['LotFrontage'].median())"
   ]
  },
  {
   "cell_type": "markdown",
   "metadata": {
    "papermill": {
     "duration": 0.14148,
     "end_time": "2020-11-08T14:11:32.514013",
     "exception": false,
     "start_time": "2020-11-08T14:11:32.372533",
     "status": "completed"
    },
    "tags": []
   },
   "source": [
    "#### 4. GarageQual: Garage Quality"
   ]
  },
  {
   "cell_type": "code",
   "execution_count": 21,
   "metadata": {
    "execution": {
     "iopub.execute_input": "2020-11-08T14:11:32.845938Z",
     "iopub.status.busy": "2020-11-08T14:11:32.844831Z",
     "iopub.status.idle": "2020-11-08T14:11:32.849510Z",
     "shell.execute_reply": "2020-11-08T14:11:32.848885Z"
    },
    "papermill": {
     "duration": 0.175186,
     "end_time": "2020-11-08T14:11:32.849632",
     "exception": false,
     "start_time": "2020-11-08T14:11:32.674446",
     "status": "completed"
    },
    "tags": []
   },
   "outputs": [
    {
     "data": {
      "text/plain": [
       "TA    1311\n",
       "Fa      48\n",
       "Gd      14\n",
       "Po       3\n",
       "Ex       3\n",
       "Name: GarageQual, dtype: int64"
      ]
     },
     "execution_count": 21,
     "metadata": {},
     "output_type": "execute_result"
    }
   ],
   "source": [
    "df_train['GarageQual'].value_counts()"
   ]
  },
  {
   "cell_type": "code",
   "execution_count": 22,
   "metadata": {
    "execution": {
     "iopub.execute_input": "2020-11-08T14:11:33.146902Z",
     "iopub.status.busy": "2020-11-08T14:11:33.145573Z",
     "iopub.status.idle": "2020-11-08T14:11:33.348556Z",
     "shell.execute_reply": "2020-11-08T14:11:33.349155Z"
    },
    "papermill": {
     "duration": 0.356198,
     "end_time": "2020-11-08T14:11:33.349308",
     "exception": false,
     "start_time": "2020-11-08T14:11:32.993110",
     "status": "completed"
    },
    "tags": []
   },
   "outputs": [
    {
     "data": {
      "text/plain": [
       "<matplotlib.axes._subplots.AxesSubplot at 0x7fd47373e610>"
      ]
     },
     "execution_count": 22,
     "metadata": {},
     "output_type": "execute_result"
    },
    {
     "data": {
      "image/png": "[encoded data removed]",
      "text/plain": [
       "<Figure size 432x288 with 1 Axes>"
      ]
     },
     "metadata": {
      "needs_background": "light"
     },
     "output_type": "display_data"
    }
   ],
   "source": [
    "sns.boxplot(data=df_train, x='SalePrice', y='GarageQual')"
   ]
  },
  {
   "cell_type": "code",
   "execution_count": 23,
   "metadata": {
    "execution": {
     "iopub.execute_input": "2020-11-08T14:11:33.653267Z",
     "iopub.status.busy": "2020-11-08T14:11:33.646648Z",
     "iopub.status.idle": "2020-11-08T14:11:33.909338Z",
     "shell.execute_reply": "2020-11-08T14:11:33.908634Z"
    },
    "papermill": {
     "duration": 0.416362,
     "end_time": "2020-11-08T14:11:33.909509",
     "exception": false,
     "start_time": "2020-11-08T14:11:33.493147",
     "status": "completed"
    },
    "tags": []
   },
   "outputs": [
    {
     "data": {
      "text/plain": [
       "<matplotlib.axes._subplots.AxesSubplot at 0x7fd472deca50>"
      ]
     },
     "execution_count": 23,
     "metadata": {},
     "output_type": "execute_result"
    },
    {
     "data": {
      "image/png": "[encoded data removed]",
      "text/plain": [
       "<Figure size 432x288 with 1 Axes>"
      ]
     },
     "metadata": {
      "needs_background": "light"
     },
     "output_type": "display_data"
    }
   ],
   "source": [
    "sns.distplot(df_train[df_train['GarageQual'] == 'TA'].SalePrice)"
   ]
  },
  {
   "cell_type": "code",
   "execution_count": 24,
   "metadata": {
    "execution": {
     "iopub.execute_input": "2020-11-08T14:11:34.209011Z",
     "iopub.status.busy": "2020-11-08T14:11:34.208086Z",
     "iopub.status.idle": "2020-11-08T14:11:34.397582Z",
     "shell.execute_reply": "2020-11-08T14:11:34.396857Z"
    },
    "papermill": {
     "duration": 0.342776,
     "end_time": "2020-11-08T14:11:34.397700",
     "exception": false,
     "start_time": "2020-11-08T14:11:34.054924",
     "status": "completed"
    },
    "tags": []
   },
   "outputs": [
    {
     "data": {
      "text/plain": [
       "<matplotlib.axes._subplots.AxesSubplot at 0x7fd472cbf090>"
      ]
     },
     "execution_count": 24,
     "metadata": {},
     "output_type": "execute_result"
    },
    {
     "data": {
      "image/png": "[encoded data removed]",
      "text/plain": [
       "<Figure size 432x288 with 1 Axes>"
      ]
     },
     "metadata": {
      "needs_background": "light"
     },
     "output_type": "display_data"
    }
   ],
   "source": [
    "sns.distplot(df_train[df_train['GarageQual'] == 'Fa'].SalePrice)"
   ]
  },
  {
   "cell_type": "markdown",
   "metadata": {
    "papermill": {
     "duration": 0.14934,
     "end_time": "2020-11-08T14:11:34.694478",
     "exception": false,
     "start_time": "2020-11-08T14:11:34.545138",
     "status": "completed"
    },
    "tags": []
   },
   "source": [
    "Dropping this feature will not affect our model badly. So let's drop it."
   ]
  },
  {
   "cell_type": "code",
   "execution_count": 25,
   "metadata": {
    "execution": {
     "iopub.execute_input": "2020-11-08T14:11:34.996864Z",
     "iopub.status.busy": "2020-11-08T14:11:34.995889Z",
     "iopub.status.idle": "2020-11-08T14:11:35.000326Z",
     "shell.execute_reply": "2020-11-08T14:11:34.999729Z"
    },
    "papermill": {
     "duration": 0.159374,
     "end_time": "2020-11-08T14:11:35.000477",
     "exception": false,
     "start_time": "2020-11-08T14:11:34.841103",
     "status": "completed"
    },
    "tags": []
   },
   "outputs": [],
   "source": [
    "df_train.drop('GarageQual', axis=1, inplace=True)\n",
    "df_test.drop('GarageQual', axis=1, inplace=True)"
   ]
  },
  {
   "cell_type": "markdown",
   "metadata": {
    "papermill": {
     "duration": 0.147117,
     "end_time": "2020-11-08T14:11:35.309140",
     "exception": false,
     "start_time": "2020-11-08T14:11:35.162023",
     "status": "completed"
    },
    "tags": []
   },
   "source": [
    "#### 5. GarageFinish: Interior finish of the garage\n",
    "\n",
    "Fin - Finished  \n",
    "RFn - Rough Finished  \n",
    "Unf - Unfinished  \n",
    "Nog  - No Garage"
   ]
  },
  {
   "cell_type": "code",
   "execution_count": 26,
   "metadata": {
    "execution": {
     "iopub.execute_input": "2020-11-08T14:11:35.617517Z",
     "iopub.status.busy": "2020-11-08T14:11:35.616016Z",
     "iopub.status.idle": "2020-11-08T14:11:35.632174Z",
     "shell.execute_reply": "2020-11-08T14:11:35.631341Z"
    },
    "papermill": {
     "duration": 0.176368,
     "end_time": "2020-11-08T14:11:35.632328",
     "exception": false,
     "start_time": "2020-11-08T14:11:35.455960",
     "status": "completed"
    },
    "tags": []
   },
   "outputs": [
    {
     "data": {
      "text/plain": [
       "Unf    605\n",
       "RFn    422\n",
       "Fin    352\n",
       "Name: GarageFinish, dtype: int64"
      ]
     },
     "execution_count": 26,
     "metadata": {},
     "output_type": "execute_result"
    }
   ],
   "source": [
    "df_train.GarageFinish.value_counts()"
   ]
  },
  {
   "cell_type": "code",
   "execution_count": 27,
   "metadata": {
    "execution": {
     "iopub.execute_input": "2020-11-08T14:11:35.969565Z",
     "iopub.status.busy": "2020-11-08T14:11:35.968448Z",
     "iopub.status.idle": "2020-11-08T14:11:36.142902Z",
     "shell.execute_reply": "2020-11-08T14:11:36.143464Z"
    },
    "papermill": {
     "duration": 0.332701,
     "end_time": "2020-11-08T14:11:36.143627",
     "exception": false,
     "start_time": "2020-11-08T14:11:35.810926",
     "status": "completed"
    },
    "tags": []
   },
   "outputs": [
    {
     "data": {
      "text/plain": [
       "<matplotlib.axes._subplots.AxesSubplot at 0x7fd472c53b10>"
      ]
     },
     "execution_count": 27,
     "metadata": {},
     "output_type": "execute_result"
    },
    {
     "data": {
      "image/png": "[encoded data removed]",
      "text/plain": [
       "<Figure size 432x288 with 1 Axes>"
      ]
     },
     "metadata": {
      "needs_background": "light"
     },
     "output_type": "display_data"
    }
   ],
   "source": [
    "sns.boxplot(data=df_train, x='SalePrice', y='GarageFinish')"
   ]
  },
  {
   "cell_type": "markdown",
   "metadata": {
    "papermill": {
     "duration": 0.147731,
     "end_time": "2020-11-08T14:11:36.441980",
     "exception": false,
     "start_time": "2020-11-08T14:11:36.294249",
     "status": "completed"
    },
    "tags": []
   },
   "source": [
    "This feature is good as the value difference in the categories is not too big. Let's create a new category for NaN values called `Nog`"
   ]
  },
  {
   "cell_type": "code",
   "execution_count": 28,
   "metadata": {
    "execution": {
     "iopub.execute_input": "2020-11-08T14:11:36.755275Z",
     "iopub.status.busy": "2020-11-08T14:11:36.754206Z",
     "iopub.status.idle": "2020-11-08T14:11:36.757585Z",
     "shell.execute_reply": "2020-11-08T14:11:36.756984Z"
    },
    "papermill": {
     "duration": 0.166769,
     "end_time": "2020-11-08T14:11:36.757714",
     "exception": false,
     "start_time": "2020-11-08T14:11:36.590945",
     "status": "completed"
    },
    "tags": []
   },
   "outputs": [],
   "source": [
    "df_train['GarageFinish'] = df_train['GarageFinish'].fillna('Nog')\n",
    "df_test['GarageFinish'] = df_test['GarageFinish'].fillna('Nog')"
   ]
  },
  {
   "cell_type": "code",
   "execution_count": 29,
   "metadata": {
    "execution": {
     "iopub.execute_input": "2020-11-08T14:11:37.066399Z",
     "iopub.status.busy": "2020-11-08T14:11:37.065534Z",
     "iopub.status.idle": "2020-11-08T14:11:37.256190Z",
     "shell.execute_reply": "2020-11-08T14:11:37.256762Z"
    },
    "papermill": {
     "duration": 0.347691,
     "end_time": "2020-11-08T14:11:37.256928",
     "exception": false,
     "start_time": "2020-11-08T14:11:36.909237",
     "status": "completed"
    },
    "tags": []
   },
   "outputs": [
    {
     "data": {
      "text/plain": [
       "<matplotlib.axes._subplots.AxesSubplot at 0x7fd472b864d0>"
      ]
     },
     "execution_count": 29,
     "metadata": {},
     "output_type": "execute_result"
    },
    {
     "data": {
      "image/png": "[encoded data removed]",
      "text/plain": [
       "<Figure size 432x288 with 1 Axes>"
      ]
     },
     "metadata": {
      "needs_background": "light"
     },
     "output_type": "display_data"
    }
   ],
   "source": [
    "sns.boxplot(data=df_train, x='SalePrice', y='GarageFinish')"
   ]
  },
  {
   "cell_type": "markdown",
   "metadata": {
    "papermill": {
     "duration": 0.150709,
     "end_time": "2020-11-08T14:11:37.559450",
     "exception": false,
     "start_time": "2020-11-08T14:11:37.408741",
     "status": "completed"
    },
    "tags": []
   },
   "source": [
    "#### 6. GarageCond : Garage Condition"
   ]
  },
  {
   "cell_type": "code",
   "execution_count": 30,
   "metadata": {
    "execution": {
     "iopub.execute_input": "2020-11-08T14:11:37.874043Z",
     "iopub.status.busy": "2020-11-08T14:11:37.872968Z",
     "iopub.status.idle": "2020-11-08T14:11:37.877113Z",
     "shell.execute_reply": "2020-11-08T14:11:37.876508Z"
    },
    "papermill": {
     "duration": 0.163602,
     "end_time": "2020-11-08T14:11:37.877230",
     "exception": false,
     "start_time": "2020-11-08T14:11:37.713628",
     "status": "completed"
    },
    "tags": []
   },
   "outputs": [
    {
     "data": {
      "text/plain": [
       "TA    1326\n",
       "Fa      35\n",
       "Gd       9\n",
       "Po       7\n",
       "Ex       2\n",
       "Name: GarageCond, dtype: int64"
      ]
     },
     "execution_count": 30,
     "metadata": {},
     "output_type": "execute_result"
    }
   ],
   "source": [
    "df_train.GarageCond.value_counts()"
   ]
  },
  {
   "cell_type": "markdown",
   "metadata": {
    "papermill": {
     "duration": 0.151819,
     "end_time": "2020-11-08T14:11:38.182016",
     "exception": false,
     "start_time": "2020-11-08T14:11:38.030197",
     "status": "completed"
    },
    "tags": []
   },
   "source": [
    "Here also we will replace NaN values with `Nog` ie., NoGarage and see the results."
   ]
  },
  {
   "cell_type": "code",
   "execution_count": 31,
   "metadata": {
    "execution": {
     "iopub.execute_input": "2020-11-08T14:11:38.493252Z",
     "iopub.status.busy": "2020-11-08T14:11:38.492239Z",
     "iopub.status.idle": "2020-11-08T14:11:38.731317Z",
     "shell.execute_reply": "2020-11-08T14:11:38.730594Z"
    },
    "papermill": {
     "duration": 0.396773,
     "end_time": "2020-11-08T14:11:38.731459",
     "exception": false,
     "start_time": "2020-11-08T14:11:38.334686",
     "status": "completed"
    },
    "tags": []
   },
   "outputs": [
    {
     "data": {
      "text/plain": [
       "<matplotlib.axes._subplots.AxesSubplot at 0x7fd472ad22d0>"
      ]
     },
     "execution_count": 31,
     "metadata": {},
     "output_type": "execute_result"
    },
    {
     "data": {
      "image/png": "[encoded data removed]",
      "text/plain": [
       "<Figure size 432x288 with 1 Axes>"
      ]
     },
     "metadata": {
      "needs_background": "light"
     },
     "output_type": "display_data"
    }
   ],
   "source": [
    "df_train['GarageCond'] = df_train['GarageCond'].fillna('Nog')\n",
    "\n",
    "sns.boxplot(data=df_train, x='SalePrice', y='GarageCond')"
   ]
  },
  {
   "cell_type": "markdown",
   "metadata": {
    "papermill": {
     "duration": 0.152431,
     "end_time": "2020-11-08T14:11:39.036486",
     "exception": false,
     "start_time": "2020-11-08T14:11:38.884055",
     "status": "completed"
    },
    "tags": []
   },
   "source": [
    "I don't think this feature is much helpful to our model, so let's drop it."
   ]
  },
  {
   "cell_type": "code",
   "execution_count": 32,
   "metadata": {
    "execution": {
     "iopub.execute_input": "2020-11-08T14:11:39.353813Z",
     "iopub.status.busy": "2020-11-08T14:11:39.350428Z",
     "iopub.status.idle": "2020-11-08T14:11:39.357010Z",
     "shell.execute_reply": "2020-11-08T14:11:39.356243Z"
    },
    "papermill": {
     "duration": 0.166351,
     "end_time": "2020-11-08T14:11:39.357132",
     "exception": false,
     "start_time": "2020-11-08T14:11:39.190781",
     "status": "completed"
    },
    "tags": []
   },
   "outputs": [],
   "source": [
    "df_train.drop('GarageCond', axis=1, inplace=True)\n",
    "df_test.drop('GarageCond', axis=1, inplace=True)"
   ]
  },
  {
   "cell_type": "markdown",
   "metadata": {
    "papermill": {
     "duration": 0.159321,
     "end_time": "2020-11-08T14:11:39.670054",
     "exception": false,
     "start_time": "2020-11-08T14:11:39.510733",
     "status": "completed"
    },
    "tags": []
   },
   "source": [
    "#### 7. GarageYrBlt: Year garage was built"
   ]
  },
  {
   "cell_type": "code",
   "execution_count": 33,
   "metadata": {
    "execution": {
     "iopub.execute_input": "2020-11-08T14:11:39.992763Z",
     "iopub.status.busy": "2020-11-08T14:11:39.990915Z",
     "iopub.status.idle": "2020-11-08T14:11:40.192321Z",
     "shell.execute_reply": "2020-11-08T14:11:40.191582Z"
    },
    "papermill": {
     "duration": 0.368109,
     "end_time": "2020-11-08T14:11:40.192459",
     "exception": false,
     "start_time": "2020-11-08T14:11:39.824350",
     "status": "completed"
    },
    "tags": []
   },
   "outputs": [
    {
     "data": {
      "text/plain": [
       "<matplotlib.axes._subplots.AxesSubplot at 0x7fd472a0b710>"
      ]
     },
     "execution_count": 33,
     "metadata": {},
     "output_type": "execute_result"
    },
    {
     "data": {
      "image/png": "[encoded data removed]",
      "text/plain": [
       "<Figure size 432x288 with 1 Axes>"
      ]
     },
     "metadata": {
      "needs_background": "light"
     },
     "output_type": "display_data"
    }
   ],
   "source": [
    "sns.distplot(df_train.GarageYrBlt)"
   ]
  },
  {
   "cell_type": "code",
   "execution_count": 34,
   "metadata": {
    "execution": {
     "iopub.execute_input": "2020-11-08T14:11:40.510431Z",
     "iopub.status.busy": "2020-11-08T14:11:40.509662Z",
     "iopub.status.idle": "2020-11-08T14:11:40.514068Z",
     "shell.execute_reply": "2020-11-08T14:11:40.513049Z"
    },
    "papermill": {
     "duration": 0.166151,
     "end_time": "2020-11-08T14:11:40.514226",
     "exception": false,
     "start_time": "2020-11-08T14:11:40.348075",
     "status": "completed"
    },
    "tags": []
   },
   "outputs": [
    {
     "name": "stdout",
     "output_type": "stream",
     "text": [
      "Maximum value: 2010.0\n",
      "Minimun value: 1900.0\n"
     ]
    }
   ],
   "source": [
    "print('Maximum value: {}'.format(df_train.GarageYrBlt.max()))\n",
    "print('Minimun value: {}'.format(df_train.GarageYrBlt.min()))"
   ]
  },
  {
   "cell_type": "code",
   "execution_count": 35,
   "metadata": {
    "execution": {
     "iopub.execute_input": "2020-11-08T14:11:40.859531Z",
     "iopub.status.busy": "2020-11-08T14:11:40.852570Z",
     "iopub.status.idle": "2020-11-08T14:11:41.347969Z",
     "shell.execute_reply": "2020-11-08T14:11:41.347050Z"
    },
    "papermill": {
     "duration": 0.663553,
     "end_time": "2020-11-08T14:11:41.348130",
     "exception": false,
     "start_time": "2020-11-08T14:11:40.684577",
     "status": "completed"
    },
    "tags": []
   },
   "outputs": [
    {
     "data": {
      "text/plain": [
       "<matplotlib.axes._subplots.AxesSubplot at 0x7fd4729bc890>"
      ]
     },
     "execution_count": 35,
     "metadata": {},
     "output_type": "execute_result"
    },
    {
     "data": {
      "image/png": "[encoded data removed]",
      "text/plain": [
       "<Figure size 432x288 with 1 Axes>"
      ]
     },
     "metadata": {
      "needs_background": "light"
     },
     "output_type": "display_data"
    }
   ],
   "source": [
    "sns.regplot(data=df_train, x='SalePrice', y='GarageYrBlt')"
   ]
  },
  {
   "cell_type": "markdown",
   "metadata": {
    "papermill": {
     "duration": 0.158501,
     "end_time": "2020-11-08T14:11:41.662657",
     "exception": false,
     "start_time": "2020-11-08T14:11:41.504156",
     "status": "completed"
    },
    "tags": []
   },
   "source": [
    "Let's fill it with minimun value"
   ]
  },
  {
   "cell_type": "code",
   "execution_count": 36,
   "metadata": {
    "execution": {
     "iopub.execute_input": "2020-11-08T14:11:41.985504Z",
     "iopub.status.busy": "2020-11-08T14:11:41.984450Z",
     "iopub.status.idle": "2020-11-08T14:11:41.987874Z",
     "shell.execute_reply": "2020-11-08T14:11:41.987129Z"
    },
    "papermill": {
     "duration": 0.169278,
     "end_time": "2020-11-08T14:11:41.987998",
     "exception": false,
     "start_time": "2020-11-08T14:11:41.818720",
     "status": "completed"
    },
    "tags": []
   },
   "outputs": [],
   "source": [
    "df_train['GarageYrBlt'] = df_train['GarageYrBlt'].fillna(df_train.GarageYrBlt.min())\n",
    "df_test['GarageYrBlt'] = df_test['GarageYrBlt'].fillna(df_test.GarageYrBlt.min())"
   ]
  },
  {
   "cell_type": "markdown",
   "metadata": {
    "papermill": {
     "duration": 0.162948,
     "end_time": "2020-11-08T14:11:42.309180",
     "exception": false,
     "start_time": "2020-11-08T14:11:42.146232",
     "status": "completed"
    },
    "tags": []
   },
   "source": [
    "#### 8. GarageType: Garage Location"
   ]
  },
  {
   "cell_type": "code",
   "execution_count": 37,
   "metadata": {
    "execution": {
     "iopub.execute_input": "2020-11-08T14:11:42.632765Z",
     "iopub.status.busy": "2020-11-08T14:11:42.631906Z",
     "iopub.status.idle": "2020-11-08T14:11:42.636233Z",
     "shell.execute_reply": "2020-11-08T14:11:42.635663Z"
    },
    "papermill": {
     "duration": 0.170754,
     "end_time": "2020-11-08T14:11:42.636359",
     "exception": false,
     "start_time": "2020-11-08T14:11:42.465605",
     "status": "completed"
    },
    "tags": []
   },
   "outputs": [
    {
     "data": {
      "text/plain": [
       "Attchd     870\n",
       "Detchd     387\n",
       "BuiltIn     88\n",
       "Basment     19\n",
       "CarPort      9\n",
       "2Types       6\n",
       "Name: GarageType, dtype: int64"
      ]
     },
     "execution_count": 37,
     "metadata": {},
     "output_type": "execute_result"
    }
   ],
   "source": [
    "df_train.GarageType.value_counts()"
   ]
  },
  {
   "cell_type": "code",
   "execution_count": 38,
   "metadata": {
    "execution": {
     "iopub.execute_input": "2020-11-08T14:11:42.972580Z",
     "iopub.status.busy": "2020-11-08T14:11:42.971510Z",
     "iopub.status.idle": "2020-11-08T14:11:43.201608Z",
     "shell.execute_reply": "2020-11-08T14:11:43.202211Z"
    },
    "papermill": {
     "duration": 0.396363,
     "end_time": "2020-11-08T14:11:43.202369",
     "exception": false,
     "start_time": "2020-11-08T14:11:42.806006",
     "status": "completed"
    },
    "tags": []
   },
   "outputs": [
    {
     "data": {
      "text/plain": [
       "<matplotlib.axes._subplots.AxesSubplot at 0x7fd472a2b4d0>"
      ]
     },
     "execution_count": 38,
     "metadata": {},
     "output_type": "execute_result"
    },
    {
     "data": {
      "image/png": "[encoded data removed]",
      "text/plain": [
       "<Figure size 432x288 with 1 Axes>"
      ]
     },
     "metadata": {
      "needs_background": "light"
     },
     "output_type": "display_data"
    }
   ],
   "source": [
    "sns.boxplot(data=df_train, x='SalePrice', y='GarageType')"
   ]
  },
  {
   "cell_type": "markdown",
   "metadata": {
    "papermill": {
     "duration": 0.16315,
     "end_time": "2020-11-08T14:11:43.527263",
     "exception": false,
     "start_time": "2020-11-08T14:11:43.364113",
     "status": "completed"
    },
    "tags": []
   },
   "source": [
    "Here also we will replace NaN values with `Nog` ie., NoGarage and see the results."
   ]
  },
  {
   "cell_type": "code",
   "execution_count": 39,
   "metadata": {
    "execution": {
     "iopub.execute_input": "2020-11-08T14:11:43.891399Z",
     "iopub.status.busy": "2020-11-08T14:11:43.890316Z",
     "iopub.status.idle": "2020-11-08T14:11:44.135549Z",
     "shell.execute_reply": "2020-11-08T14:11:44.134946Z"
    },
    "papermill": {
     "duration": 0.439593,
     "end_time": "2020-11-08T14:11:44.135687",
     "exception": false,
     "start_time": "2020-11-08T14:11:43.696094",
     "status": "completed"
    },
    "tags": []
   },
   "outputs": [
    {
     "data": {
      "text/plain": [
       "<matplotlib.axes._subplots.AxesSubplot at 0x7fd4728347d0>"
      ]
     },
     "execution_count": 39,
     "metadata": {},
     "output_type": "execute_result"
    },
    {
     "data": {
      "image/png": "[encoded data removed]",
      "text/plain": [
       "<Figure size 432x288 with 1 Axes>"
      ]
     },
     "metadata": {
      "needs_background": "light"
     },
     "output_type": "display_data"
    }
   ],
   "source": [
    "df_train['GarageType'] = df_train['GarageType'].fillna('Nog')\n",
    "df_test['GarageType'] = df_test['GarageType'].fillna('Nog')\n",
    "\n",
    "sns.boxplot(data=df_train, x='SalePrice', y='GarageType')"
   ]
  },
  {
   "cell_type": "markdown",
   "metadata": {
    "papermill": {
     "duration": 0.161655,
     "end_time": "2020-11-08T14:11:44.458734",
     "exception": false,
     "start_time": "2020-11-08T14:11:44.297079",
     "status": "completed"
    },
    "tags": []
   },
   "source": [
    "#### 9. BsmtQual : Evaluates the height of basement"
   ]
  },
  {
   "cell_type": "code",
   "execution_count": 40,
   "metadata": {
    "execution": {
     "iopub.execute_input": "2020-11-08T14:11:44.810618Z",
     "iopub.status.busy": "2020-11-08T14:11:44.809706Z",
     "iopub.status.idle": "2020-11-08T14:11:44.813961Z",
     "shell.execute_reply": "2020-11-08T14:11:44.814593Z"
    },
    "papermill": {
     "duration": 0.182258,
     "end_time": "2020-11-08T14:11:44.814752",
     "exception": false,
     "start_time": "2020-11-08T14:11:44.632494",
     "status": "completed"
    },
    "tags": []
   },
   "outputs": [
    {
     "data": {
      "text/plain": [
       "TA    649\n",
       "Gd    618\n",
       "Ex    121\n",
       "Fa     35\n",
       "Name: BsmtQual, dtype: int64"
      ]
     },
     "execution_count": 40,
     "metadata": {},
     "output_type": "execute_result"
    }
   ],
   "source": [
    "df_train.BsmtQual.value_counts()"
   ]
  },
  {
   "cell_type": "code",
   "execution_count": 41,
   "metadata": {
    "execution": {
     "iopub.execute_input": "2020-11-08T14:11:45.147420Z",
     "iopub.status.busy": "2020-11-08T14:11:45.146206Z",
     "iopub.status.idle": "2020-11-08T14:11:45.434862Z",
     "shell.execute_reply": "2020-11-08T14:11:45.434110Z"
    },
    "papermill": {
     "duration": 0.459151,
     "end_time": "2020-11-08T14:11:45.434991",
     "exception": false,
     "start_time": "2020-11-08T14:11:44.975840",
     "status": "completed"
    },
    "tags": []
   },
   "outputs": [
    {
     "data": {
      "text/plain": [
       "<matplotlib.axes._subplots.AxesSubplot at 0x7fd472724d10>"
      ]
     },
     "execution_count": 41,
     "metadata": {},
     "output_type": "execute_result"
    },
    {
     "data": {
      "image/png": "[encoded data removed]",
      "text/plain": [
       "<Figure size 432x288 with 1 Axes>"
      ]
     },
     "metadata": {
      "needs_background": "light"
     },
     "output_type": "display_data"
    }
   ],
   "source": [
    "sns.boxplot(data=df_train, x='SalePrice', y='BsmtQual')"
   ]
  },
  {
   "cell_type": "markdown",
   "metadata": {
    "papermill": {
     "duration": 0.165866,
     "end_time": "2020-11-08T14:11:45.767423",
     "exception": false,
     "start_time": "2020-11-08T14:11:45.601557",
     "status": "completed"
    },
    "tags": []
   },
   "source": [
    "Create a new category `NoBsmt` for NaN values."
   ]
  },
  {
   "cell_type": "code",
   "execution_count": 42,
   "metadata": {
    "execution": {
     "iopub.execute_input": "2020-11-08T14:11:46.109411Z",
     "iopub.status.busy": "2020-11-08T14:11:46.108662Z",
     "iopub.status.idle": "2020-11-08T14:11:46.314165Z",
     "shell.execute_reply": "2020-11-08T14:11:46.313413Z"
    },
    "papermill": {
     "duration": 0.381668,
     "end_time": "2020-11-08T14:11:46.314287",
     "exception": false,
     "start_time": "2020-11-08T14:11:45.932619",
     "status": "completed"
    },
    "tags": []
   },
   "outputs": [
    {
     "data": {
      "text/plain": [
       "<matplotlib.axes._subplots.AxesSubplot at 0x7fd472a0bbd0>"
      ]
     },
     "execution_count": 42,
     "metadata": {},
     "output_type": "execute_result"
    },
    {
     "data": {
      "image/png": "[encoded data removed]",
      "text/plain": [
       "<Figure size 432x288 with 1 Axes>"
      ]
     },
     "metadata": {
      "needs_background": "light"
     },
     "output_type": "display_data"
    }
   ],
   "source": [
    "df_train['BsmtQual'] = df_train['BsmtQual'].fillna('NoBsmt')\n",
    "df_test['BsmtQual'] = df_test['BsmtQual'].fillna('NoBsmt')\n",
    "\n",
    "sns.boxplot(data=df_train, x='SalePrice', y='BsmtQual')"
   ]
  },
  {
   "cell_type": "markdown",
   "metadata": {
    "papermill": {
     "duration": 0.165678,
     "end_time": "2020-11-08T14:11:46.644131",
     "exception": false,
     "start_time": "2020-11-08T14:11:46.478453",
     "status": "completed"
    },
    "tags": []
   },
   "source": [
    "#### 10. BsmtCond : Evaluates the general condition of the basement"
   ]
  },
  {
   "cell_type": "code",
   "execution_count": 43,
   "metadata": {
    "execution": {
     "iopub.execute_input": "2020-11-08T14:11:47.046752Z",
     "iopub.status.busy": "2020-11-08T14:11:47.045688Z",
     "iopub.status.idle": "2020-11-08T14:11:47.051252Z",
     "shell.execute_reply": "2020-11-08T14:11:47.050470Z"
    },
    "papermill": {
     "duration": 0.20235,
     "end_time": "2020-11-08T14:11:47.051453",
     "exception": false,
     "start_time": "2020-11-08T14:11:46.849103",
     "status": "completed"
    },
    "tags": []
   },
   "outputs": [
    {
     "data": {
      "text/plain": [
       "TA    1311\n",
       "Gd      65\n",
       "Fa      45\n",
       "Po       2\n",
       "Name: BsmtCond, dtype: int64"
      ]
     },
     "execution_count": 43,
     "metadata": {},
     "output_type": "execute_result"
    }
   ],
   "source": [
    "df_train.BsmtCond.value_counts()"
   ]
  },
  {
   "cell_type": "code",
   "execution_count": 44,
   "metadata": {
    "execution": {
     "iopub.execute_input": "2020-11-08T14:11:47.441820Z",
     "iopub.status.busy": "2020-11-08T14:11:47.434893Z",
     "iopub.status.idle": "2020-11-08T14:11:47.630899Z",
     "shell.execute_reply": "2020-11-08T14:11:47.630020Z"
    },
    "papermill": {
     "duration": 0.375448,
     "end_time": "2020-11-08T14:11:47.631061",
     "exception": false,
     "start_time": "2020-11-08T14:11:47.255613",
     "status": "completed"
    },
    "tags": []
   },
   "outputs": [
    {
     "data": {
      "text/plain": [
       "<matplotlib.axes._subplots.AxesSubplot at 0x7fd4725dad90>"
      ]
     },
     "execution_count": 44,
     "metadata": {},
     "output_type": "execute_result"
    },
    {
     "data": {
      "image/png": "[encoded data removed]",
      "text/plain": [
       "<Figure size 432x288 with 1 Axes>"
      ]
     },
     "metadata": {
      "needs_background": "light"
     },
     "output_type": "display_data"
    }
   ],
   "source": [
    "sns.boxplot(data=df_train, x='SalePrice', y='BsmtCond')"
   ]
  },
  {
   "cell_type": "markdown",
   "metadata": {
    "papermill": {
     "duration": 0.166425,
     "end_time": "2020-11-08T14:11:47.975143",
     "exception": false,
     "start_time": "2020-11-08T14:11:47.808718",
     "status": "completed"
    },
    "tags": []
   },
   "source": [
    "This feature won't help much to our model. So, let's drop it."
   ]
  },
  {
   "cell_type": "code",
   "execution_count": 45,
   "metadata": {
    "execution": {
     "iopub.execute_input": "2020-11-08T14:11:48.321547Z",
     "iopub.status.busy": "2020-11-08T14:11:48.320456Z",
     "iopub.status.idle": "2020-11-08T14:11:48.324096Z",
     "shell.execute_reply": "2020-11-08T14:11:48.323318Z"
    },
    "papermill": {
     "duration": 0.18143,
     "end_time": "2020-11-08T14:11:48.324218",
     "exception": false,
     "start_time": "2020-11-08T14:11:48.142788",
     "status": "completed"
    },
    "tags": []
   },
   "outputs": [],
   "source": [
    "df_train.drop('BsmtCond', axis=1, inplace=True)\n",
    "df_test.drop('BsmtCond', axis=1, inplace=True)"
   ]
  },
  {
   "cell_type": "markdown",
   "metadata": {
    "papermill": {
     "duration": 0.167392,
     "end_time": "2020-11-08T14:11:48.662616",
     "exception": false,
     "start_time": "2020-11-08T14:11:48.495224",
     "status": "completed"
    },
    "tags": []
   },
   "source": [
    "#### 11. BsmtExposure : Refers to walkout or garden level walls\n",
    "\n",
    "   Gd -  Good Exposure  \n",
    "   Av -  Average Exposure   \n",
    "   Mn -  Mimimum Exposure  \n",
    "   No -  No Exposure  \n",
    "   NA -  No Basement  "
   ]
  },
  {
   "cell_type": "code",
   "execution_count": 46,
   "metadata": {
    "execution": {
     "iopub.execute_input": "2020-11-08T14:11:49.006843Z",
     "iopub.status.busy": "2020-11-08T14:11:49.005803Z",
     "iopub.status.idle": "2020-11-08T14:11:49.009409Z",
     "shell.execute_reply": "2020-11-08T14:11:49.009994Z"
    },
    "papermill": {
     "duration": 0.179314,
     "end_time": "2020-11-08T14:11:49.010154",
     "exception": false,
     "start_time": "2020-11-08T14:11:48.830840",
     "status": "completed"
    },
    "tags": []
   },
   "outputs": [
    {
     "data": {
      "text/plain": [
       "No    953\n",
       "Av    221\n",
       "Gd    134\n",
       "Mn    114\n",
       "Name: BsmtExposure, dtype: int64"
      ]
     },
     "execution_count": 46,
     "metadata": {},
     "output_type": "execute_result"
    }
   ],
   "source": [
    "df_train.BsmtExposure.value_counts()"
   ]
  },
  {
   "cell_type": "code",
   "execution_count": 47,
   "metadata": {
    "execution": {
     "iopub.execute_input": "2020-11-08T14:11:49.359665Z",
     "iopub.status.busy": "2020-11-08T14:11:49.358087Z",
     "iopub.status.idle": "2020-11-08T14:11:49.537771Z",
     "shell.execute_reply": "2020-11-08T14:11:49.537107Z"
    },
    "papermill": {
     "duration": 0.359764,
     "end_time": "2020-11-08T14:11:49.537904",
     "exception": false,
     "start_time": "2020-11-08T14:11:49.178140",
     "status": "completed"
    },
    "tags": []
   },
   "outputs": [
    {
     "data": {
      "text/plain": [
       "<matplotlib.axes._subplots.AxesSubplot at 0x7fd47251a390>"
      ]
     },
     "execution_count": 47,
     "metadata": {},
     "output_type": "execute_result"
    },
    {
     "data": {
      "image/png": "[encoded data removed]",
      "text/plain": [
       "<Figure size 432x288 with 1 Axes>"
      ]
     },
     "metadata": {
      "needs_background": "light"
     },
     "output_type": "display_data"
    }
   ],
   "source": [
    "sns.boxplot(data=df_train, x='SalePrice', y='BsmtExposure')"
   ]
  },
  {
   "cell_type": "markdown",
   "metadata": {
    "papermill": {
     "duration": 0.168257,
     "end_time": "2020-11-08T14:11:49.878147",
     "exception": false,
     "start_time": "2020-11-08T14:11:49.709890",
     "status": "completed"
    },
    "tags": []
   },
   "source": [
    "Creating a new category `NoBsmt` for NaN values."
   ]
  },
  {
   "cell_type": "code",
   "execution_count": 48,
   "metadata": {
    "execution": {
     "iopub.execute_input": "2020-11-08T14:11:50.227521Z",
     "iopub.status.busy": "2020-11-08T14:11:50.226376Z",
     "iopub.status.idle": "2020-11-08T14:11:50.433608Z",
     "shell.execute_reply": "2020-11-08T14:11:50.434136Z"
    },
    "papermill": {
     "duration": 0.387646,
     "end_time": "2020-11-08T14:11:50.434295",
     "exception": false,
     "start_time": "2020-11-08T14:11:50.046649",
     "status": "completed"
    },
    "tags": []
   },
   "outputs": [
    {
     "data": {
      "text/plain": [
       "<matplotlib.axes._subplots.AxesSubplot at 0x7fd472460c10>"
      ]
     },
     "execution_count": 48,
     "metadata": {},
     "output_type": "execute_result"
    },
    {
     "data": {
      "image/png": "[encoded data removed]",
      "text/plain": [
       "<Figure size 432x288 with 1 Axes>"
      ]
     },
     "metadata": {
      "needs_background": "light"
     },
     "output_type": "display_data"
    }
   ],
   "source": [
    "df_train['BsmtExposure'] = df_train['BsmtExposure'].fillna('NoBsmt')\n",
    "df_test['BsmtExposure'] = df_test['BsmtExposure'].fillna('NoBsmt')\n",
    "\n",
    "sns.boxplot(data=df_train, x='SalePrice', y='BsmtExposure')"
   ]
  },
  {
   "cell_type": "markdown",
   "metadata": {
    "papermill": {
     "duration": 0.172258,
     "end_time": "2020-11-08T14:11:50.779970",
     "exception": false,
     "start_time": "2020-11-08T14:11:50.607712",
     "status": "completed"
    },
    "tags": []
   },
   "source": [
    "#### 12.BsmtFinType1: Rating of basement finished area\n",
    "\n",
    "   GLQ - Good Living Quarters  \n",
    "   ALQ - Average Living Quarters  \n",
    "   BLQ - Below Average Living Quarters     \n",
    "   Rec - Average Rec Room  \n",
    "   LwQ - Low Quality  \n",
    "   Unf - Unfinshed  \n",
    "   NA  - No Basement  "
   ]
  },
  {
   "cell_type": "code",
   "execution_count": 49,
   "metadata": {
    "execution": {
     "iopub.execute_input": "2020-11-08T14:11:51.130839Z",
     "iopub.status.busy": "2020-11-08T14:11:51.129791Z",
     "iopub.status.idle": "2020-11-08T14:11:51.133931Z",
     "shell.execute_reply": "2020-11-08T14:11:51.133208Z"
    },
    "papermill": {
     "duration": 0.184037,
     "end_time": "2020-11-08T14:11:51.134049",
     "exception": false,
     "start_time": "2020-11-08T14:11:50.950012",
     "status": "completed"
    },
    "tags": []
   },
   "outputs": [
    {
     "data": {
      "text/plain": [
       "Unf    430\n",
       "GLQ    418\n",
       "ALQ    220\n",
       "BLQ    148\n",
       "Rec    133\n",
       "LwQ     74\n",
       "Name: BsmtFinType1, dtype: int64"
      ]
     },
     "execution_count": 49,
     "metadata": {},
     "output_type": "execute_result"
    }
   ],
   "source": [
    "df_train.BsmtFinType1.value_counts()"
   ]
  },
  {
   "cell_type": "code",
   "execution_count": 50,
   "metadata": {
    "execution": {
     "iopub.execute_input": "2020-11-08T14:11:51.490120Z",
     "iopub.status.busy": "2020-11-08T14:11:51.482882Z",
     "iopub.status.idle": "2020-11-08T14:11:51.706292Z",
     "shell.execute_reply": "2020-11-08T14:11:51.706957Z"
    },
    "papermill": {
     "duration": 0.401121,
     "end_time": "2020-11-08T14:11:51.707124",
     "exception": false,
     "start_time": "2020-11-08T14:11:51.306003",
     "status": "completed"
    },
    "tags": []
   },
   "outputs": [
    {
     "data": {
      "text/plain": [
       "<matplotlib.axes._subplots.AxesSubplot at 0x7fd4723bc210>"
      ]
     },
     "execution_count": 50,
     "metadata": {},
     "output_type": "execute_result"
    },
    {
     "data": {
      "image/png": "[encoded data removed]",
      "text/plain": [
       "<Figure size 432x288 with 1 Axes>"
      ]
     },
     "metadata": {
      "needs_background": "light"
     },
     "output_type": "display_data"
    }
   ],
   "source": [
    "sns.boxplot(data=df_train, x='SalePrice', y='BsmtFinType1')"
   ]
  },
  {
   "cell_type": "markdown",
   "metadata": {
    "papermill": {
     "duration": 0.17285,
     "end_time": "2020-11-08T14:11:52.052601",
     "exception": false,
     "start_time": "2020-11-08T14:11:51.879751",
     "status": "completed"
    },
    "tags": []
   },
   "source": [
    "Creating a new category `NoBsmt` for NaN values."
   ]
  },
  {
   "cell_type": "code",
   "execution_count": 51,
   "metadata": {
    "execution": {
     "iopub.execute_input": "2020-11-08T14:11:52.415726Z",
     "iopub.status.busy": "2020-11-08T14:11:52.406843Z",
     "iopub.status.idle": "2020-11-08T14:11:52.655150Z",
     "shell.execute_reply": "2020-11-08T14:11:52.654344Z"
    },
    "papermill": {
     "duration": 0.429503,
     "end_time": "2020-11-08T14:11:52.655277",
     "exception": false,
     "start_time": "2020-11-08T14:11:52.225774",
     "status": "completed"
    },
    "tags": []
   },
   "outputs": [
    {
     "data": {
      "text/plain": [
       "<matplotlib.axes._subplots.AxesSubplot at 0x7fd4722b23d0>"
      ]
     },
     "execution_count": 51,
     "metadata": {},
     "output_type": "execute_result"
    },
    {
     "data": {
      "image/png": "[encoded data removed]",
      "text/plain": [
       "<Figure size 432x288 with 1 Axes>"
      ]
     },
     "metadata": {
      "needs_background": "light"
     },
     "output_type": "display_data"
    }
   ],
   "source": [
    "df_train['BsmtFinType1'] = df_train['BsmtFinType1'].fillna('NoBsmt')\n",
    "df_test['BsmtFinType1'] = df_test['BsmtFinType1'].fillna('NoBsmt')\n",
    "\n",
    "sns.boxplot(data=df_train, x='SalePrice', y='BsmtFinType1')"
   ]
  },
  {
   "cell_type": "markdown",
   "metadata": {
    "papermill": {
     "duration": 0.173488,
     "end_time": "2020-11-08T14:11:53.003754",
     "exception": false,
     "start_time": "2020-11-08T14:11:52.830266",
     "status": "completed"
    },
    "tags": []
   },
   "source": [
    "#### 13.BsmtFinType2: Rating of basement finished area (if multiple types)"
   ]
  },
  {
   "cell_type": "code",
   "execution_count": 52,
   "metadata": {
    "execution": {
     "iopub.execute_input": "2020-11-08T14:11:53.367029Z",
     "iopub.status.busy": "2020-11-08T14:11:53.366085Z",
     "iopub.status.idle": "2020-11-08T14:11:53.370695Z",
     "shell.execute_reply": "2020-11-08T14:11:53.369960Z"
    },
    "papermill": {
     "duration": 0.187706,
     "end_time": "2020-11-08T14:11:53.370834",
     "exception": false,
     "start_time": "2020-11-08T14:11:53.183128",
     "status": "completed"
    },
    "tags": []
   },
   "outputs": [
    {
     "data": {
      "text/plain": [
       "Unf    1256\n",
       "Rec      54\n",
       "LwQ      46\n",
       "BLQ      33\n",
       "ALQ      19\n",
       "GLQ      14\n",
       "Name: BsmtFinType2, dtype: int64"
      ]
     },
     "execution_count": 52,
     "metadata": {},
     "output_type": "execute_result"
    }
   ],
   "source": [
    "df_train.BsmtFinType2.value_counts()"
   ]
  },
  {
   "cell_type": "code",
   "execution_count": 53,
   "metadata": {
    "execution": {
     "iopub.execute_input": "2020-11-08T14:11:53.733728Z",
     "iopub.status.busy": "2020-11-08T14:11:53.731904Z",
     "iopub.status.idle": "2020-11-08T14:11:53.955036Z",
     "shell.execute_reply": "2020-11-08T14:11:53.955675Z"
    },
    "papermill": {
     "duration": 0.40989,
     "end_time": "2020-11-08T14:11:53.955834",
     "exception": false,
     "start_time": "2020-11-08T14:11:53.545944",
     "status": "completed"
    },
    "tags": []
   },
   "outputs": [
    {
     "data": {
      "text/plain": [
       "<matplotlib.axes._subplots.AxesSubplot at 0x7fd4721a5090>"
      ]
     },
     "execution_count": 53,
     "metadata": {},
     "output_type": "execute_result"
    },
    {
     "data": {
      "image/png": "[encoded data removed]",
      "text/plain": [
       "<Figure size 432x288 with 1 Axes>"
      ]
     },
     "metadata": {
      "needs_background": "light"
     },
     "output_type": "display_data"
    }
   ],
   "source": [
    "sns.boxplot(data=df_train, x='SalePrice', y='BsmtFinType2')"
   ]
  },
  {
   "cell_type": "markdown",
   "metadata": {
    "papermill": {
     "duration": 0.176448,
     "end_time": "2020-11-08T14:11:54.308244",
     "exception": false,
     "start_time": "2020-11-08T14:11:54.131796",
     "status": "completed"
    },
    "tags": []
   },
   "source": [
    "Dropping this one would be okay because it is not going to help our model"
   ]
  },
  {
   "cell_type": "code",
   "execution_count": 54,
   "metadata": {
    "execution": {
     "iopub.execute_input": "2020-11-08T14:11:54.686924Z",
     "iopub.status.busy": "2020-11-08T14:11:54.685925Z",
     "iopub.status.idle": "2020-11-08T14:11:54.691203Z",
     "shell.execute_reply": "2020-11-08T14:11:54.690184Z"
    },
    "papermill": {
     "duration": 0.207305,
     "end_time": "2020-11-08T14:11:54.691337",
     "exception": false,
     "start_time": "2020-11-08T14:11:54.484032",
     "status": "completed"
    },
    "tags": []
   },
   "outputs": [],
   "source": [
    "df_train.drop('BsmtFinType2', axis=1, inplace=True)\n",
    "df_test.drop('BsmtFinType2', axis=1, inplace=True)"
   ]
  },
  {
   "cell_type": "markdown",
   "metadata": {
    "papermill": {
     "duration": 0.175487,
     "end_time": "2020-11-08T14:11:55.056822",
     "exception": false,
     "start_time": "2020-11-08T14:11:54.881335",
     "status": "completed"
    },
    "tags": []
   },
   "source": [
    "#### 14. MasVnrType : Masonary Veneer Type\n",
    "\n",
    "   BrkCmn  - Brick Common  \n",
    "   BrkFace - Brick Face  \n",
    "   CBlock  - Cinder Block  \n",
    "   Stone   - Stone  \n",
    "   None - None  \n",
    "   "
   ]
  },
  {
   "cell_type": "code",
   "execution_count": 55,
   "metadata": {
    "execution": {
     "iopub.execute_input": "2020-11-08T14:11:55.418267Z",
     "iopub.status.busy": "2020-11-08T14:11:55.417264Z",
     "iopub.status.idle": "2020-11-08T14:11:55.422054Z",
     "shell.execute_reply": "2020-11-08T14:11:55.421157Z"
    },
    "papermill": {
     "duration": 0.188468,
     "end_time": "2020-11-08T14:11:55.422182",
     "exception": false,
     "start_time": "2020-11-08T14:11:55.233714",
     "status": "completed"
    },
    "tags": []
   },
   "outputs": [
    {
     "data": {
      "text/plain": [
       "None       864\n",
       "BrkFace    445\n",
       "Stone      128\n",
       "BrkCmn      15\n",
       "Name: MasVnrType, dtype: int64"
      ]
     },
     "execution_count": 55,
     "metadata": {},
     "output_type": "execute_result"
    }
   ],
   "source": [
    "df_train.MasVnrType.value_counts()"
   ]
  },
  {
   "cell_type": "code",
   "execution_count": 56,
   "metadata": {
    "execution": {
     "iopub.execute_input": "2020-11-08T14:11:55.794220Z",
     "iopub.status.busy": "2020-11-08T14:11:55.787868Z",
     "iopub.status.idle": "2020-11-08T14:11:55.975447Z",
     "shell.execute_reply": "2020-11-08T14:11:55.974737Z"
    },
    "papermill": {
     "duration": 0.372612,
     "end_time": "2020-11-08T14:11:55.975573",
     "exception": false,
     "start_time": "2020-11-08T14:11:55.602961",
     "status": "completed"
    },
    "tags": []
   },
   "outputs": [
    {
     "data": {
      "text/plain": [
       "<matplotlib.axes._subplots.AxesSubplot at 0x7fd472092dd0>"
      ]
     },
     "execution_count": 56,
     "metadata": {},
     "output_type": "execute_result"
    },
    {
     "data": {
      "image/png": "[encoded data removed]",
      "text/plain": [
       "<Figure size 432x288 with 1 Axes>"
      ]
     },
     "metadata": {
      "needs_background": "light"
     },
     "output_type": "display_data"
    }
   ],
   "source": [
    "sns.boxplot(data=df_train, x='SalePrice', y='MasVnrType')"
   ]
  },
  {
   "cell_type": "markdown",
   "metadata": {
    "papermill": {
     "duration": 0.178886,
     "end_time": "2020-11-08T14:11:56.334600",
     "exception": false,
     "start_time": "2020-11-08T14:11:56.155714",
     "status": "completed"
    },
    "tags": []
   },
   "source": [
    "Fill the missing values with `None`"
   ]
  },
  {
   "cell_type": "code",
   "execution_count": 57,
   "metadata": {
    "execution": {
     "iopub.execute_input": "2020-11-08T14:11:56.699542Z",
     "iopub.status.busy": "2020-11-08T14:11:56.698737Z",
     "iopub.status.idle": "2020-11-08T14:11:56.886072Z",
     "shell.execute_reply": "2020-11-08T14:11:56.885463Z"
    },
    "papermill": {
     "duration": 0.37413,
     "end_time": "2020-11-08T14:11:56.886190",
     "exception": false,
     "start_time": "2020-11-08T14:11:56.512060",
     "status": "completed"
    },
    "tags": []
   },
   "outputs": [
    {
     "data": {
      "text/plain": [
       "<matplotlib.axes._subplots.AxesSubplot at 0x7fd471fc6f50>"
      ]
     },
     "execution_count": 57,
     "metadata": {},
     "output_type": "execute_result"
    },
    {
     "data": {
      "image/png": "[encoded data removed]",
      "text/plain": [
       "<Figure size 432x288 with 1 Axes>"
      ]
     },
     "metadata": {
      "needs_background": "light"
     },
     "output_type": "display_data"
    }
   ],
   "source": [
    "df_train['MasVnrType'] = df_train['MasVnrType'].fillna('None')\n",
    "df_test['MasVnrType'] = df_test['MasVnrType'].fillna('None')\n",
    "\n",
    "sns.boxplot(data=df_train, x='SalePrice', y='MasVnrType')"
   ]
  },
  {
   "cell_type": "markdown",
   "metadata": {
    "papermill": {
     "duration": 0.179982,
     "end_time": "2020-11-08T14:11:57.246670",
     "exception": false,
     "start_time": "2020-11-08T14:11:57.066688",
     "status": "completed"
    },
    "tags": []
   },
   "source": [
    "#### 15. MasVnrArea : Masonary Veneer Area in square feet"
   ]
  },
  {
   "cell_type": "code",
   "execution_count": 58,
   "metadata": {
    "execution": {
     "iopub.execute_input": "2020-11-08T14:11:57.616640Z",
     "iopub.status.busy": "2020-11-08T14:11:57.615824Z",
     "iopub.status.idle": "2020-11-08T14:11:57.884022Z",
     "shell.execute_reply": "2020-11-08T14:11:57.884667Z"
    },
    "papermill": {
     "duration": 0.458764,
     "end_time": "2020-11-08T14:11:57.884829",
     "exception": false,
     "start_time": "2020-11-08T14:11:57.426065",
     "status": "completed"
    },
    "tags": []
   },
   "outputs": [
    {
     "data": {
      "text/plain": [
       "<matplotlib.axes._subplots.AxesSubplot at 0x7fd471f65590>"
      ]
     },
     "execution_count": 58,
     "metadata": {},
     "output_type": "execute_result"
    },
    {
     "data": {
      "image/png": "[encoded data removed]",
      "text/plain": [
       "<Figure size 432x288 with 1 Axes>"
      ]
     },
     "metadata": {
      "needs_background": "light"
     },
     "output_type": "display_data"
    }
   ],
   "source": [
    "sns.distplot(df_train.MasVnrArea)"
   ]
  },
  {
   "cell_type": "code",
   "execution_count": 59,
   "metadata": {
    "execution": {
     "iopub.execute_input": "2020-11-08T14:11:58.255224Z",
     "iopub.status.busy": "2020-11-08T14:11:58.254359Z",
     "iopub.status.idle": "2020-11-08T14:11:58.258944Z",
     "shell.execute_reply": "2020-11-08T14:11:58.257908Z"
    },
    "papermill": {
     "duration": 0.192648,
     "end_time": "2020-11-08T14:11:58.259084",
     "exception": false,
     "start_time": "2020-11-08T14:11:58.066436",
     "status": "completed"
    },
    "tags": []
   },
   "outputs": [
    {
     "name": "stdout",
     "output_type": "stream",
     "text": [
      "Maximum value: 1600.0\n",
      "Minimun value: 0.0\n"
     ]
    }
   ],
   "source": [
    "print('Maximum value: {}'.format(df_train.MasVnrArea.max()))\n",
    "print('Minimun value: {}'.format(df_train.MasVnrArea.min()))"
   ]
  },
  {
   "cell_type": "markdown",
   "metadata": {
    "papermill": {
     "duration": 0.180948,
     "end_time": "2020-11-08T14:11:58.620922",
     "exception": false,
     "start_time": "2020-11-08T14:11:58.439974",
     "status": "completed"
    },
    "tags": []
   },
   "source": [
    "Let's fill the missing value with Minimun"
   ]
  },
  {
   "cell_type": "code",
   "execution_count": 60,
   "metadata": {
    "execution": {
     "iopub.execute_input": "2020-11-08T14:11:58.991311Z",
     "iopub.status.busy": "2020-11-08T14:11:58.990273Z",
     "iopub.status.idle": "2020-11-08T14:11:58.993757Z",
     "shell.execute_reply": "2020-11-08T14:11:58.993040Z"
    },
    "papermill": {
     "duration": 0.19065,
     "end_time": "2020-11-08T14:11:58.993874",
     "exception": false,
     "start_time": "2020-11-08T14:11:58.803224",
     "status": "completed"
    },
    "tags": []
   },
   "outputs": [],
   "source": [
    "df_train['MasVnrArea'] = df_train['MasVnrArea'].fillna(df_train.MasVnrArea.min())\n",
    "df_test['MasVnrArea'] = df_test['MasVnrArea'].fillna(df_test.MasVnrArea.min())"
   ]
  },
  {
   "cell_type": "markdown",
   "metadata": {
    "papermill": {
     "duration": 0.183419,
     "end_time": "2020-11-08T14:11:59.360749",
     "exception": false,
     "start_time": "2020-11-08T14:11:59.177330",
     "status": "completed"
    },
    "tags": []
   },
   "source": [
    "#### 16. Electrical\n",
    "\n",
    "SBrkr  -  Standard Circuit Breakers & Romex  \n",
    "FuseA  -  Fuse Box over 60 AMP and all Romex wiring (Average)   \n",
    "FuseF  -  60 AMP Fuse Box and mostly Romex wiring (Fair)  \n",
    "FuseP  -  60 AMP Fuse Box and mostly knob & tube wiring (poor)  \n",
    "Mix - Mixed  "
   ]
  },
  {
   "cell_type": "code",
   "execution_count": 61,
   "metadata": {
    "execution": {
     "iopub.execute_input": "2020-11-08T14:11:59.737060Z",
     "iopub.status.busy": "2020-11-08T14:11:59.736031Z",
     "iopub.status.idle": "2020-11-08T14:11:59.739524Z",
     "shell.execute_reply": "2020-11-08T14:11:59.740092Z"
    },
    "papermill": {
     "duration": 0.198086,
     "end_time": "2020-11-08T14:11:59.740239",
     "exception": false,
     "start_time": "2020-11-08T14:11:59.542153",
     "status": "completed"
    },
    "tags": []
   },
   "outputs": [
    {
     "data": {
      "text/plain": [
       "SBrkr    1334\n",
       "FuseA      94\n",
       "FuseF      27\n",
       "FuseP       3\n",
       "Mix         1\n",
       "Name: Electrical, dtype: int64"
      ]
     },
     "execution_count": 61,
     "metadata": {},
     "output_type": "execute_result"
    }
   ],
   "source": [
    "df_train.Electrical.value_counts()"
   ]
  },
  {
   "cell_type": "code",
   "execution_count": 62,
   "metadata": {
    "execution": {
     "iopub.execute_input": "2020-11-08T14:12:00.121136Z",
     "iopub.status.busy": "2020-11-08T14:12:00.114809Z",
     "iopub.status.idle": "2020-11-08T14:12:00.320807Z",
     "shell.execute_reply": "2020-11-08T14:12:00.320020Z"
    },
    "papermill": {
     "duration": 0.397003,
     "end_time": "2020-11-08T14:12:00.320942",
     "exception": false,
     "start_time": "2020-11-08T14:11:59.923939",
     "status": "completed"
    },
    "tags": []
   },
   "outputs": [
    {
     "data": {
      "text/plain": [
       "<matplotlib.axes._subplots.AxesSubplot at 0x7fd471e105d0>"
      ]
     },
     "execution_count": 62,
     "metadata": {},
     "output_type": "execute_result"
    },
    {
     "data": {
      "image/png": "[encoded data removed]",
      "text/plain": [
       "<Figure size 432x288 with 1 Axes>"
      ]
     },
     "metadata": {
      "needs_background": "light"
     },
     "output_type": "display_data"
    }
   ],
   "source": [
    "sns.boxplot(data=df_train, x='SalePrice', y='Electrical')"
   ]
  },
  {
   "cell_type": "markdown",
   "metadata": {
    "papermill": {
     "duration": 0.188626,
     "end_time": "2020-11-08T14:12:00.694567",
     "exception": false,
     "start_time": "2020-11-08T14:12:00.505941",
     "status": "completed"
    },
    "tags": []
   },
   "source": [
    "We will fill the missing values with the most frequently used one in training set only as there in no missing values in this feature for test set. ie., `SBrkr`  \n"
   ]
  },
  {
   "cell_type": "code",
   "execution_count": 63,
   "metadata": {
    "execution": {
     "iopub.execute_input": "2020-11-08T14:12:01.074339Z",
     "iopub.status.busy": "2020-11-08T14:12:01.073252Z",
     "iopub.status.idle": "2020-11-08T14:12:01.399099Z",
     "shell.execute_reply": "2020-11-08T14:12:01.398371Z"
    },
    "papermill": {
     "duration": 0.517937,
     "end_time": "2020-11-08T14:12:01.399215",
     "exception": false,
     "start_time": "2020-11-08T14:12:00.881278",
     "status": "completed"
    },
    "tags": []
   },
   "outputs": [
    {
     "data": {
      "text/plain": [
       "<matplotlib.axes._subplots.AxesSubplot at 0x7fd471daa290>"
      ]
     },
     "execution_count": 63,
     "metadata": {},
     "output_type": "execute_result"
    },
    {
     "data": {
      "image/png": "[encoded data removed]",
      "text/plain": [
       "<Figure size 432x288 with 1 Axes>"
      ]
     },
     "metadata": {
      "needs_background": "light"
     },
     "output_type": "display_data"
    }
   ],
   "source": [
    "df_train['Electrical'] = df_train['Electrical'].fillna('SBrkr')\n",
    "\n",
    "sns.boxplot(data=df_train, x='SalePrice', y='Electrical')"
   ]
  },
  {
   "cell_type": "code",
   "execution_count": 64,
   "metadata": {
    "execution": {
     "iopub.execute_input": "2020-11-08T14:12:01.780972Z",
     "iopub.status.busy": "2020-11-08T14:12:01.779885Z",
     "iopub.status.idle": "2020-11-08T14:12:01.789397Z",
     "shell.execute_reply": "2020-11-08T14:12:01.788792Z"
    },
    "papermill": {
     "duration": 0.205827,
     "end_time": "2020-11-08T14:12:01.789526",
     "exception": false,
     "start_time": "2020-11-08T14:12:01.583699",
     "status": "completed"
    },
    "tags": []
   },
   "outputs": [
    {
     "data": {
      "text/plain": [
       "Series([], dtype: float64)"
      ]
     },
     "execution_count": 64,
     "metadata": {},
     "output_type": "execute_result"
    }
   ],
   "source": [
    "check_null(df_train)"
   ]
  },
  {
   "cell_type": "markdown",
   "metadata": {
    "papermill": {
     "duration": 0.187095,
     "end_time": "2020-11-08T14:12:02.162826",
     "exception": false,
     "start_time": "2020-11-08T14:12:01.975731",
     "status": "completed"
    },
    "tags": []
   },
   "source": [
    "Here we completed replacing the missing values which were both in Training set and Test set. Now there is mo missing value left in Training set, but still there are few in Test set which we will carry out replacing now. "
   ]
  },
  {
   "cell_type": "markdown",
   "metadata": {
    "papermill": {
     "duration": 0.185127,
     "end_time": "2020-11-08T14:12:02.534204",
     "exception": false,
     "start_time": "2020-11-08T14:12:02.349077",
     "status": "completed"
    },
    "tags": []
   },
   "source": [
    "#### 17. MSZoning : Identifies the general zoning classification of the sale.  \n",
    "\n",
    "   A  -  Agriculture  \n",
    "   C  -  Commercial  \n",
    "   FV -  Floating Village Residential  \n",
    "   I  -  Industrial  \n",
    "   RH -  Residential High Density  \n",
    "   RL -  Residential Low Density  \n",
    "   RP -  Residential Low Density Park   \n",
    "   RM -  Residential Medium Density  "
   ]
  },
  {
   "cell_type": "code",
   "execution_count": 65,
   "metadata": {
    "execution": {
     "iopub.execute_input": "2020-11-08T14:12:02.914313Z",
     "iopub.status.busy": "2020-11-08T14:12:02.913474Z",
     "iopub.status.idle": "2020-11-08T14:12:02.917596Z",
     "shell.execute_reply": "2020-11-08T14:12:02.916880Z"
    },
    "papermill": {
     "duration": 0.198053,
     "end_time": "2020-11-08T14:12:02.917717",
     "exception": false,
     "start_time": "2020-11-08T14:12:02.719664",
     "status": "completed"
    },
    "tags": []
   },
   "outputs": [
    {
     "data": {
      "text/plain": [
       "RL         1114\n",
       "RM          242\n",
       "FV           74\n",
       "C (all)      15\n",
       "RH           10\n",
       "Name: MSZoning, dtype: int64"
      ]
     },
     "execution_count": 65,
     "metadata": {},
     "output_type": "execute_result"
    }
   ],
   "source": [
    "df_test.MSZoning.value_counts()"
   ]
  },
  {
   "cell_type": "code",
   "execution_count": 66,
   "metadata": {
    "execution": {
     "iopub.execute_input": "2020-11-08T14:12:03.299969Z",
     "iopub.status.busy": "2020-11-08T14:12:03.298883Z",
     "iopub.status.idle": "2020-11-08T14:12:03.502243Z",
     "shell.execute_reply": "2020-11-08T14:12:03.502801Z"
    },
    "papermill": {
     "duration": 0.397624,
     "end_time": "2020-11-08T14:12:03.502975",
     "exception": false,
     "start_time": "2020-11-08T14:12:03.105351",
     "status": "completed"
    },
    "tags": []
   },
   "outputs": [
    {
     "data": {
      "text/plain": [
       "<matplotlib.axes._subplots.AxesSubplot at 0x7fd472194bd0>"
      ]
     },
     "execution_count": 66,
     "metadata": {},
     "output_type": "execute_result"
    },
    {
     "data": {
      "image/png": "[encoded data removed]",
      "text/plain": [
       "<Figure size 432x288 with 1 Axes>"
      ]
     },
     "metadata": {
      "needs_background": "light"
     },
     "output_type": "display_data"
    }
   ],
   "source": [
    "sns.boxplot(data=df_train, x='SalePrice', y='MSZoning')"
   ]
  },
  {
   "cell_type": "markdown",
   "metadata": {
    "papermill": {
     "duration": 0.187975,
     "end_time": "2020-11-08T14:12:03.879691",
     "exception": false,
     "start_time": "2020-11-08T14:12:03.691716",
     "status": "completed"
    },
    "tags": []
   },
   "source": [
    "Filling the missing values with the most frequent one in test set only as there is no missing value for this feature in training set. ie.,`RL`"
   ]
  },
  {
   "cell_type": "code",
   "execution_count": 67,
   "metadata": {
    "execution": {
     "iopub.execute_input": "2020-11-08T14:12:04.264665Z",
     "iopub.status.busy": "2020-11-08T14:12:04.263829Z",
     "iopub.status.idle": "2020-11-08T14:12:04.266546Z",
     "shell.execute_reply": "2020-11-08T14:12:04.267140Z"
    },
    "papermill": {
     "duration": 0.197291,
     "end_time": "2020-11-08T14:12:04.267298",
     "exception": false,
     "start_time": "2020-11-08T14:12:04.070007",
     "status": "completed"
    },
    "tags": []
   },
   "outputs": [],
   "source": [
    "df_test['MSZoning'] = df_test['MSZoning'].fillna('RL')"
   ]
  },
  {
   "cell_type": "markdown",
   "metadata": {
    "papermill": {
     "duration": 0.191036,
     "end_time": "2020-11-08T14:12:04.645717",
     "exception": false,
     "start_time": "2020-11-08T14:12:04.454681",
     "status": "completed"
    },
    "tags": []
   },
   "source": [
    "#### 18. Functional : Home Functionality (Assume typical unless deductions are warrented)\n",
    "\n",
    "   Typ - Typical Functionality  \n",
    "   Min1 - Minor Deductions 1  \n",
    "   Min2 - Minor Deductions 2  \n",
    "   Mod - Moderate Deductions  \n",
    "   Maj1 - Major Deductions 1  \n",
    "   Maj2 - Major Deductions 2  \n",
    "   Sev - Severely Damaged  \n",
    "   Sal - Salvage only"
   ]
  },
  {
   "cell_type": "code",
   "execution_count": 68,
   "metadata": {
    "execution": {
     "iopub.execute_input": "2020-11-08T14:12:05.031030Z",
     "iopub.status.busy": "2020-11-08T14:12:05.030006Z",
     "iopub.status.idle": "2020-11-08T14:12:05.034895Z",
     "shell.execute_reply": "2020-11-08T14:12:05.034149Z"
    },
    "papermill": {
     "duration": 0.202033,
     "end_time": "2020-11-08T14:12:05.035026",
     "exception": false,
     "start_time": "2020-11-08T14:12:04.832993",
     "status": "completed"
    },
    "tags": []
   },
   "outputs": [
    {
     "data": {
      "text/plain": [
       "Typ     1357\n",
       "Min2      36\n",
       "Min1      34\n",
       "Mod       20\n",
       "Maj1       5\n",
       "Maj2       4\n",
       "Sev        1\n",
       "Name: Functional, dtype: int64"
      ]
     },
     "execution_count": 68,
     "metadata": {},
     "output_type": "execute_result"
    }
   ],
   "source": [
    "df_test.Functional.value_counts() "
   ]
  },
  {
   "cell_type": "code",
   "execution_count": 69,
   "metadata": {
    "execution": {
     "iopub.execute_input": "2020-11-08T14:12:05.423226Z",
     "iopub.status.busy": "2020-11-08T14:12:05.422285Z",
     "iopub.status.idle": "2020-11-08T14:12:05.426857Z",
     "shell.execute_reply": "2020-11-08T14:12:05.426103Z"
    },
    "papermill": {
     "duration": 0.201631,
     "end_time": "2020-11-08T14:12:05.426977",
     "exception": false,
     "start_time": "2020-11-08T14:12:05.225346",
     "status": "completed"
    },
    "tags": []
   },
   "outputs": [
    {
     "data": {
      "text/plain": [
       "Typ     1360\n",
       "Min2      34\n",
       "Min1      31\n",
       "Mod       15\n",
       "Maj1      14\n",
       "Maj2       5\n",
       "Sev        1\n",
       "Name: Functional, dtype: int64"
      ]
     },
     "execution_count": 69,
     "metadata": {},
     "output_type": "execute_result"
    }
   ],
   "source": [
    "df_train.Functional.value_counts()"
   ]
  },
  {
   "cell_type": "markdown",
   "metadata": {
    "papermill": {
     "duration": 0.20315,
     "end_time": "2020-11-08T14:12:05.826785",
     "exception": false,
     "start_time": "2020-11-08T14:12:05.623635",
     "status": "completed"
    },
    "tags": []
   },
   "source": [
    "Fill the missing value with most frequent value, which is `Typ`"
   ]
  },
  {
   "cell_type": "code",
   "execution_count": 70,
   "metadata": {
    "execution": {
     "iopub.execute_input": "2020-11-08T14:12:06.212861Z",
     "iopub.status.busy": "2020-11-08T14:12:06.212099Z",
     "iopub.status.idle": "2020-11-08T14:12:06.214937Z",
     "shell.execute_reply": "2020-11-08T14:12:06.214220Z"
    },
    "papermill": {
     "duration": 0.198995,
     "end_time": "2020-11-08T14:12:06.215067",
     "exception": false,
     "start_time": "2020-11-08T14:12:06.016072",
     "status": "completed"
    },
    "tags": []
   },
   "outputs": [],
   "source": [
    "df_test['Functional'] = df_test['Functional'].fillna('Typ')"
   ]
  },
  {
   "cell_type": "markdown",
   "metadata": {
    "papermill": {
     "duration": 0.189201,
     "end_time": "2020-11-08T14:12:06.595129",
     "exception": false,
     "start_time": "2020-11-08T14:12:06.405928",
     "status": "completed"
    },
    "tags": []
   },
   "source": [
    "#### 19.BsmtFullBath : Basement full bathrooms"
   ]
  },
  {
   "cell_type": "code",
   "execution_count": 71,
   "metadata": {
    "execution": {
     "iopub.execute_input": "2020-11-08T14:12:07.008375Z",
     "iopub.status.busy": "2020-11-08T14:12:07.006034Z",
     "iopub.status.idle": "2020-11-08T14:12:07.013144Z",
     "shell.execute_reply": "2020-11-08T14:12:07.012536Z"
    },
    "papermill": {
     "duration": 0.20448,
     "end_time": "2020-11-08T14:12:07.013275",
     "exception": false,
     "start_time": "2020-11-08T14:12:06.808795",
     "status": "completed"
    },
    "tags": []
   },
   "outputs": [
    {
     "data": {
      "text/plain": [
       "0.0    849\n",
       "1.0    584\n",
       "2.0     23\n",
       "3.0      1\n",
       "Name: BsmtFullBath, dtype: int64"
      ]
     },
     "execution_count": 71,
     "metadata": {},
     "output_type": "execute_result"
    }
   ],
   "source": [
    "df_test.BsmtFullBath.value_counts()"
   ]
  },
  {
   "cell_type": "code",
   "execution_count": 72,
   "metadata": {
    "execution": {
     "iopub.execute_input": "2020-11-08T14:12:07.404159Z",
     "iopub.status.busy": "2020-11-08T14:12:07.403297Z",
     "iopub.status.idle": "2020-11-08T14:12:07.408288Z",
     "shell.execute_reply": "2020-11-08T14:12:07.407646Z"
    },
    "papermill": {
     "duration": 0.204018,
     "end_time": "2020-11-08T14:12:07.408430",
     "exception": false,
     "start_time": "2020-11-08T14:12:07.204412",
     "status": "completed"
    },
    "tags": []
   },
   "outputs": [
    {
     "data": {
      "text/plain": [
       "0    856\n",
       "1    588\n",
       "2     15\n",
       "3      1\n",
       "Name: BsmtFullBath, dtype: int64"
      ]
     },
     "execution_count": 72,
     "metadata": {},
     "output_type": "execute_result"
    }
   ],
   "source": [
    "df_train.BsmtFullBath.value_counts()"
   ]
  },
  {
   "cell_type": "markdown",
   "metadata": {
    "papermill": {
     "duration": 0.190254,
     "end_time": "2020-11-08T14:12:07.790173",
     "exception": false,
     "start_time": "2020-11-08T14:12:07.599919",
     "status": "completed"
    },
    "tags": []
   },
   "source": [
    "Fill the missing value with most frequent value, which is `0`"
   ]
  },
  {
   "cell_type": "code",
   "execution_count": 73,
   "metadata": {
    "execution": {
     "iopub.execute_input": "2020-11-08T14:12:08.187556Z",
     "iopub.status.busy": "2020-11-08T14:12:08.186511Z",
     "iopub.status.idle": "2020-11-08T14:12:08.189675Z",
     "shell.execute_reply": "2020-11-08T14:12:08.189069Z"
    },
    "papermill": {
     "duration": 0.202053,
     "end_time": "2020-11-08T14:12:08.189792",
     "exception": false,
     "start_time": "2020-11-08T14:12:07.987739",
     "status": "completed"
    },
    "tags": []
   },
   "outputs": [],
   "source": [
    "df_test['BsmtFullBath'] = df_test['BsmtFullBath'].fillna('0')"
   ]
  },
  {
   "cell_type": "markdown",
   "metadata": {
    "papermill": {
     "duration": 0.190723,
     "end_time": "2020-11-08T14:12:08.572696",
     "exception": false,
     "start_time": "2020-11-08T14:12:08.381973",
     "status": "completed"
    },
    "tags": []
   },
   "source": [
    "#### 20. BsmtHalfBath : Basement half bathrooms"
   ]
  },
  {
   "cell_type": "code",
   "execution_count": 74,
   "metadata": {
    "execution": {
     "iopub.execute_input": "2020-11-08T14:12:08.963172Z",
     "iopub.status.busy": "2020-11-08T14:12:08.962084Z",
     "iopub.status.idle": "2020-11-08T14:12:08.966221Z",
     "shell.execute_reply": "2020-11-08T14:12:08.965587Z"
    },
    "papermill": {
     "duration": 0.202832,
     "end_time": "2020-11-08T14:12:08.966339",
     "exception": false,
     "start_time": "2020-11-08T14:12:08.763507",
     "status": "completed"
    },
    "tags": []
   },
   "outputs": [
    {
     "data": {
      "text/plain": [
       "0.0    1364\n",
       "1.0      91\n",
       "2.0       2\n",
       "Name: BsmtHalfBath, dtype: int64"
      ]
     },
     "execution_count": 74,
     "metadata": {},
     "output_type": "execute_result"
    }
   ],
   "source": [
    "df_test.BsmtHalfBath.value_counts()"
   ]
  },
  {
   "cell_type": "code",
   "execution_count": 75,
   "metadata": {
    "execution": {
     "iopub.execute_input": "2020-11-08T14:12:09.360832Z",
     "iopub.status.busy": "2020-11-08T14:12:09.359965Z",
     "iopub.status.idle": "2020-11-08T14:12:09.364548Z",
     "shell.execute_reply": "2020-11-08T14:12:09.363902Z"
    },
    "papermill": {
     "duration": 0.20414,
     "end_time": "2020-11-08T14:12:09.364671",
     "exception": false,
     "start_time": "2020-11-08T14:12:09.160531",
     "status": "completed"
    },
    "tags": []
   },
   "outputs": [
    {
     "data": {
      "text/plain": [
       "0    1378\n",
       "1      80\n",
       "2       2\n",
       "Name: BsmtHalfBath, dtype: int64"
      ]
     },
     "execution_count": 75,
     "metadata": {},
     "output_type": "execute_result"
    }
   ],
   "source": [
    "df_train.BsmtHalfBath.value_counts()"
   ]
  },
  {
   "cell_type": "markdown",
   "metadata": {
    "papermill": {
     "duration": 0.196699,
     "end_time": "2020-11-08T14:12:09.754449",
     "exception": false,
     "start_time": "2020-11-08T14:12:09.557750",
     "status": "completed"
    },
    "tags": []
   },
   "source": [
    "Fill the missing value with most frequent value, which is `0`"
   ]
  },
  {
   "cell_type": "code",
   "execution_count": 76,
   "metadata": {
    "execution": {
     "iopub.execute_input": "2020-11-08T14:12:10.146466Z",
     "iopub.status.busy": "2020-11-08T14:12:10.145633Z",
     "iopub.status.idle": "2020-11-08T14:12:10.148831Z",
     "shell.execute_reply": "2020-11-08T14:12:10.148211Z"
    },
    "papermill": {
     "duration": 0.202074,
     "end_time": "2020-11-08T14:12:10.148952",
     "exception": false,
     "start_time": "2020-11-08T14:12:09.946878",
     "status": "completed"
    },
    "tags": []
   },
   "outputs": [],
   "source": [
    "df_test['BsmtHalfBath'] = df_test['BsmtHalfBath'].fillna('0')"
   ]
  },
  {
   "cell_type": "markdown",
   "metadata": {
    "papermill": {
     "duration": 0.191989,
     "end_time": "2020-11-08T14:12:10.553472",
     "exception": false,
     "start_time": "2020-11-08T14:12:10.361483",
     "status": "completed"
    },
    "tags": []
   },
   "source": [
    "#### 21. Utilities: Type of utilities available\n",
    "\n",
    "   AllPub -  All public Utilities (E,G,W,& S)    \n",
    "   NoSewr -  Electricity, Gas, and Water (Septic Tank)  \n",
    "   NoSeWa -  Electricity and Gas Only  \n",
    "   ELO - Electricity only     "
   ]
  },
  {
   "cell_type": "code",
   "execution_count": 77,
   "metadata": {
    "execution": {
     "iopub.execute_input": "2020-11-08T14:12:10.951463Z",
     "iopub.status.busy": "2020-11-08T14:12:10.950557Z",
     "iopub.status.idle": "2020-11-08T14:12:10.955237Z",
     "shell.execute_reply": "2020-11-08T14:12:10.954621Z"
    },
    "papermill": {
     "duration": 0.207358,
     "end_time": "2020-11-08T14:12:10.955412",
     "exception": false,
     "start_time": "2020-11-08T14:12:10.748054",
     "status": "completed"
    },
    "tags": []
   },
   "outputs": [
    {
     "data": {
      "text/plain": [
       "AllPub    1457\n",
       "Name: Utilities, dtype: int64"
      ]
     },
     "execution_count": 77,
     "metadata": {},
     "output_type": "execute_result"
    }
   ],
   "source": [
    "df_test.Utilities.value_counts()"
   ]
  },
  {
   "cell_type": "code",
   "execution_count": 78,
   "metadata": {
    "execution": {
     "iopub.execute_input": "2020-11-08T14:12:11.353704Z",
     "iopub.status.busy": "2020-11-08T14:12:11.352552Z",
     "iopub.status.idle": "2020-11-08T14:12:11.356929Z",
     "shell.execute_reply": "2020-11-08T14:12:11.356196Z"
    },
    "papermill": {
     "duration": 0.207172,
     "end_time": "2020-11-08T14:12:11.357055",
     "exception": false,
     "start_time": "2020-11-08T14:12:11.149883",
     "status": "completed"
    },
    "tags": []
   },
   "outputs": [
    {
     "data": {
      "text/plain": [
       "AllPub    1459\n",
       "NoSeWa       1\n",
       "Name: Utilities, dtype: int64"
      ]
     },
     "execution_count": 78,
     "metadata": {},
     "output_type": "execute_result"
    }
   ],
   "source": [
    "df_train.Utilities.value_counts()"
   ]
  },
  {
   "cell_type": "markdown",
   "metadata": {
    "papermill": {
     "duration": 0.194642,
     "end_time": "2020-11-08T14:12:11.746535",
     "exception": false,
     "start_time": "2020-11-08T14:12:11.551893",
     "status": "completed"
    },
    "tags": []
   },
   "source": [
    "Dropping this feature as it won't help our model."
   ]
  },
  {
   "cell_type": "code",
   "execution_count": 79,
   "metadata": {
    "execution": {
     "iopub.execute_input": "2020-11-08T14:12:12.144641Z",
     "iopub.status.busy": "2020-11-08T14:12:12.143472Z",
     "iopub.status.idle": "2020-11-08T14:12:12.150072Z",
     "shell.execute_reply": "2020-11-08T14:12:12.149304Z"
    },
    "papermill": {
     "duration": 0.20942,
     "end_time": "2020-11-08T14:12:12.150194",
     "exception": false,
     "start_time": "2020-11-08T14:12:11.940774",
     "status": "completed"
    },
    "tags": []
   },
   "outputs": [],
   "source": [
    "df_train.drop('Utilities', axis=1, inplace=True)\n",
    "df_test.drop('Utilities', axis=1, inplace=True)"
   ]
  },
  {
   "cell_type": "markdown",
   "metadata": {
    "papermill": {
     "duration": 0.192975,
     "end_time": "2020-11-08T14:12:12.537999",
     "exception": false,
     "start_time": "2020-11-08T14:12:12.345024",
     "status": "completed"
    },
    "tags": []
   },
   "source": [
    "#### 22. SaleType: Type of sale\n",
    "\n",
    "   WD -  Warranty Deed - Conventional  \n",
    "   CWD - Warranty Deed - Cash  \n",
    "   VWD - Warranty Deed - VA Loan  \n",
    "   New - Home just constructed and sold  \n",
    "   COD - Court Officer Deed/Estate  \n",
    "   Con - Contract 15% Down payment regular terms  \n",
    "   ConLw  -  Contract Low Down payment and low interest  \n",
    "   ConLI  -  Contract Low Interest  \n",
    "   ConLD  -  Contract Low Down  \n",
    "   Oth - Other  "
   ]
  },
  {
   "cell_type": "code",
   "execution_count": 80,
   "metadata": {
    "execution": {
     "iopub.execute_input": "2020-11-08T14:12:12.937222Z",
     "iopub.status.busy": "2020-11-08T14:12:12.936182Z",
     "iopub.status.idle": "2020-11-08T14:12:12.941036Z",
     "shell.execute_reply": "2020-11-08T14:12:12.940282Z"
    },
    "papermill": {
     "duration": 0.207331,
     "end_time": "2020-11-08T14:12:12.941159",
     "exception": false,
     "start_time": "2020-11-08T14:12:12.733828",
     "status": "completed"
    },
    "tags": []
   },
   "outputs": [
    {
     "data": {
      "text/plain": [
       "WD       1258\n",
       "New       117\n",
       "COD        44\n",
       "ConLD      17\n",
       "CWD         8\n",
       "ConLI       4\n",
       "Oth         4\n",
       "ConLw       3\n",
       "Con         3\n",
       "Name: SaleType, dtype: int64"
      ]
     },
     "execution_count": 80,
     "metadata": {},
     "output_type": "execute_result"
    }
   ],
   "source": [
    "df_test.SaleType.value_counts()"
   ]
  },
  {
   "cell_type": "code",
   "execution_count": 81,
   "metadata": {
    "execution": {
     "iopub.execute_input": "2020-11-08T14:12:13.341525Z",
     "iopub.status.busy": "2020-11-08T14:12:13.340423Z",
     "iopub.status.idle": "2020-11-08T14:12:13.345011Z",
     "shell.execute_reply": "2020-11-08T14:12:13.344257Z"
    },
    "papermill": {
     "duration": 0.207641,
     "end_time": "2020-11-08T14:12:13.345136",
     "exception": false,
     "start_time": "2020-11-08T14:12:13.137495",
     "status": "completed"
    },
    "tags": []
   },
   "outputs": [
    {
     "data": {
      "text/plain": [
       "WD       1267\n",
       "New       122\n",
       "COD        43\n",
       "ConLD       9\n",
       "ConLw       5\n",
       "ConLI       5\n",
       "CWD         4\n",
       "Oth         3\n",
       "Con         2\n",
       "Name: SaleType, dtype: int64"
      ]
     },
     "execution_count": 81,
     "metadata": {},
     "output_type": "execute_result"
    }
   ],
   "source": [
    "df_train.SaleType.value_counts()"
   ]
  },
  {
   "cell_type": "code",
   "execution_count": 82,
   "metadata": {
    "execution": {
     "iopub.execute_input": "2020-11-08T14:12:13.742884Z",
     "iopub.status.busy": "2020-11-08T14:12:13.740080Z",
     "iopub.status.idle": "2020-11-08T14:12:14.018094Z",
     "shell.execute_reply": "2020-11-08T14:12:14.017468Z"
    },
    "papermill": {
     "duration": 0.478468,
     "end_time": "2020-11-08T14:12:14.018214",
     "exception": false,
     "start_time": "2020-11-08T14:12:13.539746",
     "status": "completed"
    },
    "tags": []
   },
   "outputs": [
    {
     "data": {
      "text/plain": [
       "<matplotlib.axes._subplots.AxesSubplot at 0x7fd471bdf590>"
      ]
     },
     "execution_count": 82,
     "metadata": {},
     "output_type": "execute_result"
    },
    {
     "data": {
      "image/png": "[encoded data removed]",
      "text/plain": [
       "<Figure size 432x288 with 1 Axes>"
      ]
     },
     "metadata": {
      "needs_background": "light"
     },
     "output_type": "display_data"
    }
   ],
   "source": [
    "sns.boxplot(data=df_train, x='SalePrice', y='SaleType')"
   ]
  },
  {
   "cell_type": "markdown",
   "metadata": {
    "papermill": {
     "duration": 0.196256,
     "end_time": "2020-11-08T14:12:14.411857",
     "exception": false,
     "start_time": "2020-11-08T14:12:14.215601",
     "status": "completed"
    },
    "tags": []
   },
   "source": [
    "Replacing the missing value with the most frequent value, that is `WD`"
   ]
  },
  {
   "cell_type": "code",
   "execution_count": 83,
   "metadata": {
    "execution": {
     "iopub.execute_input": "2020-11-08T14:12:14.812300Z",
     "iopub.status.busy": "2020-11-08T14:12:14.811464Z",
     "iopub.status.idle": "2020-11-08T14:12:14.814762Z",
     "shell.execute_reply": "2020-11-08T14:12:14.814065Z"
    },
    "papermill": {
     "duration": 0.205641,
     "end_time": "2020-11-08T14:12:14.814887",
     "exception": false,
     "start_time": "2020-11-08T14:12:14.609246",
     "status": "completed"
    },
    "tags": []
   },
   "outputs": [],
   "source": [
    "df_test['SaleType'] = df_test['SaleType'].fillna('WD')"
   ]
  },
  {
   "cell_type": "markdown",
   "metadata": {
    "papermill": {
     "duration": 0.198464,
     "end_time": "2020-11-08T14:12:15.211028",
     "exception": false,
     "start_time": "2020-11-08T14:12:15.012564",
     "status": "completed"
    },
    "tags": []
   },
   "source": [
    "#### 23. GarageArea: Size of garage in square feet"
   ]
  },
  {
   "cell_type": "code",
   "execution_count": 84,
   "metadata": {
    "execution": {
     "iopub.execute_input": "2020-11-08T14:12:15.617364Z",
     "iopub.status.busy": "2020-11-08T14:12:15.616431Z",
     "iopub.status.idle": "2020-11-08T14:12:15.849286Z",
     "shell.execute_reply": "2020-11-08T14:12:15.848669Z"
    },
    "papermill": {
     "duration": 0.441444,
     "end_time": "2020-11-08T14:12:15.849438",
     "exception": false,
     "start_time": "2020-11-08T14:12:15.407994",
     "status": "completed"
    },
    "tags": []
   },
   "outputs": [
    {
     "data": {
      "text/plain": [
       "<matplotlib.axes._subplots.AxesSubplot at 0x7fd471af7310>"
      ]
     },
     "execution_count": 84,
     "metadata": {},
     "output_type": "execute_result"
    },
    {
     "data": {
      "image/png": "[encoded data removed]",
      "text/plain": [
       "<Figure size 432x288 with 1 Axes>"
      ]
     },
     "metadata": {
      "needs_background": "light"
     },
     "output_type": "display_data"
    }
   ],
   "source": [
    "sns.distplot(df_test.GarageArea)"
   ]
  },
  {
   "cell_type": "markdown",
   "metadata": {
    "papermill": {
     "duration": 0.198385,
     "end_time": "2020-11-08T14:12:16.255431",
     "exception": false,
     "start_time": "2020-11-08T14:12:16.057046",
     "status": "completed"
    },
    "tags": []
   },
   "source": [
    "Fill the missing value with minimum value"
   ]
  },
  {
   "cell_type": "code",
   "execution_count": 85,
   "metadata": {
    "execution": {
     "iopub.execute_input": "2020-11-08T14:12:16.676241Z",
     "iopub.status.busy": "2020-11-08T14:12:16.675092Z",
     "iopub.status.idle": "2020-11-08T14:12:16.678091Z",
     "shell.execute_reply": "2020-11-08T14:12:16.678830Z"
    },
    "papermill": {
     "duration": 0.225029,
     "end_time": "2020-11-08T14:12:16.679040",
     "exception": false,
     "start_time": "2020-11-08T14:12:16.454011",
     "status": "completed"
    },
    "tags": []
   },
   "outputs": [],
   "source": [
    "df_test['GarageArea'] = df_test['GarageArea'].fillna(df_test.GarageArea.min())"
   ]
  },
  {
   "cell_type": "markdown",
   "metadata": {
    "papermill": {
     "duration": 0.221918,
     "end_time": "2020-11-08T14:12:17.108531",
     "exception": false,
     "start_time": "2020-11-08T14:12:16.886613",
     "status": "completed"
    },
    "tags": []
   },
   "source": [
    "#### 24.GarageCars : Size of garage in car capacity"
   ]
  },
  {
   "cell_type": "code",
   "execution_count": 86,
   "metadata": {
    "execution": {
     "iopub.execute_input": "2020-11-08T14:12:17.515852Z",
     "iopub.status.busy": "2020-11-08T14:12:17.508945Z",
     "iopub.status.idle": "2020-11-08T14:12:17.734570Z",
     "shell.execute_reply": "2020-11-08T14:12:17.733841Z"
    },
    "papermill": {
     "duration": 0.427382,
     "end_time": "2020-11-08T14:12:17.734686",
     "exception": false,
     "start_time": "2020-11-08T14:12:17.307304",
     "status": "completed"
    },
    "tags": []
   },
   "outputs": [
    {
     "data": {
      "text/plain": [
       "<matplotlib.axes._subplots.AxesSubplot at 0x7fd471ae6bd0>"
      ]
     },
     "execution_count": 86,
     "metadata": {},
     "output_type": "execute_result"
    },
    {
     "data": {
      "image/png": "[encoded data removed]",
      "text/plain": [
       "<Figure size 432x288 with 1 Axes>"
      ]
     },
     "metadata": {
      "needs_background": "light"
     },
     "output_type": "display_data"
    }
   ],
   "source": [
    "sns.distplot(df_test.GarageCars)"
   ]
  },
  {
   "cell_type": "markdown",
   "metadata": {
    "papermill": {
     "duration": 0.200914,
     "end_time": "2020-11-08T14:12:18.135277",
     "exception": false,
     "start_time": "2020-11-08T14:12:17.934363",
     "status": "completed"
    },
    "tags": []
   },
   "source": [
    "Fill the missing value with minimum value"
   ]
  },
  {
   "cell_type": "code",
   "execution_count": 87,
   "metadata": {
    "execution": {
     "iopub.execute_input": "2020-11-08T14:12:18.541535Z",
     "iopub.status.busy": "2020-11-08T14:12:18.540625Z",
     "iopub.status.idle": "2020-11-08T14:12:18.543876Z",
     "shell.execute_reply": "2020-11-08T14:12:18.543241Z"
    },
    "papermill": {
     "duration": 0.208251,
     "end_time": "2020-11-08T14:12:18.543995",
     "exception": false,
     "start_time": "2020-11-08T14:12:18.335744",
     "status": "completed"
    },
    "tags": []
   },
   "outputs": [],
   "source": [
    "df_test['GarageCars'] = df_test['GarageCars'].fillna(df_test.GarageCars.min())"
   ]
  },
  {
   "cell_type": "markdown",
   "metadata": {
    "papermill": {
     "duration": 0.198697,
     "end_time": "2020-11-08T14:12:18.942617",
     "exception": false,
     "start_time": "2020-11-08T14:12:18.743920",
     "status": "completed"
    },
    "tags": []
   },
   "source": [
    "#### 25. KitchenQual: Kitchen quality"
   ]
  },
  {
   "cell_type": "code",
   "execution_count": 88,
   "metadata": {
    "execution": {
     "iopub.execute_input": "2020-11-08T14:12:19.383029Z",
     "iopub.status.busy": "2020-11-08T14:12:19.381799Z",
     "iopub.status.idle": "2020-11-08T14:12:19.387400Z",
     "shell.execute_reply": "2020-11-08T14:12:19.388273Z"
    },
    "papermill": {
     "duration": 0.238824,
     "end_time": "2020-11-08T14:12:19.388514",
     "exception": false,
     "start_time": "2020-11-08T14:12:19.149690",
     "status": "completed"
    },
    "tags": []
   },
   "outputs": [
    {
     "data": {
      "text/plain": [
       "TA    757\n",
       "Gd    565\n",
       "Ex    105\n",
       "Fa     31\n",
       "Name: KitchenQual, dtype: int64"
      ]
     },
     "execution_count": 88,
     "metadata": {},
     "output_type": "execute_result"
    }
   ],
   "source": [
    "df_test.KitchenQual.value_counts()"
   ]
  },
  {
   "cell_type": "markdown",
   "metadata": {
    "papermill": {
     "duration": 0.203512,
     "end_time": "2020-11-08T14:12:19.806372",
     "exception": false,
     "start_time": "2020-11-08T14:12:19.602860",
     "status": "completed"
    },
    "tags": []
   },
   "source": [
    "Replacing with the most frequent value, `TA`"
   ]
  },
  {
   "cell_type": "code",
   "execution_count": 89,
   "metadata": {
    "execution": {
     "iopub.execute_input": "2020-11-08T14:12:20.225293Z",
     "iopub.status.busy": "2020-11-08T14:12:20.224573Z",
     "iopub.status.idle": "2020-11-08T14:12:20.227710Z",
     "shell.execute_reply": "2020-11-08T14:12:20.226959Z"
    },
    "papermill": {
     "duration": 0.211663,
     "end_time": "2020-11-08T14:12:20.227838",
     "exception": false,
     "start_time": "2020-11-08T14:12:20.016175",
     "status": "completed"
    },
    "tags": []
   },
   "outputs": [],
   "source": [
    "df_test['KitchenQual'] = df_test['KitchenQual'].fillna('TA')"
   ]
  },
  {
   "cell_type": "markdown",
   "metadata": {
    "papermill": {
     "duration": 0.201333,
     "end_time": "2020-11-08T14:12:20.629986",
     "exception": false,
     "start_time": "2020-11-08T14:12:20.428653",
     "status": "completed"
    },
    "tags": []
   },
   "source": [
    "#### 26. TotalBsmtSF: Total square feet of basement area"
   ]
  },
  {
   "cell_type": "code",
   "execution_count": 90,
   "metadata": {
    "execution": {
     "iopub.execute_input": "2020-11-08T14:12:21.050217Z",
     "iopub.status.busy": "2020-11-08T14:12:21.049447Z",
     "iopub.status.idle": "2020-11-08T14:12:21.309194Z",
     "shell.execute_reply": "2020-11-08T14:12:21.308443Z"
    },
    "papermill": {
     "duration": 0.478778,
     "end_time": "2020-11-08T14:12:21.309329",
     "exception": false,
     "start_time": "2020-11-08T14:12:20.830551",
     "status": "completed"
    },
    "tags": []
   },
   "outputs": [
    {
     "data": {
      "text/plain": [
       "<matplotlib.axes._subplots.AxesSubplot at 0x7fd47190a750>"
      ]
     },
     "execution_count": 90,
     "metadata": {},
     "output_type": "execute_result"
    },
    {
     "data": {
      "image/png": "[encoded data removed]",
      "text/plain": [
       "<Figure size 432x288 with 1 Axes>"
      ]
     },
     "metadata": {
      "needs_background": "light"
     },
     "output_type": "display_data"
    }
   ],
   "source": [
    "sns.distplot(df_test.TotalBsmtSF)"
   ]
  },
  {
   "cell_type": "markdown",
   "metadata": {
    "papermill": {
     "duration": 0.21329,
     "end_time": "2020-11-08T14:12:21.736852",
     "exception": false,
     "start_time": "2020-11-08T14:12:21.523562",
     "status": "completed"
    },
    "tags": []
   },
   "source": [
    "Filling the missing value with minimum value"
   ]
  },
  {
   "cell_type": "code",
   "execution_count": 91,
   "metadata": {
    "execution": {
     "iopub.execute_input": "2020-11-08T14:12:22.166368Z",
     "iopub.status.busy": "2020-11-08T14:12:22.165617Z",
     "iopub.status.idle": "2020-11-08T14:12:22.169151Z",
     "shell.execute_reply": "2020-11-08T14:12:22.169785Z"
    },
    "papermill": {
     "duration": 0.219399,
     "end_time": "2020-11-08T14:12:22.169947",
     "exception": false,
     "start_time": "2020-11-08T14:12:21.950548",
     "status": "completed"
    },
    "tags": []
   },
   "outputs": [],
   "source": [
    "df_test['TotalBsmtSF'] = df_test['TotalBsmtSF'].fillna(df_test.TotalBsmtSF.min())"
   ]
  },
  {
   "cell_type": "markdown",
   "metadata": {
    "papermill": {
     "duration": 0.203179,
     "end_time": "2020-11-08T14:12:22.577655",
     "exception": false,
     "start_time": "2020-11-08T14:12:22.374476",
     "status": "completed"
    },
    "tags": []
   },
   "source": [
    "**27. BsmtUnfSF: Unfinished square feet of basement area**\n",
    "* BsmtFinSF1: Type 1 finished square feet  \n",
    "* BsmtFinSF2: Type 2 finished square feet"
   ]
  },
  {
   "cell_type": "markdown",
   "metadata": {
    "papermill": {
     "duration": 0.202609,
     "end_time": "2020-11-08T14:12:22.991084",
     "exception": false,
     "start_time": "2020-11-08T14:12:22.788475",
     "status": "completed"
    },
    "tags": []
   },
   "source": [
    "We will replace the missing values with minimum values in all three features."
   ]
  },
  {
   "cell_type": "code",
   "execution_count": 92,
   "metadata": {
    "execution": {
     "iopub.execute_input": "2020-11-08T14:12:23.410231Z",
     "iopub.status.busy": "2020-11-08T14:12:23.409487Z",
     "iopub.status.idle": "2020-11-08T14:12:23.412604Z",
     "shell.execute_reply": "2020-11-08T14:12:23.412036Z"
    },
    "papermill": {
     "duration": 0.215422,
     "end_time": "2020-11-08T14:12:23.412725",
     "exception": false,
     "start_time": "2020-11-08T14:12:23.197303",
     "status": "completed"
    },
    "tags": []
   },
   "outputs": [],
   "source": [
    "df_test['BsmtUnfSF'] = df_test['BsmtUnfSF'].fillna(df_test.BsmtUnfSF.min())\n",
    "df_test['BsmtFinSF1'] = df_test['BsmtFinSF1'].fillna(df_test.BsmtFinSF1.min())\n",
    "df_test['BsmtFinSF2'] = df_test['BsmtFinSF2'].fillna(df_test.BsmtFinSF2.min())"
   ]
  },
  {
   "cell_type": "markdown",
   "metadata": {
    "papermill": {
     "duration": 0.204809,
     "end_time": "2020-11-08T14:12:23.819268",
     "exception": false,
     "start_time": "2020-11-08T14:12:23.614459",
     "status": "completed"
    },
    "tags": []
   },
   "source": [
    "#### 28. Exterior1st: Exterior covering on house\n",
    "\n",
    "   AsbShng - Asbestos Shingles  \n",
    "   AsphShn - Asphalt Shingles  \n",
    "   BrkComm - Brick Common  \n",
    "   BrkFace - Brick Face  \n",
    "   CBlock  - Cinder Block  \n",
    "   CemntBd - Cement Board  \n",
    "   HdBoard - Hard Board  \n",
    "   ImStucc - Imitation Stucco  \n",
    "   MetalSd - Metal Siding  \n",
    "   Other   - Other  \n",
    "   Plywood - Plywood  \n",
    "   PreCast - PreCast   \n",
    "   Stone   - Stone  \n",
    "   Stucco  - Stucco  \n",
    "   VinylSd - Vinyl Siding  \n",
    "   Wd Sdng - Wood Siding  \n",
    "   WdShing - Wood Shingles  "
   ]
  },
  {
   "cell_type": "code",
   "execution_count": 93,
   "metadata": {
    "execution": {
     "iopub.execute_input": "2020-11-08T14:12:24.235107Z",
     "iopub.status.busy": "2020-11-08T14:12:24.234195Z",
     "iopub.status.idle": "2020-11-08T14:12:24.238498Z",
     "shell.execute_reply": "2020-11-08T14:12:24.237797Z"
    },
    "papermill": {
     "duration": 0.217013,
     "end_time": "2020-11-08T14:12:24.238617",
     "exception": false,
     "start_time": "2020-11-08T14:12:24.021604",
     "status": "completed"
    },
    "tags": []
   },
   "outputs": [
    {
     "data": {
      "text/plain": [
       "VinylSd    510\n",
       "MetalSd    230\n",
       "HdBoard    220\n",
       "Wd Sdng    205\n",
       "Plywood    113\n",
       "CemntBd     65\n",
       "BrkFace     37\n",
       "WdShing     30\n",
       "AsbShng     24\n",
       "Stucco      18\n",
       "BrkComm      4\n",
       "CBlock       1\n",
       "AsphShn      1\n",
       "Name: Exterior1st, dtype: int64"
      ]
     },
     "execution_count": 93,
     "metadata": {},
     "output_type": "execute_result"
    }
   ],
   "source": [
    "df_test.Exterior1st.value_counts()"
   ]
  },
  {
   "cell_type": "code",
   "execution_count": 94,
   "metadata": {
    "execution": {
     "iopub.execute_input": "2020-11-08T14:12:24.653492Z",
     "iopub.status.busy": "2020-11-08T14:12:24.652534Z",
     "iopub.status.idle": "2020-11-08T14:12:24.654976Z",
     "shell.execute_reply": "2020-11-08T14:12:24.655524Z"
    },
    "papermill": {
     "duration": 0.212555,
     "end_time": "2020-11-08T14:12:24.655684",
     "exception": false,
     "start_time": "2020-11-08T14:12:24.443129",
     "status": "completed"
    },
    "tags": []
   },
   "outputs": [],
   "source": [
    "df_test['Exterior1st'] = df_test['Exterior1st'].fillna('VinylSd')"
   ]
  },
  {
   "cell_type": "markdown",
   "metadata": {
    "papermill": {
     "duration": 0.205485,
     "end_time": "2020-11-08T14:12:25.066433",
     "exception": false,
     "start_time": "2020-11-08T14:12:24.860948",
     "status": "completed"
    },
    "tags": []
   },
   "source": [
    "#### 29. Exterior2nd: Exterior covering on house (if more than one material)"
   ]
  },
  {
   "cell_type": "code",
   "execution_count": 95,
   "metadata": {
    "execution": {
     "iopub.execute_input": "2020-11-08T14:12:25.484227Z",
     "iopub.status.busy": "2020-11-08T14:12:25.483170Z",
     "iopub.status.idle": "2020-11-08T14:12:25.487200Z",
     "shell.execute_reply": "2020-11-08T14:12:25.487753Z"
    },
    "papermill": {
     "duration": 0.215789,
     "end_time": "2020-11-08T14:12:25.487934",
     "exception": false,
     "start_time": "2020-11-08T14:12:25.272145",
     "status": "completed"
    },
    "tags": []
   },
   "outputs": [
    {
     "data": {
      "text/plain": [
       "VinylSd    510\n",
       "MetalSd    233\n",
       "HdBoard    199\n",
       "Wd Sdng    194\n",
       "Plywood    128\n",
       "CmentBd     66\n",
       "Wd Shng     43\n",
       "BrkFace     22\n",
       "Stucco      21\n",
       "AsbShng     18\n",
       "Brk Cmn     15\n",
       "ImStucc      5\n",
       "CBlock       2\n",
       "Stone        1\n",
       "AsphShn      1\n",
       "Name: Exterior2nd, dtype: int64"
      ]
     },
     "execution_count": 95,
     "metadata": {},
     "output_type": "execute_result"
    }
   ],
   "source": [
    "df_test.Exterior2nd.value_counts()"
   ]
  },
  {
   "cell_type": "code",
   "execution_count": 96,
   "metadata": {
    "execution": {
     "iopub.execute_input": "2020-11-08T14:12:25.904085Z",
     "iopub.status.busy": "2020-11-08T14:12:25.902983Z",
     "iopub.status.idle": "2020-11-08T14:12:25.906272Z",
     "shell.execute_reply": "2020-11-08T14:12:25.905588Z"
    },
    "papermill": {
     "duration": 0.213659,
     "end_time": "2020-11-08T14:12:25.906414",
     "exception": false,
     "start_time": "2020-11-08T14:12:25.692755",
     "status": "completed"
    },
    "tags": []
   },
   "outputs": [],
   "source": [
    "df_test['Exterior2nd'] = df_test['Exterior2nd'].fillna('VinylSd')"
   ]
  },
  {
   "cell_type": "code",
   "execution_count": 97,
   "metadata": {
    "execution": {
     "iopub.execute_input": "2020-11-08T14:12:26.330769Z",
     "iopub.status.busy": "2020-11-08T14:12:26.330014Z",
     "iopub.status.idle": "2020-11-08T14:12:26.347189Z",
     "shell.execute_reply": "2020-11-08T14:12:26.346556Z"
    },
    "papermill": {
     "duration": 0.235149,
     "end_time": "2020-11-08T14:12:26.347309",
     "exception": false,
     "start_time": "2020-11-08T14:12:26.112160",
     "status": "completed"
    },
    "tags": []
   },
   "outputs": [
    {
     "data": {
      "text/plain": [
       "Series([], dtype: float64)"
      ]
     },
     "execution_count": 97,
     "metadata": {},
     "output_type": "execute_result"
    }
   ],
   "source": [
    "check_null(df_train)\n",
    "check_null(df_test)"
   ]
  },
  {
   "cell_type": "markdown",
   "metadata": {
    "papermill": {
     "duration": 0.205052,
     "end_time": "2020-11-08T14:12:26.757253",
     "exception": false,
     "start_time": "2020-11-08T14:12:26.552201",
     "status": "completed"
    },
    "tags": []
   },
   "source": [
    "So, here we completed filling all the missing values"
   ]
  },
  {
   "cell_type": "markdown",
   "metadata": {
    "papermill": {
     "duration": 0.206664,
     "end_time": "2020-11-08T14:12:27.168028",
     "exception": false,
     "start_time": "2020-11-08T14:12:26.961364",
     "status": "completed"
    },
    "tags": []
   },
   "source": [
    "### Temporal Variables (DateTime Variables)"
   ]
  },
  {
   "cell_type": "code",
   "execution_count": 98,
   "metadata": {
    "execution": {
     "iopub.execute_input": "2020-11-08T14:12:27.584983Z",
     "iopub.status.busy": "2020-11-08T14:12:27.584118Z",
     "iopub.status.idle": "2020-11-08T14:12:27.588893Z",
     "shell.execute_reply": "2020-11-08T14:12:27.588262Z"
    },
    "papermill": {
     "duration": 0.214751,
     "end_time": "2020-11-08T14:12:27.589023",
     "exception": false,
     "start_time": "2020-11-08T14:12:27.374272",
     "status": "completed"
    },
    "tags": []
   },
   "outputs": [
    {
     "data": {
      "text/plain": [
       "['YearBuilt', 'YearRemodAdd', 'GarageYrBlt', 'YrSold']"
      ]
     },
     "execution_count": 98,
     "metadata": {},
     "output_type": "execute_result"
    }
   ],
   "source": [
    "year_features = [feature for feature in df_numerical\n",
    "                 if 'Yr' in feature or 'Year' in feature]\n",
    "year_features"
   ]
  },
  {
   "cell_type": "code",
   "execution_count": 99,
   "metadata": {
    "execution": {
     "iopub.execute_input": "2020-11-08T14:12:28.042159Z",
     "iopub.status.busy": "2020-11-08T14:12:28.041367Z",
     "iopub.status.idle": "2020-11-08T14:12:28.046440Z",
     "shell.execute_reply": "2020-11-08T14:12:28.045327Z"
    },
    "papermill": {
     "duration": 0.219554,
     "end_time": "2020-11-08T14:12:28.046619",
     "exception": false,
     "start_time": "2020-11-08T14:12:27.827065",
     "status": "completed"
    },
    "tags": []
   },
   "outputs": [
    {
     "name": "stdout",
     "output_type": "stream",
     "text": [
      "\n",
      " YearBuilt \n",
      " [2003 1976 2001 1915 2000 1993 2004 1973 1931 1939 1965 2005 1962 2006\n",
      " 1960 1929 1970 1967 1958 1930 2002 1968 2007 1951 1957 1927 1920 1966\n",
      " 1959 1994 1954 1953 1955 1983 1975 1997 1934 1963 1981 1964 1999 1972\n",
      " 1921 1945 1982 1998 1956 1948 1910 1995 1991 2009 1950 1961 1977 1985\n",
      " 1979 1885 1919 1990 1969 1935 1988 1971 1952 1936 1923 1924 1984 1926\n",
      " 1940 1941 1987 1986 2008 1908 1892 1916 1932 1918 1912 1947 1925 1900\n",
      " 1980 1989 1992 1949 1880 1928 1978 1922 1996 2010 1946 1913 1937 1942\n",
      " 1938 1974 1893 1914 1906 1890 1898 1904 1882 1875 1911 1917 1872 1905]\n",
      "\n",
      " YearRemodAdd \n",
      " [2003 1976 2002 1970 2000 1995 2005 1973 1950 1965 2006 1962 2007 1960\n",
      " 2001 1967 2004 2008 1997 1959 1990 1955 1983 1980 1966 1963 1987 1964\n",
      " 1972 1996 1998 1989 1953 1956 1968 1981 1992 2009 1982 1961 1993 1999\n",
      " 1985 1979 1977 1969 1958 1991 1971 1952 1975 2010 1984 1986 1994 1988\n",
      " 1954 1957 1951 1978 1974]\n",
      "\n",
      " GarageYrBlt \n",
      " [2003. 1976. 2001. 1998. 2000. 1993. 2004. 1973. 1931. 1939. 1965. 2005.\n",
      " 1962. 2006. 1960. 1991. 1970. 1967. 1958. 1930. 2002. 1968. 2007. 2008.\n",
      " 1957. 1920. 1966. 1959. 1995. 1954. 1953. 1900. 1983. 1977. 1997. 1985.\n",
      " 1963. 1981. 1964. 1999. 1935. 1990. 1945. 1987. 1989. 1915. 1956. 1948.\n",
      " 1974. 2009. 1950. 1961. 1921. 1979. 1951. 1969. 1936. 1975. 1971. 1923.\n",
      " 1984. 1926. 1955. 1986. 1988. 1916. 1932. 1972. 1918. 1980. 1924. 1996.\n",
      " 1940. 1949. 1994. 1910. 1978. 1982. 1992. 1925. 1941. 2010. 1927. 1947.\n",
      " 1937. 1942. 1938. 1952. 1928. 1922. 1934. 1906. 1914. 1946. 1908. 1929.\n",
      " 1933.]\n",
      "\n",
      " YrSold \n",
      " [2008 2007 2006 2009 2010]\n"
     ]
    }
   ],
   "source": [
    "for feature in year_features:\n",
    "    print('\\n', feature, '\\n', df_train[feature].unique())"
   ]
  },
  {
   "cell_type": "code",
   "execution_count": 100,
   "metadata": {
    "execution": {
     "iopub.execute_input": "2020-11-08T14:12:28.513049Z",
     "iopub.status.busy": "2020-11-08T14:12:28.512275Z",
     "iopub.status.idle": "2020-11-08T14:12:28.729493Z",
     "shell.execute_reply": "2020-11-08T14:12:28.730185Z"
    },
    "papermill": {
     "duration": 0.474851,
     "end_time": "2020-11-08T14:12:28.730340",
     "exception": false,
     "start_time": "2020-11-08T14:12:28.255489",
     "status": "completed"
    },
    "tags": []
   },
   "outputs": [
    {
     "data": {
      "text/plain": [
       "Text(0.5, 1.0, 'House Prive vs YearSold')"
      ]
     },
     "execution_count": 100,
     "metadata": {},
     "output_type": "execute_result"
    },
    {
     "data": {
      "image/png": "[encoded data removed]",
      "text/plain": [
       "<Figure size 432x288 with 1 Axes>"
      ]
     },
     "metadata": {
      "needs_background": "light"
     },
     "output_type": "display_data"
    }
   ],
   "source": [
    "df_train.groupby('YrSold')['SalePrice'].median().plot()\n",
    "plt.xlabel('Year Sold')\n",
    "plt.ylabel('Median House Price')\n",
    "plt.title('House Prive vs YearSold')"
   ]
  },
  {
   "cell_type": "markdown",
   "metadata": {
    "papermill": {
     "duration": 0.210891,
     "end_time": "2020-11-08T14:12:29.188319",
     "exception": false,
     "start_time": "2020-11-08T14:12:28.977428",
     "status": "completed"
    },
    "tags": []
   },
   "source": [
    "for feature in year_features:\n",
    "    if feature != 'YrSold':\n",
    "        df_train[feature] = df_train['YrSold'] - df_train[feature]\n",
    "        \n",
    "        plt.scatter(df_train[feature], df_train['SalePrice'])\n",
    "        plt.xlabel(feature)\n",
    "        plt.ylabel('SalePrice')\n",
    "        plt.show()"
   ]
  },
  {
   "cell_type": "markdown",
   "metadata": {
    "papermill": {
     "duration": 0.215744,
     "end_time": "2020-11-08T14:12:29.615100",
     "exception": false,
     "start_time": "2020-11-08T14:12:29.399356",
     "status": "completed"
    },
    "tags": []
   },
   "source": [
    "## Feature Engineering"
   ]
  },
  {
   "cell_type": "code",
   "execution_count": 101,
   "metadata": {
    "execution": {
     "iopub.execute_input": "2020-11-08T14:12:30.037946Z",
     "iopub.status.busy": "2020-11-08T14:12:30.037040Z",
     "iopub.status.idle": "2020-11-08T14:12:30.112476Z",
     "shell.execute_reply": "2020-11-08T14:12:30.111669Z"
    },
    "papermill": {
     "duration": 0.288454,
     "end_time": "2020-11-08T14:12:30.112609",
     "exception": false,
     "start_time": "2020-11-08T14:12:29.824155",
     "status": "completed"
    },
    "tags": []
   },
   "outputs": [],
   "source": [
    "from sklearn.preprocessing import OneHotEncoder"
   ]
  },
  {
   "cell_type": "code",
   "execution_count": 102,
   "metadata": {
    "execution": {
     "iopub.execute_input": "2020-11-08T14:12:30.540076Z",
     "iopub.status.busy": "2020-11-08T14:12:30.538945Z",
     "iopub.status.idle": "2020-11-08T14:12:30.542612Z",
     "shell.execute_reply": "2020-11-08T14:12:30.541874Z"
    },
    "papermill": {
     "duration": 0.218053,
     "end_time": "2020-11-08T14:12:30.542736",
     "exception": false,
     "start_time": "2020-11-08T14:12:30.324683",
     "status": "completed"
    },
    "tags": []
   },
   "outputs": [],
   "source": [
    "def concat_df(train, test):\n",
    "    return pd.concat((train, test), sort=True).reset_index(drop=True)"
   ]
  },
  {
   "cell_type": "code",
   "execution_count": 103,
   "metadata": {
    "execution": {
     "iopub.execute_input": "2020-11-08T14:12:30.975556Z",
     "iopub.status.busy": "2020-11-08T14:12:30.969884Z",
     "iopub.status.idle": "2020-11-08T14:12:30.998926Z",
     "shell.execute_reply": "2020-11-08T14:12:30.998159Z"
    },
    "papermill": {
     "duration": 0.244623,
     "end_time": "2020-11-08T14:12:30.999065",
     "exception": false,
     "start_time": "2020-11-08T14:12:30.754442",
     "status": "completed"
    },
    "tags": []
   },
   "outputs": [],
   "source": [
    "df_all = concat_df(df_train, df_test)"
   ]
  },
  {
   "cell_type": "code",
   "execution_count": 104,
   "metadata": {
    "execution": {
     "iopub.execute_input": "2020-11-08T14:12:31.427853Z",
     "iopub.status.busy": "2020-11-08T14:12:31.426700Z",
     "iopub.status.idle": "2020-11-08T14:12:31.437169Z",
     "shell.execute_reply": "2020-11-08T14:12:31.436426Z"
    },
    "papermill": {
     "duration": 0.225814,
     "end_time": "2020-11-08T14:12:31.437291",
     "exception": false,
     "start_time": "2020-11-08T14:12:31.211477",
     "status": "completed"
    },
    "tags": []
   },
   "outputs": [],
   "source": [
    "df_all = df_all.drop(['SalePrice'], axis=1)"
   ]
  },
  {
   "cell_type": "code",
   "execution_count": 105,
   "metadata": {
    "execution": {
     "iopub.execute_input": "2020-11-08T14:12:31.866534Z",
     "iopub.status.busy": "2020-11-08T14:12:31.865494Z",
     "iopub.status.idle": "2020-11-08T14:12:31.869068Z",
     "shell.execute_reply": "2020-11-08T14:12:31.868321Z"
    },
    "papermill": {
     "duration": 0.222337,
     "end_time": "2020-11-08T14:12:31.869196",
     "exception": false,
     "start_time": "2020-11-08T14:12:31.646859",
     "status": "completed"
    },
    "tags": []
   },
   "outputs": [],
   "source": [
    "df_cat = df_all.select_dtypes(exclude = [np.number])"
   ]
  },
  {
   "cell_type": "code",
   "execution_count": 106,
   "metadata": {
    "execution": {
     "iopub.execute_input": "2020-11-08T14:12:32.300182Z",
     "iopub.status.busy": "2020-11-08T14:12:32.299087Z",
     "iopub.status.idle": "2020-11-08T14:12:32.470873Z",
     "shell.execute_reply": "2020-11-08T14:12:32.471478Z"
    },
    "papermill": {
     "duration": 0.391492,
     "end_time": "2020-11-08T14:12:32.471636",
     "exception": false,
     "start_time": "2020-11-08T14:12:32.080144",
     "status": "completed"
    },
    "tags": []
   },
   "outputs": [
    {
     "data": {
      "text/html": [
       "<div>\n",
       "<style scoped>\n",
       "    .dataframe tbody tr th:only-of-type {\n",
       "        vertical-align: middle;\n",
       "    }\n",
       "\n",
       "    .dataframe tbody tr th {\n",
       "        vertical-align: top;\n",
       "    }\n",
       "\n",
       "    .dataframe thead th {\n",
       "        text-align: right;\n",
       "    }\n",
       "</style>\n",
       "<table border=\"1\" class=\"dataframe\">\n",
       "  <thead>\n",
       "    <tr style=\"text-align: right;\">\n",
       "      <th></th>\n",
       "      <th>BldgType_1Fam</th>\n",
       "      <th>BldgType_2fmCon</th>\n",
       "      <th>BldgType_Duplex</th>\n",
       "      <th>BldgType_Twnhs</th>\n",
       "      <th>BldgType_TwnhsE</th>\n",
       "      <th>BsmtExposure_Av</th>\n",
       "      <th>BsmtExposure_Gd</th>\n",
       "      <th>BsmtExposure_Mn</th>\n",
       "      <th>BsmtExposure_No</th>\n",
       "      <th>BsmtExposure_NoBsmt</th>\n",
       "      <th>BsmtFinType1_ALQ</th>\n",
       "      <th>BsmtFinType1_BLQ</th>\n",
       "      <th>BsmtFinType1_GLQ</th>\n",
       "      <th>BsmtFinType1_LwQ</th>\n",
       "      <th>BsmtFinType1_NoBsmt</th>\n",
       "      <th>BsmtFinType1_Rec</th>\n",
       "      <th>BsmtFinType1_Unf</th>\n",
       "      <th>BsmtFullBath_0</th>\n",
       "      <th>BsmtFullBath_1</th>\n",
       "      <th>BsmtFullBath_2</th>\n",
       "      <th>BsmtFullBath_3</th>\n",
       "      <th>BsmtFullBath_0</th>\n",
       "      <th>BsmtHalfBath_0</th>\n",
       "      <th>BsmtHalfBath_1</th>\n",
       "      <th>BsmtHalfBath_2</th>\n",
       "      <th>BsmtHalfBath_0</th>\n",
       "      <th>BsmtQual_Ex</th>\n",
       "      <th>BsmtQual_Fa</th>\n",
       "      <th>BsmtQual_Gd</th>\n",
       "      <th>BsmtQual_NoBsmt</th>\n",
       "      <th>BsmtQual_TA</th>\n",
       "      <th>CentralAir_N</th>\n",
       "      <th>CentralAir_Y</th>\n",
       "      <th>Condition1_Artery</th>\n",
       "      <th>Condition1_Feedr</th>\n",
       "      <th>Condition1_Norm</th>\n",
       "      <th>Condition1_PosA</th>\n",
       "      <th>Condition1_PosN</th>\n",
       "      <th>Condition1_RRAe</th>\n",
       "      <th>Condition1_RRAn</th>\n",
       "      <th>Condition1_RRNe</th>\n",
       "      <th>Condition1_RRNn</th>\n",
       "      <th>Condition2_Artery</th>\n",
       "      <th>Condition2_Feedr</th>\n",
       "      <th>Condition2_Norm</th>\n",
       "      <th>Condition2_PosA</th>\n",
       "      <th>Condition2_PosN</th>\n",
       "      <th>Condition2_RRAe</th>\n",
       "      <th>Condition2_RRAn</th>\n",
       "      <th>Condition2_RRNn</th>\n",
       "      <th>Electrical_FuseA</th>\n",
       "      <th>Electrical_FuseF</th>\n",
       "      <th>Electrical_FuseP</th>\n",
       "      <th>Electrical_Mix</th>\n",
       "      <th>Electrical_SBrkr</th>\n",
       "      <th>ExterCond_Ex</th>\n",
       "      <th>ExterCond_Fa</th>\n",
       "      <th>ExterCond_Gd</th>\n",
       "      <th>ExterCond_Po</th>\n",
       "      <th>ExterCond_TA</th>\n",
       "      <th>ExterQual_Ex</th>\n",
       "      <th>ExterQual_Fa</th>\n",
       "      <th>ExterQual_Gd</th>\n",
       "      <th>ExterQual_TA</th>\n",
       "      <th>Exterior1st_AsbShng</th>\n",
       "      <th>Exterior1st_AsphShn</th>\n",
       "      <th>Exterior1st_BrkComm</th>\n",
       "      <th>Exterior1st_BrkFace</th>\n",
       "      <th>Exterior1st_CBlock</th>\n",
       "      <th>Exterior1st_CemntBd</th>\n",
       "      <th>Exterior1st_HdBoard</th>\n",
       "      <th>Exterior1st_ImStucc</th>\n",
       "      <th>Exterior1st_MetalSd</th>\n",
       "      <th>Exterior1st_Plywood</th>\n",
       "      <th>Exterior1st_Stone</th>\n",
       "      <th>Exterior1st_Stucco</th>\n",
       "      <th>Exterior1st_VinylSd</th>\n",
       "      <th>Exterior1st_Wd Sdng</th>\n",
       "      <th>Exterior1st_WdShing</th>\n",
       "      <th>Exterior2nd_AsbShng</th>\n",
       "      <th>Exterior2nd_AsphShn</th>\n",
       "      <th>Exterior2nd_Brk Cmn</th>\n",
       "      <th>Exterior2nd_BrkFace</th>\n",
       "      <th>Exterior2nd_CBlock</th>\n",
       "      <th>Exterior2nd_CmentBd</th>\n",
       "      <th>Exterior2nd_HdBoard</th>\n",
       "      <th>Exterior2nd_ImStucc</th>\n",
       "      <th>Exterior2nd_MetalSd</th>\n",
       "      <th>Exterior2nd_Other</th>\n",
       "      <th>Exterior2nd_Plywood</th>\n",
       "      <th>Exterior2nd_Stone</th>\n",
       "      <th>Exterior2nd_Stucco</th>\n",
       "      <th>Exterior2nd_VinylSd</th>\n",
       "      <th>Exterior2nd_Wd Sdng</th>\n",
       "      <th>Exterior2nd_Wd Shng</th>\n",
       "      <th>FireplaceQu_0</th>\n",
       "      <th>FireplaceQu_Ex</th>\n",
       "      <th>FireplaceQu_Fa</th>\n",
       "      <th>FireplaceQu_Gd</th>\n",
       "      <th>FireplaceQu_Po</th>\n",
       "      <th>FireplaceQu_TA</th>\n",
       "      <th>Foundation_BrkTil</th>\n",
       "      <th>Foundation_CBlock</th>\n",
       "      <th>Foundation_PConc</th>\n",
       "      <th>Foundation_Slab</th>\n",
       "      <th>Foundation_Stone</th>\n",
       "      <th>Foundation_Wood</th>\n",
       "      <th>Functional_Maj1</th>\n",
       "      <th>Functional_Maj2</th>\n",
       "      <th>Functional_Min1</th>\n",
       "      <th>Functional_Min2</th>\n",
       "      <th>Functional_Mod</th>\n",
       "      <th>Functional_Sev</th>\n",
       "      <th>Functional_Typ</th>\n",
       "      <th>GarageFinish_Fin</th>\n",
       "      <th>GarageFinish_Nog</th>\n",
       "      <th>GarageFinish_RFn</th>\n",
       "      <th>GarageFinish_Unf</th>\n",
       "      <th>GarageType_2Types</th>\n",
       "      <th>GarageType_Attchd</th>\n",
       "      <th>GarageType_Basment</th>\n",
       "      <th>GarageType_BuiltIn</th>\n",
       "      <th>GarageType_CarPort</th>\n",
       "      <th>GarageType_Detchd</th>\n",
       "      <th>GarageType_Nog</th>\n",
       "      <th>Heating_Floor</th>\n",
       "      <th>Heating_GasA</th>\n",
       "      <th>Heating_GasW</th>\n",
       "      <th>Heating_Grav</th>\n",
       "      <th>Heating_OthW</th>\n",
       "      <th>Heating_Wall</th>\n",
       "      <th>HeatingQC_Ex</th>\n",
       "      <th>HeatingQC_Fa</th>\n",
       "      <th>HeatingQC_Gd</th>\n",
       "      <th>HeatingQC_Po</th>\n",
       "      <th>HeatingQC_TA</th>\n",
       "      <th>HouseStyle_1.5Fin</th>\n",
       "      <th>HouseStyle_1.5Unf</th>\n",
       "      <th>HouseStyle_1Story</th>\n",
       "      <th>HouseStyle_2.5Fin</th>\n",
       "      <th>HouseStyle_2.5Unf</th>\n",
       "      <th>HouseStyle_2Story</th>\n",
       "      <th>HouseStyle_SFoyer</th>\n",
       "      <th>HouseStyle_SLvl</th>\n",
       "      <th>KitchenQual_Ex</th>\n",
       "      <th>KitchenQual_Fa</th>\n",
       "      <th>KitchenQual_Gd</th>\n",
       "      <th>KitchenQual_TA</th>\n",
       "      <th>LandContour_Bnk</th>\n",
       "      <th>LandContour_HLS</th>\n",
       "      <th>LandContour_Low</th>\n",
       "      <th>LandContour_Lvl</th>\n",
       "      <th>LandSlope_Gtl</th>\n",
       "      <th>LandSlope_Mod</th>\n",
       "      <th>LandSlope_Sev</th>\n",
       "      <th>LotConfig_Corner</th>\n",
       "      <th>LotConfig_CulDSac</th>\n",
       "      <th>LotConfig_FR2</th>\n",
       "      <th>LotConfig_FR3</th>\n",
       "      <th>LotConfig_Inside</th>\n",
       "      <th>LotShape_IR1</th>\n",
       "      <th>LotShape_IR2</th>\n",
       "      <th>LotShape_IR3</th>\n",
       "      <th>LotShape_Reg</th>\n",
       "      <th>MSZoning_C (all)</th>\n",
       "      <th>MSZoning_FV</th>\n",
       "      <th>MSZoning_RH</th>\n",
       "      <th>MSZoning_RL</th>\n",
       "      <th>MSZoning_RM</th>\n",
       "      <th>MasVnrType_BrkCmn</th>\n",
       "      <th>MasVnrType_BrkFace</th>\n",
       "      <th>MasVnrType_None</th>\n",
       "      <th>MasVnrType_Stone</th>\n",
       "      <th>Neighborhood_Blmngtn</th>\n",
       "      <th>Neighborhood_Blueste</th>\n",
       "      <th>Neighborhood_BrDale</th>\n",
       "      <th>Neighborhood_BrkSide</th>\n",
       "      <th>Neighborhood_ClearCr</th>\n",
       "      <th>Neighborhood_CollgCr</th>\n",
       "      <th>Neighborhood_Crawfor</th>\n",
       "      <th>Neighborhood_Edwards</th>\n",
       "      <th>Neighborhood_Gilbert</th>\n",
       "      <th>Neighborhood_IDOTRR</th>\n",
       "      <th>Neighborhood_MeadowV</th>\n",
       "      <th>Neighborhood_Mitchel</th>\n",
       "      <th>Neighborhood_NAmes</th>\n",
       "      <th>Neighborhood_NPkVill</th>\n",
       "      <th>Neighborhood_NWAmes</th>\n",
       "      <th>Neighborhood_NoRidge</th>\n",
       "      <th>Neighborhood_NridgHt</th>\n",
       "      <th>Neighborhood_OldTown</th>\n",
       "      <th>Neighborhood_SWISU</th>\n",
       "      <th>Neighborhood_Sawyer</th>\n",
       "      <th>Neighborhood_SawyerW</th>\n",
       "      <th>Neighborhood_Somerst</th>\n",
       "      <th>Neighborhood_StoneBr</th>\n",
       "      <th>Neighborhood_Timber</th>\n",
       "      <th>Neighborhood_Veenker</th>\n",
       "      <th>PavedDrive_N</th>\n",
       "      <th>PavedDrive_P</th>\n",
       "      <th>PavedDrive_Y</th>\n",
       "      <th>RoofMatl_ClyTile</th>\n",
       "      <th>RoofMatl_CompShg</th>\n",
       "      <th>RoofMatl_Membran</th>\n",
       "      <th>RoofMatl_Metal</th>\n",
       "      <th>RoofMatl_Roll</th>\n",
       "      <th>RoofMatl_Tar&amp;Grv</th>\n",
       "      <th>RoofMatl_WdShake</th>\n",
       "      <th>RoofMatl_WdShngl</th>\n",
       "      <th>RoofStyle_Flat</th>\n",
       "      <th>RoofStyle_Gable</th>\n",
       "      <th>RoofStyle_Gambrel</th>\n",
       "      <th>RoofStyle_Hip</th>\n",
       "      <th>RoofStyle_Mansard</th>\n",
       "      <th>RoofStyle_Shed</th>\n",
       "      <th>SaleCondition_Abnorml</th>\n",
       "      <th>SaleCondition_AdjLand</th>\n",
       "      <th>SaleCondition_Alloca</th>\n",
       "      <th>SaleCondition_Family</th>\n",
       "      <th>SaleCondition_Normal</th>\n",
       "      <th>SaleCondition_Partial</th>\n",
       "      <th>SaleType_COD</th>\n",
       "      <th>SaleType_CWD</th>\n",
       "      <th>SaleType_Con</th>\n",
       "      <th>SaleType_ConLD</th>\n",
       "      <th>SaleType_ConLI</th>\n",
       "      <th>SaleType_ConLw</th>\n",
       "      <th>SaleType_New</th>\n",
       "      <th>SaleType_Oth</th>\n",
       "      <th>SaleType_WD</th>\n",
       "      <th>Street_Grvl</th>\n",
       "      <th>Street_Pave</th>\n",
       "    </tr>\n",
       "  </thead>\n",
       "  <tbody>\n",
       "    <tr>\n",
       "      <th>0</th>\n",
       "      <td>1</td>\n",
       "      <td>0</td>\n",
       "      <td>0</td>\n",
       "      <td>0</td>\n",
       "      <td>0</td>\n",
       "      <td>0</td>\n",
       "      <td>0</td>\n",
       "      <td>0</td>\n",
       "      <td>1</td>\n",
       "      <td>0</td>\n",
       "      <td>0</td>\n",
       "      <td>0</td>\n",
       "      <td>1</td>\n",
       "      <td>0</td>\n",
       "      <td>0</td>\n",
       "      <td>0</td>\n",
       "      <td>0</td>\n",
       "      <td>0</td>\n",
       "      <td>1</td>\n",
       "      <td>0</td>\n",
       "      <td>0</td>\n",
       "      <td>0</td>\n",
       "      <td>1</td>\n",
       "      <td>0</td>\n",
       "      <td>0</td>\n",
       "      <td>0</td>\n",
       "      <td>0</td>\n",
       "      <td>0</td>\n",
       "      <td>1</td>\n",
       "      <td>0</td>\n",
       "      <td>0</td>\n",
       "      <td>0</td>\n",
       "      <td>1</td>\n",
       "      <td>0</td>\n",
       "      <td>0</td>\n",
       "      <td>1</td>\n",
       "      <td>0</td>\n",
       "      <td>0</td>\n",
       "      <td>0</td>\n",
       "      <td>0</td>\n",
       "      <td>0</td>\n",
       "      <td>0</td>\n",
       "      <td>0</td>\n",
       "      <td>0</td>\n",
       "      <td>1</td>\n",
       "      <td>0</td>\n",
       "      <td>0</td>\n",
       "      <td>0</td>\n",
       "      <td>0</td>\n",
       "      <td>0</td>\n",
       "      <td>0</td>\n",
       "      <td>0</td>\n",
       "      <td>0</td>\n",
       "      <td>0</td>\n",
       "      <td>1</td>\n",
       "      <td>0</td>\n",
       "      <td>0</td>\n",
       "      <td>0</td>\n",
       "      <td>0</td>\n",
       "      <td>1</td>\n",
       "      <td>0</td>\n",
       "      <td>0</td>\n",
       "      <td>1</td>\n",
       "      <td>0</td>\n",
       "      <td>0</td>\n",
       "      <td>0</td>\n",
       "      <td>0</td>\n",
       "      <td>0</td>\n",
       "      <td>0</td>\n",
       "      <td>0</td>\n",
       "      <td>0</td>\n",
       "      <td>0</td>\n",
       "      <td>0</td>\n",
       "      <td>0</td>\n",
       "      <td>0</td>\n",
       "      <td>0</td>\n",
       "      <td>1</td>\n",
       "      <td>0</td>\n",
       "      <td>0</td>\n",
       "      <td>0</td>\n",
       "      <td>0</td>\n",
       "      <td>0</td>\n",
       "      <td>0</td>\n",
       "      <td>0</td>\n",
       "      <td>0</td>\n",
       "      <td>0</td>\n",
       "      <td>0</td>\n",
       "      <td>0</td>\n",
       "      <td>0</td>\n",
       "      <td>0</td>\n",
       "      <td>0</td>\n",
       "      <td>0</td>\n",
       "      <td>1</td>\n",
       "      <td>0</td>\n",
       "      <td>0</td>\n",
       "      <td>1</td>\n",
       "      <td>0</td>\n",
       "      <td>0</td>\n",
       "      <td>0</td>\n",
       "      <td>0</td>\n",
       "      <td>0</td>\n",
       "      <td>0</td>\n",
       "      <td>0</td>\n",
       "      <td>1</td>\n",
       "      <td>0</td>\n",
       "      <td>0</td>\n",
       "      <td>0</td>\n",
       "      <td>0</td>\n",
       "      <td>0</td>\n",
       "      <td>0</td>\n",
       "      <td>0</td>\n",
       "      <td>0</td>\n",
       "      <td>0</td>\n",
       "      <td>1</td>\n",
       "      <td>0</td>\n",
       "      <td>0</td>\n",
       "      <td>1</td>\n",
       "      <td>0</td>\n",
       "      <td>0</td>\n",
       "      <td>1</td>\n",
       "      <td>0</td>\n",
       "      <td>0</td>\n",
       "      <td>0</td>\n",
       "      <td>0</td>\n",
       "      <td>0</td>\n",
       "      <td>0</td>\n",
       "      <td>1</td>\n",
       "      <td>0</td>\n",
       "      <td>0</td>\n",
       "      <td>0</td>\n",
       "      <td>0</td>\n",
       "      <td>1</td>\n",
       "      <td>0</td>\n",
       "      <td>0</td>\n",
       "      <td>0</td>\n",
       "      <td>0</td>\n",
       "      <td>0</td>\n",
       "      <td>0</td>\n",
       "      <td>0</td>\n",
       "      <td>0</td>\n",
       "      <td>0</td>\n",
       "      <td>1</td>\n",
       "      <td>0</td>\n",
       "      <td>0</td>\n",
       "      <td>0</td>\n",
       "      <td>0</td>\n",
       "      <td>1</td>\n",
       "      <td>0</td>\n",
       "      <td>0</td>\n",
       "      <td>0</td>\n",
       "      <td>0</td>\n",
       "      <td>1</td>\n",
       "      <td>1</td>\n",
       "      <td>0</td>\n",
       "      <td>0</td>\n",
       "      <td>0</td>\n",
       "      <td>0</td>\n",
       "      <td>0</td>\n",
       "      <td>0</td>\n",
       "      <td>1</td>\n",
       "      <td>0</td>\n",
       "      <td>0</td>\n",
       "      <td>0</td>\n",
       "      <td>1</td>\n",
       "      <td>0</td>\n",
       "      <td>0</td>\n",
       "      <td>0</td>\n",
       "      <td>1</td>\n",
       "      <td>0</td>\n",
       "      <td>0</td>\n",
       "      <td>1</td>\n",
       "      <td>0</td>\n",
       "      <td>0</td>\n",
       "      <td>0</td>\n",
       "      <td>0</td>\n",
       "      <td>0</td>\n",
       "      <td>0</td>\n",
       "      <td>0</td>\n",
       "      <td>1</td>\n",
       "      <td>0</td>\n",
       "      <td>0</td>\n",
       "      <td>0</td>\n",
       "      <td>0</td>\n",
       "      <td>0</td>\n",
       "      <td>0</td>\n",
       "      <td>0</td>\n",
       "      <td>0</td>\n",
       "      <td>0</td>\n",
       "      <td>0</td>\n",
       "      <td>0</td>\n",
       "      <td>0</td>\n",
       "      <td>0</td>\n",
       "      <td>0</td>\n",
       "      <td>0</td>\n",
       "      <td>0</td>\n",
       "      <td>0</td>\n",
       "      <td>0</td>\n",
       "      <td>0</td>\n",
       "      <td>0</td>\n",
       "      <td>0</td>\n",
       "      <td>1</td>\n",
       "      <td>0</td>\n",
       "      <td>1</td>\n",
       "      <td>0</td>\n",
       "      <td>0</td>\n",
       "      <td>0</td>\n",
       "      <td>0</td>\n",
       "      <td>0</td>\n",
       "      <td>0</td>\n",
       "      <td>0</td>\n",
       "      <td>1</td>\n",
       "      <td>0</td>\n",
       "      <td>0</td>\n",
       "      <td>0</td>\n",
       "      <td>0</td>\n",
       "      <td>0</td>\n",
       "      <td>0</td>\n",
       "      <td>0</td>\n",
       "      <td>0</td>\n",
       "      <td>1</td>\n",
       "      <td>0</td>\n",
       "      <td>0</td>\n",
       "      <td>0</td>\n",
       "      <td>0</td>\n",
       "      <td>0</td>\n",
       "      <td>0</td>\n",
       "      <td>0</td>\n",
       "      <td>0</td>\n",
       "      <td>0</td>\n",
       "      <td>1</td>\n",
       "      <td>0</td>\n",
       "      <td>1</td>\n",
       "    </tr>\n",
       "    <tr>\n",
       "      <th>1</th>\n",
       "      <td>1</td>\n",
       "      <td>0</td>\n",
       "      <td>0</td>\n",
       "      <td>0</td>\n",
       "      <td>0</td>\n",
       "      <td>0</td>\n",
       "      <td>1</td>\n",
       "      <td>0</td>\n",
       "      <td>0</td>\n",
       "      <td>0</td>\n",
       "      <td>1</td>\n",
       "      <td>0</td>\n",
       "      <td>0</td>\n",
       "      <td>0</td>\n",
       "      <td>0</td>\n",
       "      <td>0</td>\n",
       "      <td>0</td>\n",
       "      <td>1</td>\n",
       "      <td>0</td>\n",
       "      <td>0</td>\n",
       "      <td>0</td>\n",
       "      <td>0</td>\n",
       "      <td>0</td>\n",
       "      <td>1</td>\n",
       "      <td>0</td>\n",
       "      <td>0</td>\n",
       "      <td>0</td>\n",
       "      <td>0</td>\n",
       "      <td>1</td>\n",
       "      <td>0</td>\n",
       "      <td>0</td>\n",
       "      <td>0</td>\n",
       "      <td>1</td>\n",
       "      <td>0</td>\n",
       "      <td>1</td>\n",
       "      <td>0</td>\n",
       "      <td>0</td>\n",
       "      <td>0</td>\n",
       "      <td>0</td>\n",
       "      <td>0</td>\n",
       "      <td>0</td>\n",
       "      <td>0</td>\n",
       "      <td>0</td>\n",
       "      <td>0</td>\n",
       "      <td>1</td>\n",
       "      <td>0</td>\n",
       "      <td>0</td>\n",
       "      <td>0</td>\n",
       "      <td>0</td>\n",
       "      <td>0</td>\n",
       "      <td>0</td>\n",
       "      <td>0</td>\n",
       "      <td>0</td>\n",
       "      <td>0</td>\n",
       "      <td>1</td>\n",
       "      <td>0</td>\n",
       "      <td>0</td>\n",
       "      <td>0</td>\n",
       "      <td>0</td>\n",
       "      <td>1</td>\n",
       "      <td>0</td>\n",
       "      <td>0</td>\n",
       "      <td>0</td>\n",
       "      <td>1</td>\n",
       "      <td>0</td>\n",
       "      <td>0</td>\n",
       "      <td>0</td>\n",
       "      <td>0</td>\n",
       "      <td>0</td>\n",
       "      <td>0</td>\n",
       "      <td>0</td>\n",
       "      <td>0</td>\n",
       "      <td>1</td>\n",
       "      <td>0</td>\n",
       "      <td>0</td>\n",
       "      <td>0</td>\n",
       "      <td>0</td>\n",
       "      <td>0</td>\n",
       "      <td>0</td>\n",
       "      <td>0</td>\n",
       "      <td>0</td>\n",
       "      <td>0</td>\n",
       "      <td>0</td>\n",
       "      <td>0</td>\n",
       "      <td>0</td>\n",
       "      <td>0</td>\n",
       "      <td>0</td>\n",
       "      <td>1</td>\n",
       "      <td>0</td>\n",
       "      <td>0</td>\n",
       "      <td>0</td>\n",
       "      <td>0</td>\n",
       "      <td>0</td>\n",
       "      <td>0</td>\n",
       "      <td>0</td>\n",
       "      <td>0</td>\n",
       "      <td>0</td>\n",
       "      <td>0</td>\n",
       "      <td>0</td>\n",
       "      <td>0</td>\n",
       "      <td>1</td>\n",
       "      <td>0</td>\n",
       "      <td>1</td>\n",
       "      <td>0</td>\n",
       "      <td>0</td>\n",
       "      <td>0</td>\n",
       "      <td>0</td>\n",
       "      <td>0</td>\n",
       "      <td>0</td>\n",
       "      <td>0</td>\n",
       "      <td>0</td>\n",
       "      <td>0</td>\n",
       "      <td>0</td>\n",
       "      <td>1</td>\n",
       "      <td>0</td>\n",
       "      <td>0</td>\n",
       "      <td>1</td>\n",
       "      <td>0</td>\n",
       "      <td>0</td>\n",
       "      <td>1</td>\n",
       "      <td>0</td>\n",
       "      <td>0</td>\n",
       "      <td>0</td>\n",
       "      <td>0</td>\n",
       "      <td>0</td>\n",
       "      <td>0</td>\n",
       "      <td>1</td>\n",
       "      <td>0</td>\n",
       "      <td>0</td>\n",
       "      <td>0</td>\n",
       "      <td>0</td>\n",
       "      <td>1</td>\n",
       "      <td>0</td>\n",
       "      <td>0</td>\n",
       "      <td>0</td>\n",
       "      <td>0</td>\n",
       "      <td>0</td>\n",
       "      <td>0</td>\n",
       "      <td>1</td>\n",
       "      <td>0</td>\n",
       "      <td>0</td>\n",
       "      <td>0</td>\n",
       "      <td>0</td>\n",
       "      <td>0</td>\n",
       "      <td>0</td>\n",
       "      <td>0</td>\n",
       "      <td>0</td>\n",
       "      <td>1</td>\n",
       "      <td>0</td>\n",
       "      <td>0</td>\n",
       "      <td>0</td>\n",
       "      <td>1</td>\n",
       "      <td>1</td>\n",
       "      <td>0</td>\n",
       "      <td>0</td>\n",
       "      <td>0</td>\n",
       "      <td>0</td>\n",
       "      <td>1</td>\n",
       "      <td>0</td>\n",
       "      <td>0</td>\n",
       "      <td>0</td>\n",
       "      <td>0</td>\n",
       "      <td>0</td>\n",
       "      <td>1</td>\n",
       "      <td>0</td>\n",
       "      <td>0</td>\n",
       "      <td>0</td>\n",
       "      <td>1</td>\n",
       "      <td>0</td>\n",
       "      <td>0</td>\n",
       "      <td>0</td>\n",
       "      <td>1</td>\n",
       "      <td>0</td>\n",
       "      <td>0</td>\n",
       "      <td>0</td>\n",
       "      <td>0</td>\n",
       "      <td>0</td>\n",
       "      <td>0</td>\n",
       "      <td>0</td>\n",
       "      <td>0</td>\n",
       "      <td>0</td>\n",
       "      <td>0</td>\n",
       "      <td>0</td>\n",
       "      <td>0</td>\n",
       "      <td>0</td>\n",
       "      <td>0</td>\n",
       "      <td>0</td>\n",
       "      <td>0</td>\n",
       "      <td>0</td>\n",
       "      <td>0</td>\n",
       "      <td>0</td>\n",
       "      <td>0</td>\n",
       "      <td>0</td>\n",
       "      <td>0</td>\n",
       "      <td>0</td>\n",
       "      <td>0</td>\n",
       "      <td>0</td>\n",
       "      <td>1</td>\n",
       "      <td>0</td>\n",
       "      <td>0</td>\n",
       "      <td>1</td>\n",
       "      <td>0</td>\n",
       "      <td>1</td>\n",
       "      <td>0</td>\n",
       "      <td>0</td>\n",
       "      <td>0</td>\n",
       "      <td>0</td>\n",
       "      <td>0</td>\n",
       "      <td>0</td>\n",
       "      <td>0</td>\n",
       "      <td>1</td>\n",
       "      <td>0</td>\n",
       "      <td>0</td>\n",
       "      <td>0</td>\n",
       "      <td>0</td>\n",
       "      <td>0</td>\n",
       "      <td>0</td>\n",
       "      <td>0</td>\n",
       "      <td>0</td>\n",
       "      <td>1</td>\n",
       "      <td>0</td>\n",
       "      <td>0</td>\n",
       "      <td>0</td>\n",
       "      <td>0</td>\n",
       "      <td>0</td>\n",
       "      <td>0</td>\n",
       "      <td>0</td>\n",
       "      <td>0</td>\n",
       "      <td>0</td>\n",
       "      <td>1</td>\n",
       "      <td>0</td>\n",
       "      <td>1</td>\n",
       "    </tr>\n",
       "    <tr>\n",
       "      <th>2</th>\n",
       "      <td>1</td>\n",
       "      <td>0</td>\n",
       "      <td>0</td>\n",
       "      <td>0</td>\n",
       "      <td>0</td>\n",
       "      <td>0</td>\n",
       "      <td>0</td>\n",
       "      <td>1</td>\n",
       "      <td>0</td>\n",
       "      <td>0</td>\n",
       "      <td>0</td>\n",
       "      <td>0</td>\n",
       "      <td>1</td>\n",
       "      <td>0</td>\n",
       "      <td>0</td>\n",
       "      <td>0</td>\n",
       "      <td>0</td>\n",
       "      <td>0</td>\n",
       "      <td>1</td>\n",
       "      <td>0</td>\n",
       "      <td>0</td>\n",
       "      <td>0</td>\n",
       "      <td>1</td>\n",
       "      <td>0</td>\n",
       "      <td>0</td>\n",
       "      <td>0</td>\n",
       "      <td>0</td>\n",
       "      <td>0</td>\n",
       "      <td>1</td>\n",
       "      <td>0</td>\n",
       "      <td>0</td>\n",
       "      <td>0</td>\n",
       "      <td>1</td>\n",
       "      <td>0</td>\n",
       "      <td>0</td>\n",
       "      <td>1</td>\n",
       "      <td>0</td>\n",
       "      <td>0</td>\n",
       "      <td>0</td>\n",
       "      <td>0</td>\n",
       "      <td>0</td>\n",
       "      <td>0</td>\n",
       "      <td>0</td>\n",
       "      <td>0</td>\n",
       "      <td>1</td>\n",
       "      <td>0</td>\n",
       "      <td>0</td>\n",
       "      <td>0</td>\n",
       "      <td>0</td>\n",
       "      <td>0</td>\n",
       "      <td>0</td>\n",
       "      <td>0</td>\n",
       "      <td>0</td>\n",
       "      <td>0</td>\n",
       "      <td>1</td>\n",
       "      <td>0</td>\n",
       "      <td>0</td>\n",
       "      <td>0</td>\n",
       "      <td>0</td>\n",
       "      <td>1</td>\n",
       "      <td>0</td>\n",
       "      <td>0</td>\n",
       "      <td>1</td>\n",
       "      <td>0</td>\n",
       "      <td>0</td>\n",
       "      <td>0</td>\n",
       "      <td>0</td>\n",
       "      <td>0</td>\n",
       "      <td>0</td>\n",
       "      <td>0</td>\n",
       "      <td>0</td>\n",
       "      <td>0</td>\n",
       "      <td>0</td>\n",
       "      <td>0</td>\n",
       "      <td>0</td>\n",
       "      <td>0</td>\n",
       "      <td>1</td>\n",
       "      <td>0</td>\n",
       "      <td>0</td>\n",
       "      <td>0</td>\n",
       "      <td>0</td>\n",
       "      <td>0</td>\n",
       "      <td>0</td>\n",
       "      <td>0</td>\n",
       "      <td>0</td>\n",
       "      <td>0</td>\n",
       "      <td>0</td>\n",
       "      <td>0</td>\n",
       "      <td>0</td>\n",
       "      <td>0</td>\n",
       "      <td>0</td>\n",
       "      <td>0</td>\n",
       "      <td>1</td>\n",
       "      <td>0</td>\n",
       "      <td>0</td>\n",
       "      <td>0</td>\n",
       "      <td>0</td>\n",
       "      <td>0</td>\n",
       "      <td>0</td>\n",
       "      <td>0</td>\n",
       "      <td>1</td>\n",
       "      <td>0</td>\n",
       "      <td>0</td>\n",
       "      <td>1</td>\n",
       "      <td>0</td>\n",
       "      <td>0</td>\n",
       "      <td>0</td>\n",
       "      <td>0</td>\n",
       "      <td>0</td>\n",
       "      <td>0</td>\n",
       "      <td>0</td>\n",
       "      <td>0</td>\n",
       "      <td>0</td>\n",
       "      <td>1</td>\n",
       "      <td>0</td>\n",
       "      <td>0</td>\n",
       "      <td>1</td>\n",
       "      <td>0</td>\n",
       "      <td>0</td>\n",
       "      <td>1</td>\n",
       "      <td>0</td>\n",
       "      <td>0</td>\n",
       "      <td>0</td>\n",
       "      <td>0</td>\n",
       "      <td>0</td>\n",
       "      <td>0</td>\n",
       "      <td>1</td>\n",
       "      <td>0</td>\n",
       "      <td>0</td>\n",
       "      <td>0</td>\n",
       "      <td>0</td>\n",
       "      <td>1</td>\n",
       "      <td>0</td>\n",
       "      <td>0</td>\n",
       "      <td>0</td>\n",
       "      <td>0</td>\n",
       "      <td>0</td>\n",
       "      <td>0</td>\n",
       "      <td>0</td>\n",
       "      <td>0</td>\n",
       "      <td>0</td>\n",
       "      <td>1</td>\n",
       "      <td>0</td>\n",
       "      <td>0</td>\n",
       "      <td>0</td>\n",
       "      <td>0</td>\n",
       "      <td>1</td>\n",
       "      <td>0</td>\n",
       "      <td>0</td>\n",
       "      <td>0</td>\n",
       "      <td>0</td>\n",
       "      <td>1</td>\n",
       "      <td>1</td>\n",
       "      <td>0</td>\n",
       "      <td>0</td>\n",
       "      <td>0</td>\n",
       "      <td>0</td>\n",
       "      <td>0</td>\n",
       "      <td>0</td>\n",
       "      <td>1</td>\n",
       "      <td>1</td>\n",
       "      <td>0</td>\n",
       "      <td>0</td>\n",
       "      <td>0</td>\n",
       "      <td>0</td>\n",
       "      <td>0</td>\n",
       "      <td>0</td>\n",
       "      <td>1</td>\n",
       "      <td>0</td>\n",
       "      <td>0</td>\n",
       "      <td>1</td>\n",
       "      <td>0</td>\n",
       "      <td>0</td>\n",
       "      <td>0</td>\n",
       "      <td>0</td>\n",
       "      <td>0</td>\n",
       "      <td>0</td>\n",
       "      <td>0</td>\n",
       "      <td>1</td>\n",
       "      <td>0</td>\n",
       "      <td>0</td>\n",
       "      <td>0</td>\n",
       "      <td>0</td>\n",
       "      <td>0</td>\n",
       "      <td>0</td>\n",
       "      <td>0</td>\n",
       "      <td>0</td>\n",
       "      <td>0</td>\n",
       "      <td>0</td>\n",
       "      <td>0</td>\n",
       "      <td>0</td>\n",
       "      <td>0</td>\n",
       "      <td>0</td>\n",
       "      <td>0</td>\n",
       "      <td>0</td>\n",
       "      <td>0</td>\n",
       "      <td>0</td>\n",
       "      <td>0</td>\n",
       "      <td>0</td>\n",
       "      <td>0</td>\n",
       "      <td>1</td>\n",
       "      <td>0</td>\n",
       "      <td>1</td>\n",
       "      <td>0</td>\n",
       "      <td>0</td>\n",
       "      <td>0</td>\n",
       "      <td>0</td>\n",
       "      <td>0</td>\n",
       "      <td>0</td>\n",
       "      <td>0</td>\n",
       "      <td>1</td>\n",
       "      <td>0</td>\n",
       "      <td>0</td>\n",
       "      <td>0</td>\n",
       "      <td>0</td>\n",
       "      <td>0</td>\n",
       "      <td>0</td>\n",
       "      <td>0</td>\n",
       "      <td>0</td>\n",
       "      <td>1</td>\n",
       "      <td>0</td>\n",
       "      <td>0</td>\n",
       "      <td>0</td>\n",
       "      <td>0</td>\n",
       "      <td>0</td>\n",
       "      <td>0</td>\n",
       "      <td>0</td>\n",
       "      <td>0</td>\n",
       "      <td>0</td>\n",
       "      <td>1</td>\n",
       "      <td>0</td>\n",
       "      <td>1</td>\n",
       "    </tr>\n",
       "    <tr>\n",
       "      <th>3</th>\n",
       "      <td>1</td>\n",
       "      <td>0</td>\n",
       "      <td>0</td>\n",
       "      <td>0</td>\n",
       "      <td>0</td>\n",
       "      <td>0</td>\n",
       "      <td>0</td>\n",
       "      <td>0</td>\n",
       "      <td>1</td>\n",
       "      <td>0</td>\n",
       "      <td>1</td>\n",
       "      <td>0</td>\n",
       "      <td>0</td>\n",
       "      <td>0</td>\n",
       "      <td>0</td>\n",
       "      <td>0</td>\n",
       "      <td>0</td>\n",
       "      <td>0</td>\n",
       "      <td>1</td>\n",
       "      <td>0</td>\n",
       "      <td>0</td>\n",
       "      <td>0</td>\n",
       "      <td>1</td>\n",
       "      <td>0</td>\n",
       "      <td>0</td>\n",
       "      <td>0</td>\n",
       "      <td>0</td>\n",
       "      <td>0</td>\n",
       "      <td>0</td>\n",
       "      <td>0</td>\n",
       "      <td>1</td>\n",
       "      <td>0</td>\n",
       "      <td>1</td>\n",
       "      <td>0</td>\n",
       "      <td>0</td>\n",
       "      <td>1</td>\n",
       "      <td>0</td>\n",
       "      <td>0</td>\n",
       "      <td>0</td>\n",
       "      <td>0</td>\n",
       "      <td>0</td>\n",
       "      <td>0</td>\n",
       "      <td>0</td>\n",
       "      <td>0</td>\n",
       "      <td>1</td>\n",
       "      <td>0</td>\n",
       "      <td>0</td>\n",
       "      <td>0</td>\n",
       "      <td>0</td>\n",
       "      <td>0</td>\n",
       "      <td>0</td>\n",
       "      <td>0</td>\n",
       "      <td>0</td>\n",
       "      <td>0</td>\n",
       "      <td>1</td>\n",
       "      <td>0</td>\n",
       "      <td>0</td>\n",
       "      <td>0</td>\n",
       "      <td>0</td>\n",
       "      <td>1</td>\n",
       "      <td>0</td>\n",
       "      <td>0</td>\n",
       "      <td>0</td>\n",
       "      <td>1</td>\n",
       "      <td>0</td>\n",
       "      <td>0</td>\n",
       "      <td>0</td>\n",
       "      <td>0</td>\n",
       "      <td>0</td>\n",
       "      <td>0</td>\n",
       "      <td>0</td>\n",
       "      <td>0</td>\n",
       "      <td>0</td>\n",
       "      <td>0</td>\n",
       "      <td>0</td>\n",
       "      <td>0</td>\n",
       "      <td>0</td>\n",
       "      <td>1</td>\n",
       "      <td>0</td>\n",
       "      <td>0</td>\n",
       "      <td>0</td>\n",
       "      <td>0</td>\n",
       "      <td>0</td>\n",
       "      <td>0</td>\n",
       "      <td>0</td>\n",
       "      <td>0</td>\n",
       "      <td>0</td>\n",
       "      <td>0</td>\n",
       "      <td>0</td>\n",
       "      <td>0</td>\n",
       "      <td>0</td>\n",
       "      <td>0</td>\n",
       "      <td>0</td>\n",
       "      <td>0</td>\n",
       "      <td>1</td>\n",
       "      <td>0</td>\n",
       "      <td>0</td>\n",
       "      <td>0</td>\n",
       "      <td>1</td>\n",
       "      <td>0</td>\n",
       "      <td>0</td>\n",
       "      <td>1</td>\n",
       "      <td>0</td>\n",
       "      <td>0</td>\n",
       "      <td>0</td>\n",
       "      <td>0</td>\n",
       "      <td>0</td>\n",
       "      <td>0</td>\n",
       "      <td>0</td>\n",
       "      <td>0</td>\n",
       "      <td>0</td>\n",
       "      <td>0</td>\n",
       "      <td>0</td>\n",
       "      <td>1</td>\n",
       "      <td>0</td>\n",
       "      <td>0</td>\n",
       "      <td>0</td>\n",
       "      <td>1</td>\n",
       "      <td>0</td>\n",
       "      <td>0</td>\n",
       "      <td>0</td>\n",
       "      <td>0</td>\n",
       "      <td>0</td>\n",
       "      <td>1</td>\n",
       "      <td>0</td>\n",
       "      <td>0</td>\n",
       "      <td>1</td>\n",
       "      <td>0</td>\n",
       "      <td>0</td>\n",
       "      <td>0</td>\n",
       "      <td>0</td>\n",
       "      <td>0</td>\n",
       "      <td>0</td>\n",
       "      <td>1</td>\n",
       "      <td>0</td>\n",
       "      <td>0</td>\n",
       "      <td>0</td>\n",
       "      <td>0</td>\n",
       "      <td>0</td>\n",
       "      <td>0</td>\n",
       "      <td>0</td>\n",
       "      <td>1</td>\n",
       "      <td>0</td>\n",
       "      <td>0</td>\n",
       "      <td>0</td>\n",
       "      <td>0</td>\n",
       "      <td>1</td>\n",
       "      <td>0</td>\n",
       "      <td>0</td>\n",
       "      <td>0</td>\n",
       "      <td>0</td>\n",
       "      <td>1</td>\n",
       "      <td>1</td>\n",
       "      <td>0</td>\n",
       "      <td>0</td>\n",
       "      <td>1</td>\n",
       "      <td>0</td>\n",
       "      <td>0</td>\n",
       "      <td>0</td>\n",
       "      <td>0</td>\n",
       "      <td>1</td>\n",
       "      <td>0</td>\n",
       "      <td>0</td>\n",
       "      <td>0</td>\n",
       "      <td>0</td>\n",
       "      <td>0</td>\n",
       "      <td>0</td>\n",
       "      <td>1</td>\n",
       "      <td>0</td>\n",
       "      <td>0</td>\n",
       "      <td>0</td>\n",
       "      <td>1</td>\n",
       "      <td>0</td>\n",
       "      <td>0</td>\n",
       "      <td>0</td>\n",
       "      <td>0</td>\n",
       "      <td>0</td>\n",
       "      <td>0</td>\n",
       "      <td>0</td>\n",
       "      <td>1</td>\n",
       "      <td>0</td>\n",
       "      <td>0</td>\n",
       "      <td>0</td>\n",
       "      <td>0</td>\n",
       "      <td>0</td>\n",
       "      <td>0</td>\n",
       "      <td>0</td>\n",
       "      <td>0</td>\n",
       "      <td>0</td>\n",
       "      <td>0</td>\n",
       "      <td>0</td>\n",
       "      <td>0</td>\n",
       "      <td>0</td>\n",
       "      <td>0</td>\n",
       "      <td>0</td>\n",
       "      <td>0</td>\n",
       "      <td>0</td>\n",
       "      <td>0</td>\n",
       "      <td>0</td>\n",
       "      <td>0</td>\n",
       "      <td>1</td>\n",
       "      <td>0</td>\n",
       "      <td>1</td>\n",
       "      <td>0</td>\n",
       "      <td>0</td>\n",
       "      <td>0</td>\n",
       "      <td>0</td>\n",
       "      <td>0</td>\n",
       "      <td>0</td>\n",
       "      <td>0</td>\n",
       "      <td>1</td>\n",
       "      <td>0</td>\n",
       "      <td>0</td>\n",
       "      <td>0</td>\n",
       "      <td>0</td>\n",
       "      <td>1</td>\n",
       "      <td>0</td>\n",
       "      <td>0</td>\n",
       "      <td>0</td>\n",
       "      <td>0</td>\n",
       "      <td>0</td>\n",
       "      <td>0</td>\n",
       "      <td>0</td>\n",
       "      <td>0</td>\n",
       "      <td>0</td>\n",
       "      <td>0</td>\n",
       "      <td>0</td>\n",
       "      <td>0</td>\n",
       "      <td>0</td>\n",
       "      <td>1</td>\n",
       "      <td>0</td>\n",
       "      <td>1</td>\n",
       "    </tr>\n",
       "    <tr>\n",
       "      <th>4</th>\n",
       "      <td>1</td>\n",
       "      <td>0</td>\n",
       "      <td>0</td>\n",
       "      <td>0</td>\n",
       "      <td>0</td>\n",
       "      <td>1</td>\n",
       "      <td>0</td>\n",
       "      <td>0</td>\n",
       "      <td>0</td>\n",
       "      <td>0</td>\n",
       "      <td>0</td>\n",
       "      <td>0</td>\n",
       "      <td>1</td>\n",
       "      <td>0</td>\n",
       "      <td>0</td>\n",
       "      <td>0</td>\n",
       "      <td>0</td>\n",
       "      <td>0</td>\n",
       "      <td>1</td>\n",
       "      <td>0</td>\n",
       "      <td>0</td>\n",
       "      <td>0</td>\n",
       "      <td>1</td>\n",
       "      <td>0</td>\n",
       "      <td>0</td>\n",
       "      <td>0</td>\n",
       "      <td>0</td>\n",
       "      <td>0</td>\n",
       "      <td>1</td>\n",
       "      <td>0</td>\n",
       "      <td>0</td>\n",
       "      <td>0</td>\n",
       "      <td>1</td>\n",
       "      <td>0</td>\n",
       "      <td>0</td>\n",
       "      <td>1</td>\n",
       "      <td>0</td>\n",
       "      <td>0</td>\n",
       "      <td>0</td>\n",
       "      <td>0</td>\n",
       "      <td>0</td>\n",
       "      <td>0</td>\n",
       "      <td>0</td>\n",
       "      <td>0</td>\n",
       "      <td>1</td>\n",
       "      <td>0</td>\n",
       "      <td>0</td>\n",
       "      <td>0</td>\n",
       "      <td>0</td>\n",
       "      <td>0</td>\n",
       "      <td>0</td>\n",
       "      <td>0</td>\n",
       "      <td>0</td>\n",
       "      <td>0</td>\n",
       "      <td>1</td>\n",
       "      <td>0</td>\n",
       "      <td>0</td>\n",
       "      <td>0</td>\n",
       "      <td>0</td>\n",
       "      <td>1</td>\n",
       "      <td>0</td>\n",
       "      <td>0</td>\n",
       "      <td>1</td>\n",
       "      <td>0</td>\n",
       "      <td>0</td>\n",
       "      <td>0</td>\n",
       "      <td>0</td>\n",
       "      <td>0</td>\n",
       "      <td>0</td>\n",
       "      <td>0</td>\n",
       "      <td>0</td>\n",
       "      <td>0</td>\n",
       "      <td>0</td>\n",
       "      <td>0</td>\n",
       "      <td>0</td>\n",
       "      <td>0</td>\n",
       "      <td>1</td>\n",
       "      <td>0</td>\n",
       "      <td>0</td>\n",
       "      <td>0</td>\n",
       "      <td>0</td>\n",
       "      <td>0</td>\n",
       "      <td>0</td>\n",
       "      <td>0</td>\n",
       "      <td>0</td>\n",
       "      <td>0</td>\n",
       "      <td>0</td>\n",
       "      <td>0</td>\n",
       "      <td>0</td>\n",
       "      <td>0</td>\n",
       "      <td>0</td>\n",
       "      <td>0</td>\n",
       "      <td>1</td>\n",
       "      <td>0</td>\n",
       "      <td>0</td>\n",
       "      <td>0</td>\n",
       "      <td>0</td>\n",
       "      <td>0</td>\n",
       "      <td>0</td>\n",
       "      <td>0</td>\n",
       "      <td>1</td>\n",
       "      <td>0</td>\n",
       "      <td>0</td>\n",
       "      <td>1</td>\n",
       "      <td>0</td>\n",
       "      <td>0</td>\n",
       "      <td>0</td>\n",
       "      <td>0</td>\n",
       "      <td>0</td>\n",
       "      <td>0</td>\n",
       "      <td>0</td>\n",
       "      <td>0</td>\n",
       "      <td>0</td>\n",
       "      <td>1</td>\n",
       "      <td>0</td>\n",
       "      <td>0</td>\n",
       "      <td>1</td>\n",
       "      <td>0</td>\n",
       "      <td>0</td>\n",
       "      <td>1</td>\n",
       "      <td>0</td>\n",
       "      <td>0</td>\n",
       "      <td>0</td>\n",
       "      <td>0</td>\n",
       "      <td>0</td>\n",
       "      <td>0</td>\n",
       "      <td>1</td>\n",
       "      <td>0</td>\n",
       "      <td>0</td>\n",
       "      <td>0</td>\n",
       "      <td>0</td>\n",
       "      <td>1</td>\n",
       "      <td>0</td>\n",
       "      <td>0</td>\n",
       "      <td>0</td>\n",
       "      <td>0</td>\n",
       "      <td>0</td>\n",
       "      <td>0</td>\n",
       "      <td>0</td>\n",
       "      <td>0</td>\n",
       "      <td>0</td>\n",
       "      <td>1</td>\n",
       "      <td>0</td>\n",
       "      <td>0</td>\n",
       "      <td>0</td>\n",
       "      <td>0</td>\n",
       "      <td>1</td>\n",
       "      <td>0</td>\n",
       "      <td>0</td>\n",
       "      <td>0</td>\n",
       "      <td>0</td>\n",
       "      <td>1</td>\n",
       "      <td>1</td>\n",
       "      <td>0</td>\n",
       "      <td>0</td>\n",
       "      <td>0</td>\n",
       "      <td>0</td>\n",
       "      <td>1</td>\n",
       "      <td>0</td>\n",
       "      <td>0</td>\n",
       "      <td>1</td>\n",
       "      <td>0</td>\n",
       "      <td>0</td>\n",
       "      <td>0</td>\n",
       "      <td>0</td>\n",
       "      <td>0</td>\n",
       "      <td>0</td>\n",
       "      <td>1</td>\n",
       "      <td>0</td>\n",
       "      <td>0</td>\n",
       "      <td>1</td>\n",
       "      <td>0</td>\n",
       "      <td>0</td>\n",
       "      <td>0</td>\n",
       "      <td>0</td>\n",
       "      <td>0</td>\n",
       "      <td>0</td>\n",
       "      <td>0</td>\n",
       "      <td>0</td>\n",
       "      <td>0</td>\n",
       "      <td>0</td>\n",
       "      <td>0</td>\n",
       "      <td>0</td>\n",
       "      <td>0</td>\n",
       "      <td>0</td>\n",
       "      <td>0</td>\n",
       "      <td>0</td>\n",
       "      <td>0</td>\n",
       "      <td>1</td>\n",
       "      <td>0</td>\n",
       "      <td>0</td>\n",
       "      <td>0</td>\n",
       "      <td>0</td>\n",
       "      <td>0</td>\n",
       "      <td>0</td>\n",
       "      <td>0</td>\n",
       "      <td>0</td>\n",
       "      <td>0</td>\n",
       "      <td>0</td>\n",
       "      <td>0</td>\n",
       "      <td>1</td>\n",
       "      <td>0</td>\n",
       "      <td>1</td>\n",
       "      <td>0</td>\n",
       "      <td>0</td>\n",
       "      <td>0</td>\n",
       "      <td>0</td>\n",
       "      <td>0</td>\n",
       "      <td>0</td>\n",
       "      <td>0</td>\n",
       "      <td>1</td>\n",
       "      <td>0</td>\n",
       "      <td>0</td>\n",
       "      <td>0</td>\n",
       "      <td>0</td>\n",
       "      <td>0</td>\n",
       "      <td>0</td>\n",
       "      <td>0</td>\n",
       "      <td>0</td>\n",
       "      <td>1</td>\n",
       "      <td>0</td>\n",
       "      <td>0</td>\n",
       "      <td>0</td>\n",
       "      <td>0</td>\n",
       "      <td>0</td>\n",
       "      <td>0</td>\n",
       "      <td>0</td>\n",
       "      <td>0</td>\n",
       "      <td>0</td>\n",
       "      <td>1</td>\n",
       "      <td>0</td>\n",
       "      <td>1</td>\n",
       "    </tr>\n",
       "  </tbody>\n",
       "</table>\n",
       "</div>"
      ],
      "text/plain": [
       "   BldgType_1Fam  BldgType_2fmCon  BldgType_Duplex  BldgType_Twnhs  \\\n",
       "0              1                0                0               0   \n",
       "1              1                0                0               0   \n",
       "2              1                0                0               0   \n",
       "3              1                0                0               0   \n",
       "4              1                0                0               0   \n",
       "\n",
       "   BldgType_TwnhsE  BsmtExposure_Av  BsmtExposure_Gd  BsmtExposure_Mn  \\\n",
       "0                0                0                0                0   \n",
       "1                0                0                1                0   \n",
       "2                0                0                0                1   \n",
       "3                0                0                0                0   \n",
       "4                0                1                0                0   \n",
       "\n",
       "   BsmtExposure_No  BsmtExposure_NoBsmt  BsmtFinType1_ALQ  BsmtFinType1_BLQ  \\\n",
       "0                1                    0                 0                 0   \n",
       "1                0                    0                 1                 0   \n",
       "2                0                    0                 0                 0   \n",
       "3                1                    0                 1                 0   \n",
       "4                0                    0                 0                 0   \n",
       "\n",
       "   BsmtFinType1_GLQ  BsmtFinType1_LwQ  BsmtFinType1_NoBsmt  BsmtFinType1_Rec  \\\n",
       "0                 1                 0                    0                 0   \n",
       "1                 0                 0                    0                 0   \n",
       "2                 1                 0                    0                 0   \n",
       "3                 0                 0                    0                 0   \n",
       "4                 1                 0                    0                 0   \n",
       "\n",
       "   BsmtFinType1_Unf  BsmtFullBath_0  BsmtFullBath_1  BsmtFullBath_2  \\\n",
       "0                 0               0               1               0   \n",
       "1                 0               1               0               0   \n",
       "2                 0               0               1               0   \n",
       "3                 0               0               1               0   \n",
       "4                 0               0               1               0   \n",
       "\n",
       "   BsmtFullBath_3  BsmtFullBath_0  BsmtHalfBath_0  BsmtHalfBath_1  \\\n",
       "0               0               0               1               0   \n",
       "1               0               0               0               1   \n",
       "2               0               0               1               0   \n",
       "3               0               0               1               0   \n",
       "4               0               0               1               0   \n",
       "\n",
       "   BsmtHalfBath_2  BsmtHalfBath_0  BsmtQual_Ex  BsmtQual_Fa  BsmtQual_Gd  \\\n",
       "0               0               0            0            0            1   \n",
       "1               0               0            0            0            1   \n",
       "2               0               0            0            0            1   \n",
       "3               0               0            0            0            0   \n",
       "4               0               0            0            0            1   \n",
       "\n",
       "   BsmtQual_NoBsmt  BsmtQual_TA  CentralAir_N  CentralAir_Y  \\\n",
       "0                0            0             0             1   \n",
       "1                0            0             0             1   \n",
       "2                0            0             0             1   \n",
       "3                0            1             0             1   \n",
       "4                0            0             0             1   \n",
       "\n",
       "   Condition1_Artery  Condition1_Feedr  Condition1_Norm  Condition1_PosA  \\\n",
       "0                  0                 0                1                0   \n",
       "1                  0                 1                0                0   \n",
       "2                  0                 0                1                0   \n",
       "3                  0                 0                1                0   \n",
       "4                  0                 0                1                0   \n",
       "\n",
       "   Condition1_PosN  Condition1_RRAe  Condition1_RRAn  Condition1_RRNe  \\\n",
       "0                0                0                0                0   \n",
       "1                0                0                0                0   \n",
       "2                0                0                0                0   \n",
       "3                0                0                0                0   \n",
       "4                0                0                0                0   \n",
       "\n",
       "   Condition1_RRNn  Condition2_Artery  Condition2_Feedr  Condition2_Norm  \\\n",
       "0                0                  0                 0                1   \n",
       "1                0                  0                 0                1   \n",
       "2                0                  0                 0                1   \n",
       "3                0                  0                 0                1   \n",
       "4                0                  0                 0                1   \n",
       "\n",
       "   Condition2_PosA  Condition2_PosN  Condition2_RRAe  Condition2_RRAn  \\\n",
       "0                0                0                0                0   \n",
       "1                0                0                0                0   \n",
       "2                0                0                0                0   \n",
       "3                0                0                0                0   \n",
       "4                0                0                0                0   \n",
       "\n",
       "   Condition2_RRNn  Electrical_FuseA  Electrical_FuseF  Electrical_FuseP  \\\n",
       "0                0                 0                 0                 0   \n",
       "1                0                 0                 0                 0   \n",
       "2                0                 0                 0                 0   \n",
       "3                0                 0                 0                 0   \n",
       "4                0                 0                 0                 0   \n",
       "\n",
       "   Electrical_Mix  Electrical_SBrkr  ExterCond_Ex  ExterCond_Fa  ExterCond_Gd  \\\n",
       "0               0                 1             0             0             0   \n",
       "1               0                 1             0             0             0   \n",
       "2               0                 1             0             0             0   \n",
       "3               0                 1             0             0             0   \n",
       "4               0                 1             0             0             0   \n",
       "\n",
       "   ExterCond_Po  ExterCond_TA  ExterQual_Ex  ExterQual_Fa  ExterQual_Gd  \\\n",
       "0             0             1             0             0             1   \n",
       "1             0             1             0             0             0   \n",
       "2             0             1             0             0             1   \n",
       "3             0             1             0             0             0   \n",
       "4             0             1             0             0             1   \n",
       "\n",
       "   ExterQual_TA  Exterior1st_AsbShng  Exterior1st_AsphShn  \\\n",
       "0             0                    0                    0   \n",
       "1             1                    0                    0   \n",
       "2             0                    0                    0   \n",
       "3             1                    0                    0   \n",
       "4             0                    0                    0   \n",
       "\n",
       "   Exterior1st_BrkComm  Exterior1st_BrkFace  Exterior1st_CBlock  \\\n",
       "0                    0                    0                   0   \n",
       "1                    0                    0                   0   \n",
       "2                    0                    0                   0   \n",
       "3                    0                    0                   0   \n",
       "4                    0                    0                   0   \n",
       "\n",
       "   Exterior1st_CemntBd  Exterior1st_HdBoard  Exterior1st_ImStucc  \\\n",
       "0                    0                    0                    0   \n",
       "1                    0                    0                    0   \n",
       "2                    0                    0                    0   \n",
       "3                    0                    0                    0   \n",
       "4                    0                    0                    0   \n",
       "\n",
       "   Exterior1st_MetalSd  Exterior1st_Plywood  Exterior1st_Stone  \\\n",
       "0                    0                    0                  0   \n",
       "1                    1                    0                  0   \n",
       "2                    0                    0                  0   \n",
       "3                    0                    0                  0   \n",
       "4                    0                    0                  0   \n",
       "\n",
       "   Exterior1st_Stucco  Exterior1st_VinylSd  Exterior1st_Wd Sdng  \\\n",
       "0                   0                    1                    0   \n",
       "1                   0                    0                    0   \n",
       "2                   0                    1                    0   \n",
       "3                   0                    0                    1   \n",
       "4                   0                    1                    0   \n",
       "\n",
       "   Exterior1st_WdShing  Exterior2nd_AsbShng  Exterior2nd_AsphShn  \\\n",
       "0                    0                    0                    0   \n",
       "1                    0                    0                    0   \n",
       "2                    0                    0                    0   \n",
       "3                    0                    0                    0   \n",
       "4                    0                    0                    0   \n",
       "\n",
       "   Exterior2nd_Brk Cmn  Exterior2nd_BrkFace  Exterior2nd_CBlock  \\\n",
       "0                    0                    0                   0   \n",
       "1                    0                    0                   0   \n",
       "2                    0                    0                   0   \n",
       "3                    0                    0                   0   \n",
       "4                    0                    0                   0   \n",
       "\n",
       "   Exterior2nd_CmentBd  Exterior2nd_HdBoard  Exterior2nd_ImStucc  \\\n",
       "0                    0                    0                    0   \n",
       "1                    0                    0                    0   \n",
       "2                    0                    0                    0   \n",
       "3                    0                    0                    0   \n",
       "4                    0                    0                    0   \n",
       "\n",
       "   Exterior2nd_MetalSd  Exterior2nd_Other  Exterior2nd_Plywood  \\\n",
       "0                    0                  0                    0   \n",
       "1                    1                  0                    0   \n",
       "2                    0                  0                    0   \n",
       "3                    0                  0                    0   \n",
       "4                    0                  0                    0   \n",
       "\n",
       "   Exterior2nd_Stone  Exterior2nd_Stucco  Exterior2nd_VinylSd  \\\n",
       "0                  0                   0                    1   \n",
       "1                  0                   0                    0   \n",
       "2                  0                   0                    1   \n",
       "3                  0                   0                    0   \n",
       "4                  0                   0                    1   \n",
       "\n",
       "   Exterior2nd_Wd Sdng  Exterior2nd_Wd Shng  FireplaceQu_0  FireplaceQu_Ex  \\\n",
       "0                    0                    0              1               0   \n",
       "1                    0                    0              0               0   \n",
       "2                    0                    0              0               0   \n",
       "3                    0                    1              0               0   \n",
       "4                    0                    0              0               0   \n",
       "\n",
       "   FireplaceQu_Fa  FireplaceQu_Gd  FireplaceQu_Po  FireplaceQu_TA  \\\n",
       "0               0               0               0               0   \n",
       "1               0               0               0               1   \n",
       "2               0               0               0               1   \n",
       "3               0               1               0               0   \n",
       "4               0               0               0               1   \n",
       "\n",
       "   Foundation_BrkTil  Foundation_CBlock  Foundation_PConc  Foundation_Slab  \\\n",
       "0                  0                  0                 1                0   \n",
       "1                  0                  1                 0                0   \n",
       "2                  0                  0                 1                0   \n",
       "3                  1                  0                 0                0   \n",
       "4                  0                  0                 1                0   \n",
       "\n",
       "   Foundation_Stone  Foundation_Wood  Functional_Maj1  Functional_Maj2  \\\n",
       "0                 0                0                0                0   \n",
       "1                 0                0                0                0   \n",
       "2                 0                0                0                0   \n",
       "3                 0                0                0                0   \n",
       "4                 0                0                0                0   \n",
       "\n",
       "   Functional_Min1  Functional_Min2  Functional_Mod  Functional_Sev  \\\n",
       "0                0                0               0               0   \n",
       "1                0                0               0               0   \n",
       "2                0                0               0               0   \n",
       "3                0                0               0               0   \n",
       "4                0                0               0               0   \n",
       "\n",
       "   Functional_Typ  GarageFinish_Fin  GarageFinish_Nog  GarageFinish_RFn  \\\n",
       "0               1                 0                 0                 1   \n",
       "1               1                 0                 0                 1   \n",
       "2               1                 0                 0                 1   \n",
       "3               1                 0                 0                 0   \n",
       "4               1                 0                 0                 1   \n",
       "\n",
       "   GarageFinish_Unf  GarageType_2Types  GarageType_Attchd  GarageType_Basment  \\\n",
       "0                 0                  0                  1                   0   \n",
       "1                 0                  0                  1                   0   \n",
       "2                 0                  0                  1                   0   \n",
       "3                 1                  0                  0                   0   \n",
       "4                 0                  0                  1                   0   \n",
       "\n",
       "   GarageType_BuiltIn  GarageType_CarPort  GarageType_Detchd  GarageType_Nog  \\\n",
       "0                   0                   0                  0               0   \n",
       "1                   0                   0                  0               0   \n",
       "2                   0                   0                  0               0   \n",
       "3                   0                   0                  1               0   \n",
       "4                   0                   0                  0               0   \n",
       "\n",
       "   Heating_Floor  Heating_GasA  Heating_GasW  Heating_Grav  Heating_OthW  \\\n",
       "0              0             1             0             0             0   \n",
       "1              0             1             0             0             0   \n",
       "2              0             1             0             0             0   \n",
       "3              0             1             0             0             0   \n",
       "4              0             1             0             0             0   \n",
       "\n",
       "   Heating_Wall  HeatingQC_Ex  HeatingQC_Fa  HeatingQC_Gd  HeatingQC_Po  \\\n",
       "0             0             1             0             0             0   \n",
       "1             0             1             0             0             0   \n",
       "2             0             1             0             0             0   \n",
       "3             0             0             0             1             0   \n",
       "4             0             1             0             0             0   \n",
       "\n",
       "   HeatingQC_TA  HouseStyle_1.5Fin  HouseStyle_1.5Unf  HouseStyle_1Story  \\\n",
       "0             0                  0                  0                  0   \n",
       "1             0                  0                  0                  1   \n",
       "2             0                  0                  0                  0   \n",
       "3             0                  0                  0                  0   \n",
       "4             0                  0                  0                  0   \n",
       "\n",
       "   HouseStyle_2.5Fin  HouseStyle_2.5Unf  HouseStyle_2Story  HouseStyle_SFoyer  \\\n",
       "0                  0                  0                  1                  0   \n",
       "1                  0                  0                  0                  0   \n",
       "2                  0                  0                  1                  0   \n",
       "3                  0                  0                  1                  0   \n",
       "4                  0                  0                  1                  0   \n",
       "\n",
       "   HouseStyle_SLvl  KitchenQual_Ex  KitchenQual_Fa  KitchenQual_Gd  \\\n",
       "0                0               0               0               1   \n",
       "1                0               0               0               0   \n",
       "2                0               0               0               1   \n",
       "3                0               0               0               1   \n",
       "4                0               0               0               1   \n",
       "\n",
       "   KitchenQual_TA  LandContour_Bnk  LandContour_HLS  LandContour_Low  \\\n",
       "0               0                0                0                0   \n",
       "1               1                0                0                0   \n",
       "2               0                0                0                0   \n",
       "3               0                0                0                0   \n",
       "4               0                0                0                0   \n",
       "\n",
       "   LandContour_Lvl  LandSlope_Gtl  LandSlope_Mod  LandSlope_Sev  \\\n",
       "0                1              1              0              0   \n",
       "1                1              1              0              0   \n",
       "2                1              1              0              0   \n",
       "3                1              1              0              0   \n",
       "4                1              1              0              0   \n",
       "\n",
       "   LotConfig_Corner  LotConfig_CulDSac  LotConfig_FR2  LotConfig_FR3  \\\n",
       "0                 0                  0              0              0   \n",
       "1                 0                  0              1              0   \n",
       "2                 0                  0              0              0   \n",
       "3                 1                  0              0              0   \n",
       "4                 0                  0              1              0   \n",
       "\n",
       "   LotConfig_Inside  LotShape_IR1  LotShape_IR2  LotShape_IR3  LotShape_Reg  \\\n",
       "0                 1             0             0             0             1   \n",
       "1                 0             0             0             0             1   \n",
       "2                 1             1             0             0             0   \n",
       "3                 0             1             0             0             0   \n",
       "4                 0             1             0             0             0   \n",
       "\n",
       "   MSZoning_C (all)  MSZoning_FV  MSZoning_RH  MSZoning_RL  MSZoning_RM  \\\n",
       "0                 0            0            0            1            0   \n",
       "1                 0            0            0            1            0   \n",
       "2                 0            0            0            1            0   \n",
       "3                 0            0            0            1            0   \n",
       "4                 0            0            0            1            0   \n",
       "\n",
       "   MasVnrType_BrkCmn  MasVnrType_BrkFace  MasVnrType_None  MasVnrType_Stone  \\\n",
       "0                  0                   1                0                 0   \n",
       "1                  0                   0                1                 0   \n",
       "2                  0                   1                0                 0   \n",
       "3                  0                   0                1                 0   \n",
       "4                  0                   1                0                 0   \n",
       "\n",
       "   Neighborhood_Blmngtn  Neighborhood_Blueste  Neighborhood_BrDale  \\\n",
       "0                     0                     0                    0   \n",
       "1                     0                     0                    0   \n",
       "2                     0                     0                    0   \n",
       "3                     0                     0                    0   \n",
       "4                     0                     0                    0   \n",
       "\n",
       "   Neighborhood_BrkSide  Neighborhood_ClearCr  Neighborhood_CollgCr  \\\n",
       "0                     0                     0                     1   \n",
       "1                     0                     0                     0   \n",
       "2                     0                     0                     1   \n",
       "3                     0                     0                     0   \n",
       "4                     0                     0                     0   \n",
       "\n",
       "   Neighborhood_Crawfor  Neighborhood_Edwards  Neighborhood_Gilbert  \\\n",
       "0                     0                     0                     0   \n",
       "1                     0                     0                     0   \n",
       "2                     0                     0                     0   \n",
       "3                     1                     0                     0   \n",
       "4                     0                     0                     0   \n",
       "\n",
       "   Neighborhood_IDOTRR  Neighborhood_MeadowV  Neighborhood_Mitchel  \\\n",
       "0                    0                     0                     0   \n",
       "1                    0                     0                     0   \n",
       "2                    0                     0                     0   \n",
       "3                    0                     0                     0   \n",
       "4                    0                     0                     0   \n",
       "\n",
       "   Neighborhood_NAmes  Neighborhood_NPkVill  Neighborhood_NWAmes  \\\n",
       "0                   0                     0                    0   \n",
       "1                   0                     0                    0   \n",
       "2                   0                     0                    0   \n",
       "3                   0                     0                    0   \n",
       "4                   0                     0                    0   \n",
       "\n",
       "   Neighborhood_NoRidge  Neighborhood_NridgHt  Neighborhood_OldTown  \\\n",
       "0                     0                     0                     0   \n",
       "1                     0                     0                     0   \n",
       "2                     0                     0                     0   \n",
       "3                     0                     0                     0   \n",
       "4                     1                     0                     0   \n",
       "\n",
       "   Neighborhood_SWISU  Neighborhood_Sawyer  Neighborhood_SawyerW  \\\n",
       "0                   0                    0                     0   \n",
       "1                   0                    0                     0   \n",
       "2                   0                    0                     0   \n",
       "3                   0                    0                     0   \n",
       "4                   0                    0                     0   \n",
       "\n",
       "   Neighborhood_Somerst  Neighborhood_StoneBr  Neighborhood_Timber  \\\n",
       "0                     0                     0                    0   \n",
       "1                     0                     0                    0   \n",
       "2                     0                     0                    0   \n",
       "3                     0                     0                    0   \n",
       "4                     0                     0                    0   \n",
       "\n",
       "   Neighborhood_Veenker  PavedDrive_N  PavedDrive_P  PavedDrive_Y  \\\n",
       "0                     0             0             0             1   \n",
       "1                     1             0             0             1   \n",
       "2                     0             0             0             1   \n",
       "3                     0             0             0             1   \n",
       "4                     0             0             0             1   \n",
       "\n",
       "   RoofMatl_ClyTile  RoofMatl_CompShg  RoofMatl_Membran  RoofMatl_Metal  \\\n",
       "0                 0                 1                 0               0   \n",
       "1                 0                 1                 0               0   \n",
       "2                 0                 1                 0               0   \n",
       "3                 0                 1                 0               0   \n",
       "4                 0                 1                 0               0   \n",
       "\n",
       "   RoofMatl_Roll  RoofMatl_Tar&Grv  RoofMatl_WdShake  RoofMatl_WdShngl  \\\n",
       "0              0                 0                 0                 0   \n",
       "1              0                 0                 0                 0   \n",
       "2              0                 0                 0                 0   \n",
       "3              0                 0                 0                 0   \n",
       "4              0                 0                 0                 0   \n",
       "\n",
       "   RoofStyle_Flat  RoofStyle_Gable  RoofStyle_Gambrel  RoofStyle_Hip  \\\n",
       "0               0                1                  0              0   \n",
       "1               0                1                  0              0   \n",
       "2               0                1                  0              0   \n",
       "3               0                1                  0              0   \n",
       "4               0                1                  0              0   \n",
       "\n",
       "   RoofStyle_Mansard  RoofStyle_Shed  SaleCondition_Abnorml  \\\n",
       "0                  0               0                      0   \n",
       "1                  0               0                      0   \n",
       "2                  0               0                      0   \n",
       "3                  0               0                      1   \n",
       "4                  0               0                      0   \n",
       "\n",
       "   SaleCondition_AdjLand  SaleCondition_Alloca  SaleCondition_Family  \\\n",
       "0                      0                     0                     0   \n",
       "1                      0                     0                     0   \n",
       "2                      0                     0                     0   \n",
       "3                      0                     0                     0   \n",
       "4                      0                     0                     0   \n",
       "\n",
       "   SaleCondition_Normal  SaleCondition_Partial  SaleType_COD  SaleType_CWD  \\\n",
       "0                     1                      0             0             0   \n",
       "1                     1                      0             0             0   \n",
       "2                     1                      0             0             0   \n",
       "3                     0                      0             0             0   \n",
       "4                     1                      0             0             0   \n",
       "\n",
       "   SaleType_Con  SaleType_ConLD  SaleType_ConLI  SaleType_ConLw  SaleType_New  \\\n",
       "0             0               0               0               0             0   \n",
       "1             0               0               0               0             0   \n",
       "2             0               0               0               0             0   \n",
       "3             0               0               0               0             0   \n",
       "4             0               0               0               0             0   \n",
       "\n",
       "   SaleType_Oth  SaleType_WD  Street_Grvl  Street_Pave  \n",
       "0             0            1            0            1  \n",
       "1             0            1            0            1  \n",
       "2             0            1            0            1  \n",
       "3             0            1            0            1  \n",
       "4             0            1            0            1  "
      ]
     },
     "execution_count": 106,
     "metadata": {},
     "output_type": "execute_result"
    }
   ],
   "source": [
    "df_cat_dummies = pd.get_dummies(df_cat)\n",
    "\n",
    "df_cat_dummies.head()"
   ]
  },
  {
   "cell_type": "code",
   "execution_count": 107,
   "metadata": {
    "execution": {
     "iopub.execute_input": "2020-11-08T14:12:32.903037Z",
     "iopub.status.busy": "2020-11-08T14:12:32.901964Z",
     "iopub.status.idle": "2020-11-08T14:12:32.907845Z",
     "shell.execute_reply": "2020-11-08T14:12:32.907021Z"
    },
    "papermill": {
     "duration": 0.223579,
     "end_time": "2020-11-08T14:12:32.908000",
     "exception": false,
     "start_time": "2020-11-08T14:12:32.684421",
     "status": "completed"
    },
    "tags": []
   },
   "outputs": [
    {
     "name": "stdout",
     "output_type": "stream",
     "text": [
      "(2919, 70)\n",
      "(2919, 36)\n",
      "(2919, 232)\n"
     ]
    }
   ],
   "source": [
    "print(df_all.shape)\n",
    "print(df_cat.shape)\n",
    "print(df_cat_dummies.shape)"
   ]
  },
  {
   "cell_type": "code",
   "execution_count": 108,
   "metadata": {
    "execution": {
     "iopub.execute_input": "2020-11-08T14:12:33.351466Z",
     "iopub.status.busy": "2020-11-08T14:12:33.347920Z",
     "iopub.status.idle": "2020-11-08T14:12:33.366248Z",
     "shell.execute_reply": "2020-11-08T14:12:33.365646Z"
    },
    "papermill": {
     "duration": 0.243501,
     "end_time": "2020-11-08T14:12:33.366396",
     "exception": false,
     "start_time": "2020-11-08T14:12:33.122895",
     "status": "completed"
    },
    "tags": []
   },
   "outputs": [],
   "source": [
    "df_all_features = df_all.join(df_cat_dummies)  # combined all features"
   ]
  },
  {
   "cell_type": "code",
   "execution_count": 109,
   "metadata": {
    "execution": {
     "iopub.execute_input": "2020-11-08T14:12:33.801296Z",
     "iopub.status.busy": "2020-11-08T14:12:33.800132Z",
     "iopub.status.idle": "2020-11-08T14:12:33.811110Z",
     "shell.execute_reply": "2020-11-08T14:12:33.811838Z"
    },
    "papermill": {
     "duration": 0.232537,
     "end_time": "2020-11-08T14:12:33.812000",
     "exception": false,
     "start_time": "2020-11-08T14:12:33.579463",
     "status": "completed"
    },
    "tags": []
   },
   "outputs": [],
   "source": [
    "df_all_features = df_all_features.drop(df_cat, axis=1)  # dropped original categorical features"
   ]
  },
  {
   "cell_type": "code",
   "execution_count": 110,
   "metadata": {
    "execution": {
     "iopub.execute_input": "2020-11-08T14:12:34.263184Z",
     "iopub.status.busy": "2020-11-08T14:12:34.258001Z",
     "iopub.status.idle": "2020-11-08T14:12:34.427459Z",
     "shell.execute_reply": "2020-11-08T14:12:34.428064Z"
    },
    "papermill": {
     "duration": 0.401965,
     "end_time": "2020-11-08T14:12:34.428229",
     "exception": false,
     "start_time": "2020-11-08T14:12:34.026264",
     "status": "completed"
    },
    "tags": []
   },
   "outputs": [
    {
     "data": {
      "text/html": [
       "<div>\n",
       "<style scoped>\n",
       "    .dataframe tbody tr th:only-of-type {\n",
       "        vertical-align: middle;\n",
       "    }\n",
       "\n",
       "    .dataframe tbody tr th {\n",
       "        vertical-align: top;\n",
       "    }\n",
       "\n",
       "    .dataframe thead th {\n",
       "        text-align: right;\n",
       "    }\n",
       "</style>\n",
       "<table border=\"1\" class=\"dataframe\">\n",
       "  <thead>\n",
       "    <tr style=\"text-align: right;\">\n",
       "      <th></th>\n",
       "      <th>1stFlrSF</th>\n",
       "      <th>2ndFlrSF</th>\n",
       "      <th>3SsnPorch</th>\n",
       "      <th>BedroomAbvGr</th>\n",
       "      <th>BsmtFinSF1</th>\n",
       "      <th>BsmtFinSF2</th>\n",
       "      <th>BsmtUnfSF</th>\n",
       "      <th>EnclosedPorch</th>\n",
       "      <th>Fireplaces</th>\n",
       "      <th>FullBath</th>\n",
       "      <th>GarageArea</th>\n",
       "      <th>GarageCars</th>\n",
       "      <th>GarageYrBlt</th>\n",
       "      <th>GrLivArea</th>\n",
       "      <th>HalfBath</th>\n",
       "      <th>KitchenAbvGr</th>\n",
       "      <th>LotArea</th>\n",
       "      <th>LotFrontage</th>\n",
       "      <th>LowQualFinSF</th>\n",
       "      <th>MSSubClass</th>\n",
       "      <th>MasVnrArea</th>\n",
       "      <th>MiscVal</th>\n",
       "      <th>MoSold</th>\n",
       "      <th>OpenPorchSF</th>\n",
       "      <th>OverallCond</th>\n",
       "      <th>OverallQual</th>\n",
       "      <th>PoolArea</th>\n",
       "      <th>ScreenPorch</th>\n",
       "      <th>TotRmsAbvGrd</th>\n",
       "      <th>TotalBsmtSF</th>\n",
       "      <th>WoodDeckSF</th>\n",
       "      <th>YearBuilt</th>\n",
       "      <th>YearRemodAdd</th>\n",
       "      <th>YrSold</th>\n",
       "      <th>BldgType_1Fam</th>\n",
       "      <th>BldgType_2fmCon</th>\n",
       "      <th>BldgType_Duplex</th>\n",
       "      <th>BldgType_Twnhs</th>\n",
       "      <th>BldgType_TwnhsE</th>\n",
       "      <th>BsmtExposure_Av</th>\n",
       "      <th>BsmtExposure_Gd</th>\n",
       "      <th>BsmtExposure_Mn</th>\n",
       "      <th>BsmtExposure_No</th>\n",
       "      <th>BsmtExposure_NoBsmt</th>\n",
       "      <th>BsmtFinType1_ALQ</th>\n",
       "      <th>BsmtFinType1_BLQ</th>\n",
       "      <th>BsmtFinType1_GLQ</th>\n",
       "      <th>BsmtFinType1_LwQ</th>\n",
       "      <th>BsmtFinType1_NoBsmt</th>\n",
       "      <th>BsmtFinType1_Rec</th>\n",
       "      <th>BsmtFinType1_Unf</th>\n",
       "      <th>BsmtFullBath_0</th>\n",
       "      <th>BsmtFullBath_1</th>\n",
       "      <th>BsmtFullBath_2</th>\n",
       "      <th>BsmtFullBath_3</th>\n",
       "      <th>BsmtFullBath_0</th>\n",
       "      <th>BsmtHalfBath_0</th>\n",
       "      <th>BsmtHalfBath_1</th>\n",
       "      <th>BsmtHalfBath_2</th>\n",
       "      <th>BsmtHalfBath_0</th>\n",
       "      <th>BsmtQual_Ex</th>\n",
       "      <th>BsmtQual_Fa</th>\n",
       "      <th>BsmtQual_Gd</th>\n",
       "      <th>BsmtQual_NoBsmt</th>\n",
       "      <th>BsmtQual_TA</th>\n",
       "      <th>CentralAir_N</th>\n",
       "      <th>CentralAir_Y</th>\n",
       "      <th>Condition1_Artery</th>\n",
       "      <th>Condition1_Feedr</th>\n",
       "      <th>Condition1_Norm</th>\n",
       "      <th>Condition1_PosA</th>\n",
       "      <th>Condition1_PosN</th>\n",
       "      <th>Condition1_RRAe</th>\n",
       "      <th>Condition1_RRAn</th>\n",
       "      <th>Condition1_RRNe</th>\n",
       "      <th>Condition1_RRNn</th>\n",
       "      <th>Condition2_Artery</th>\n",
       "      <th>Condition2_Feedr</th>\n",
       "      <th>Condition2_Norm</th>\n",
       "      <th>Condition2_PosA</th>\n",
       "      <th>Condition2_PosN</th>\n",
       "      <th>Condition2_RRAe</th>\n",
       "      <th>Condition2_RRAn</th>\n",
       "      <th>Condition2_RRNn</th>\n",
       "      <th>Electrical_FuseA</th>\n",
       "      <th>Electrical_FuseF</th>\n",
       "      <th>Electrical_FuseP</th>\n",
       "      <th>Electrical_Mix</th>\n",
       "      <th>Electrical_SBrkr</th>\n",
       "      <th>ExterCond_Ex</th>\n",
       "      <th>ExterCond_Fa</th>\n",
       "      <th>ExterCond_Gd</th>\n",
       "      <th>ExterCond_Po</th>\n",
       "      <th>ExterCond_TA</th>\n",
       "      <th>ExterQual_Ex</th>\n",
       "      <th>ExterQual_Fa</th>\n",
       "      <th>ExterQual_Gd</th>\n",
       "      <th>ExterQual_TA</th>\n",
       "      <th>Exterior1st_AsbShng</th>\n",
       "      <th>Exterior1st_AsphShn</th>\n",
       "      <th>Exterior1st_BrkComm</th>\n",
       "      <th>Exterior1st_BrkFace</th>\n",
       "      <th>Exterior1st_CBlock</th>\n",
       "      <th>Exterior1st_CemntBd</th>\n",
       "      <th>Exterior1st_HdBoard</th>\n",
       "      <th>Exterior1st_ImStucc</th>\n",
       "      <th>Exterior1st_MetalSd</th>\n",
       "      <th>Exterior1st_Plywood</th>\n",
       "      <th>Exterior1st_Stone</th>\n",
       "      <th>Exterior1st_Stucco</th>\n",
       "      <th>Exterior1st_VinylSd</th>\n",
       "      <th>Exterior1st_Wd Sdng</th>\n",
       "      <th>Exterior1st_WdShing</th>\n",
       "      <th>Exterior2nd_AsbShng</th>\n",
       "      <th>Exterior2nd_AsphShn</th>\n",
       "      <th>Exterior2nd_Brk Cmn</th>\n",
       "      <th>Exterior2nd_BrkFace</th>\n",
       "      <th>Exterior2nd_CBlock</th>\n",
       "      <th>Exterior2nd_CmentBd</th>\n",
       "      <th>Exterior2nd_HdBoard</th>\n",
       "      <th>Exterior2nd_ImStucc</th>\n",
       "      <th>Exterior2nd_MetalSd</th>\n",
       "      <th>Exterior2nd_Other</th>\n",
       "      <th>Exterior2nd_Plywood</th>\n",
       "      <th>Exterior2nd_Stone</th>\n",
       "      <th>Exterior2nd_Stucco</th>\n",
       "      <th>Exterior2nd_VinylSd</th>\n",
       "      <th>Exterior2nd_Wd Sdng</th>\n",
       "      <th>Exterior2nd_Wd Shng</th>\n",
       "      <th>FireplaceQu_0</th>\n",
       "      <th>FireplaceQu_Ex</th>\n",
       "      <th>FireplaceQu_Fa</th>\n",
       "      <th>FireplaceQu_Gd</th>\n",
       "      <th>FireplaceQu_Po</th>\n",
       "      <th>FireplaceQu_TA</th>\n",
       "      <th>Foundation_BrkTil</th>\n",
       "      <th>Foundation_CBlock</th>\n",
       "      <th>Foundation_PConc</th>\n",
       "      <th>Foundation_Slab</th>\n",
       "      <th>Foundation_Stone</th>\n",
       "      <th>Foundation_Wood</th>\n",
       "      <th>Functional_Maj1</th>\n",
       "      <th>Functional_Maj2</th>\n",
       "      <th>Functional_Min1</th>\n",
       "      <th>Functional_Min2</th>\n",
       "      <th>Functional_Mod</th>\n",
       "      <th>Functional_Sev</th>\n",
       "      <th>Functional_Typ</th>\n",
       "      <th>GarageFinish_Fin</th>\n",
       "      <th>GarageFinish_Nog</th>\n",
       "      <th>GarageFinish_RFn</th>\n",
       "      <th>GarageFinish_Unf</th>\n",
       "      <th>GarageType_2Types</th>\n",
       "      <th>GarageType_Attchd</th>\n",
       "      <th>GarageType_Basment</th>\n",
       "      <th>GarageType_BuiltIn</th>\n",
       "      <th>GarageType_CarPort</th>\n",
       "      <th>GarageType_Detchd</th>\n",
       "      <th>GarageType_Nog</th>\n",
       "      <th>Heating_Floor</th>\n",
       "      <th>Heating_GasA</th>\n",
       "      <th>Heating_GasW</th>\n",
       "      <th>Heating_Grav</th>\n",
       "      <th>Heating_OthW</th>\n",
       "      <th>Heating_Wall</th>\n",
       "      <th>HeatingQC_Ex</th>\n",
       "      <th>HeatingQC_Fa</th>\n",
       "      <th>HeatingQC_Gd</th>\n",
       "      <th>HeatingQC_Po</th>\n",
       "      <th>HeatingQC_TA</th>\n",
       "      <th>HouseStyle_1.5Fin</th>\n",
       "      <th>HouseStyle_1.5Unf</th>\n",
       "      <th>HouseStyle_1Story</th>\n",
       "      <th>HouseStyle_2.5Fin</th>\n",
       "      <th>HouseStyle_2.5Unf</th>\n",
       "      <th>HouseStyle_2Story</th>\n",
       "      <th>HouseStyle_SFoyer</th>\n",
       "      <th>HouseStyle_SLvl</th>\n",
       "      <th>KitchenQual_Ex</th>\n",
       "      <th>KitchenQual_Fa</th>\n",
       "      <th>KitchenQual_Gd</th>\n",
       "      <th>KitchenQual_TA</th>\n",
       "      <th>LandContour_Bnk</th>\n",
       "      <th>LandContour_HLS</th>\n",
       "      <th>LandContour_Low</th>\n",
       "      <th>LandContour_Lvl</th>\n",
       "      <th>LandSlope_Gtl</th>\n",
       "      <th>LandSlope_Mod</th>\n",
       "      <th>LandSlope_Sev</th>\n",
       "      <th>LotConfig_Corner</th>\n",
       "      <th>LotConfig_CulDSac</th>\n",
       "      <th>LotConfig_FR2</th>\n",
       "      <th>LotConfig_FR3</th>\n",
       "      <th>LotConfig_Inside</th>\n",
       "      <th>LotShape_IR1</th>\n",
       "      <th>LotShape_IR2</th>\n",
       "      <th>LotShape_IR3</th>\n",
       "      <th>LotShape_Reg</th>\n",
       "      <th>MSZoning_C (all)</th>\n",
       "      <th>MSZoning_FV</th>\n",
       "      <th>MSZoning_RH</th>\n",
       "      <th>MSZoning_RL</th>\n",
       "      <th>MSZoning_RM</th>\n",
       "      <th>MasVnrType_BrkCmn</th>\n",
       "      <th>MasVnrType_BrkFace</th>\n",
       "      <th>MasVnrType_None</th>\n",
       "      <th>MasVnrType_Stone</th>\n",
       "      <th>Neighborhood_Blmngtn</th>\n",
       "      <th>Neighborhood_Blueste</th>\n",
       "      <th>Neighborhood_BrDale</th>\n",
       "      <th>Neighborhood_BrkSide</th>\n",
       "      <th>Neighborhood_ClearCr</th>\n",
       "      <th>Neighborhood_CollgCr</th>\n",
       "      <th>Neighborhood_Crawfor</th>\n",
       "      <th>Neighborhood_Edwards</th>\n",
       "      <th>Neighborhood_Gilbert</th>\n",
       "      <th>Neighborhood_IDOTRR</th>\n",
       "      <th>Neighborhood_MeadowV</th>\n",
       "      <th>Neighborhood_Mitchel</th>\n",
       "      <th>Neighborhood_NAmes</th>\n",
       "      <th>Neighborhood_NPkVill</th>\n",
       "      <th>Neighborhood_NWAmes</th>\n",
       "      <th>Neighborhood_NoRidge</th>\n",
       "      <th>Neighborhood_NridgHt</th>\n",
       "      <th>Neighborhood_OldTown</th>\n",
       "      <th>Neighborhood_SWISU</th>\n",
       "      <th>Neighborhood_Sawyer</th>\n",
       "      <th>Neighborhood_SawyerW</th>\n",
       "      <th>Neighborhood_Somerst</th>\n",
       "      <th>Neighborhood_StoneBr</th>\n",
       "      <th>Neighborhood_Timber</th>\n",
       "      <th>Neighborhood_Veenker</th>\n",
       "      <th>PavedDrive_N</th>\n",
       "      <th>PavedDrive_P</th>\n",
       "      <th>PavedDrive_Y</th>\n",
       "      <th>RoofMatl_ClyTile</th>\n",
       "      <th>RoofMatl_CompShg</th>\n",
       "      <th>RoofMatl_Membran</th>\n",
       "      <th>RoofMatl_Metal</th>\n",
       "      <th>RoofMatl_Roll</th>\n",
       "      <th>RoofMatl_Tar&amp;Grv</th>\n",
       "      <th>RoofMatl_WdShake</th>\n",
       "      <th>RoofMatl_WdShngl</th>\n",
       "      <th>RoofStyle_Flat</th>\n",
       "      <th>RoofStyle_Gable</th>\n",
       "      <th>RoofStyle_Gambrel</th>\n",
       "      <th>RoofStyle_Hip</th>\n",
       "      <th>RoofStyle_Mansard</th>\n",
       "      <th>RoofStyle_Shed</th>\n",
       "      <th>SaleCondition_Abnorml</th>\n",
       "      <th>SaleCondition_AdjLand</th>\n",
       "      <th>SaleCondition_Alloca</th>\n",
       "      <th>SaleCondition_Family</th>\n",
       "      <th>SaleCondition_Normal</th>\n",
       "      <th>SaleCondition_Partial</th>\n",
       "      <th>SaleType_COD</th>\n",
       "      <th>SaleType_CWD</th>\n",
       "      <th>SaleType_Con</th>\n",
       "      <th>SaleType_ConLD</th>\n",
       "      <th>SaleType_ConLI</th>\n",
       "      <th>SaleType_ConLw</th>\n",
       "      <th>SaleType_New</th>\n",
       "      <th>SaleType_Oth</th>\n",
       "      <th>SaleType_WD</th>\n",
       "      <th>Street_Grvl</th>\n",
       "      <th>Street_Pave</th>\n",
       "    </tr>\n",
       "  </thead>\n",
       "  <tbody>\n",
       "    <tr>\n",
       "      <th>0</th>\n",
       "      <td>856</td>\n",
       "      <td>854</td>\n",
       "      <td>0</td>\n",
       "      <td>3</td>\n",
       "      <td>706.0</td>\n",
       "      <td>0.0</td>\n",
       "      <td>150.0</td>\n",
       "      <td>0</td>\n",
       "      <td>0</td>\n",
       "      <td>2</td>\n",
       "      <td>548.0</td>\n",
       "      <td>2.0</td>\n",
       "      <td>2003.0</td>\n",
       "      <td>1710</td>\n",
       "      <td>1</td>\n",
       "      <td>1</td>\n",
       "      <td>8450</td>\n",
       "      <td>65.0</td>\n",
       "      <td>0</td>\n",
       "      <td>60</td>\n",
       "      <td>196.0</td>\n",
       "      <td>0</td>\n",
       "      <td>2</td>\n",
       "      <td>61</td>\n",
       "      <td>5</td>\n",
       "      <td>7</td>\n",
       "      <td>0</td>\n",
       "      <td>0</td>\n",
       "      <td>8</td>\n",
       "      <td>856.0</td>\n",
       "      <td>0</td>\n",
       "      <td>2003</td>\n",
       "      <td>2003</td>\n",
       "      <td>2008</td>\n",
       "      <td>1</td>\n",
       "      <td>0</td>\n",
       "      <td>0</td>\n",
       "      <td>0</td>\n",
       "      <td>0</td>\n",
       "      <td>0</td>\n",
       "      <td>0</td>\n",
       "      <td>0</td>\n",
       "      <td>1</td>\n",
       "      <td>0</td>\n",
       "      <td>0</td>\n",
       "      <td>0</td>\n",
       "      <td>1</td>\n",
       "      <td>0</td>\n",
       "      <td>0</td>\n",
       "      <td>0</td>\n",
       "      <td>0</td>\n",
       "      <td>0</td>\n",
       "      <td>1</td>\n",
       "      <td>0</td>\n",
       "      <td>0</td>\n",
       "      <td>0</td>\n",
       "      <td>1</td>\n",
       "      <td>0</td>\n",
       "      <td>0</td>\n",
       "      <td>0</td>\n",
       "      <td>0</td>\n",
       "      <td>0</td>\n",
       "      <td>1</td>\n",
       "      <td>0</td>\n",
       "      <td>0</td>\n",
       "      <td>0</td>\n",
       "      <td>1</td>\n",
       "      <td>0</td>\n",
       "      <td>0</td>\n",
       "      <td>1</td>\n",
       "      <td>0</td>\n",
       "      <td>0</td>\n",
       "      <td>0</td>\n",
       "      <td>0</td>\n",
       "      <td>0</td>\n",
       "      <td>0</td>\n",
       "      <td>0</td>\n",
       "      <td>0</td>\n",
       "      <td>1</td>\n",
       "      <td>0</td>\n",
       "      <td>0</td>\n",
       "      <td>0</td>\n",
       "      <td>0</td>\n",
       "      <td>0</td>\n",
       "      <td>0</td>\n",
       "      <td>0</td>\n",
       "      <td>0</td>\n",
       "      <td>0</td>\n",
       "      <td>1</td>\n",
       "      <td>0</td>\n",
       "      <td>0</td>\n",
       "      <td>0</td>\n",
       "      <td>0</td>\n",
       "      <td>1</td>\n",
       "      <td>0</td>\n",
       "      <td>0</td>\n",
       "      <td>1</td>\n",
       "      <td>0</td>\n",
       "      <td>0</td>\n",
       "      <td>0</td>\n",
       "      <td>0</td>\n",
       "      <td>0</td>\n",
       "      <td>0</td>\n",
       "      <td>0</td>\n",
       "      <td>0</td>\n",
       "      <td>0</td>\n",
       "      <td>0</td>\n",
       "      <td>0</td>\n",
       "      <td>0</td>\n",
       "      <td>0</td>\n",
       "      <td>1</td>\n",
       "      <td>0</td>\n",
       "      <td>0</td>\n",
       "      <td>0</td>\n",
       "      <td>0</td>\n",
       "      <td>0</td>\n",
       "      <td>0</td>\n",
       "      <td>0</td>\n",
       "      <td>0</td>\n",
       "      <td>0</td>\n",
       "      <td>0</td>\n",
       "      <td>0</td>\n",
       "      <td>0</td>\n",
       "      <td>0</td>\n",
       "      <td>0</td>\n",
       "      <td>0</td>\n",
       "      <td>1</td>\n",
       "      <td>0</td>\n",
       "      <td>0</td>\n",
       "      <td>1</td>\n",
       "      <td>0</td>\n",
       "      <td>0</td>\n",
       "      <td>0</td>\n",
       "      <td>0</td>\n",
       "      <td>0</td>\n",
       "      <td>0</td>\n",
       "      <td>0</td>\n",
       "      <td>1</td>\n",
       "      <td>0</td>\n",
       "      <td>0</td>\n",
       "      <td>0</td>\n",
       "      <td>0</td>\n",
       "      <td>0</td>\n",
       "      <td>0</td>\n",
       "      <td>0</td>\n",
       "      <td>0</td>\n",
       "      <td>0</td>\n",
       "      <td>1</td>\n",
       "      <td>0</td>\n",
       "      <td>0</td>\n",
       "      <td>1</td>\n",
       "      <td>0</td>\n",
       "      <td>0</td>\n",
       "      <td>1</td>\n",
       "      <td>0</td>\n",
       "      <td>0</td>\n",
       "      <td>0</td>\n",
       "      <td>0</td>\n",
       "      <td>0</td>\n",
       "      <td>0</td>\n",
       "      <td>1</td>\n",
       "      <td>0</td>\n",
       "      <td>0</td>\n",
       "      <td>0</td>\n",
       "      <td>0</td>\n",
       "      <td>1</td>\n",
       "      <td>0</td>\n",
       "      <td>0</td>\n",
       "      <td>0</td>\n",
       "      <td>0</td>\n",
       "      <td>0</td>\n",
       "      <td>0</td>\n",
       "      <td>0</td>\n",
       "      <td>0</td>\n",
       "      <td>0</td>\n",
       "      <td>1</td>\n",
       "      <td>0</td>\n",
       "      <td>0</td>\n",
       "      <td>0</td>\n",
       "      <td>0</td>\n",
       "      <td>1</td>\n",
       "      <td>0</td>\n",
       "      <td>0</td>\n",
       "      <td>0</td>\n",
       "      <td>0</td>\n",
       "      <td>1</td>\n",
       "      <td>1</td>\n",
       "      <td>0</td>\n",
       "      <td>0</td>\n",
       "      <td>0</td>\n",
       "      <td>0</td>\n",
       "      <td>0</td>\n",
       "      <td>0</td>\n",
       "      <td>1</td>\n",
       "      <td>0</td>\n",
       "      <td>0</td>\n",
       "      <td>0</td>\n",
       "      <td>1</td>\n",
       "      <td>0</td>\n",
       "      <td>0</td>\n",
       "      <td>0</td>\n",
       "      <td>1</td>\n",
       "      <td>0</td>\n",
       "      <td>0</td>\n",
       "      <td>1</td>\n",
       "      <td>0</td>\n",
       "      <td>0</td>\n",
       "      <td>0</td>\n",
       "      <td>0</td>\n",
       "      <td>0</td>\n",
       "      <td>0</td>\n",
       "      <td>0</td>\n",
       "      <td>1</td>\n",
       "      <td>0</td>\n",
       "      <td>0</td>\n",
       "      <td>0</td>\n",
       "      <td>0</td>\n",
       "      <td>0</td>\n",
       "      <td>0</td>\n",
       "      <td>0</td>\n",
       "      <td>0</td>\n",
       "      <td>0</td>\n",
       "      <td>0</td>\n",
       "      <td>0</td>\n",
       "      <td>0</td>\n",
       "      <td>0</td>\n",
       "      <td>0</td>\n",
       "      <td>0</td>\n",
       "      <td>0</td>\n",
       "      <td>0</td>\n",
       "      <td>0</td>\n",
       "      <td>0</td>\n",
       "      <td>0</td>\n",
       "      <td>0</td>\n",
       "      <td>1</td>\n",
       "      <td>0</td>\n",
       "      <td>1</td>\n",
       "      <td>0</td>\n",
       "      <td>0</td>\n",
       "      <td>0</td>\n",
       "      <td>0</td>\n",
       "      <td>0</td>\n",
       "      <td>0</td>\n",
       "      <td>0</td>\n",
       "      <td>1</td>\n",
       "      <td>0</td>\n",
       "      <td>0</td>\n",
       "      <td>0</td>\n",
       "      <td>0</td>\n",
       "      <td>0</td>\n",
       "      <td>0</td>\n",
       "      <td>0</td>\n",
       "      <td>0</td>\n",
       "      <td>1</td>\n",
       "      <td>0</td>\n",
       "      <td>0</td>\n",
       "      <td>0</td>\n",
       "      <td>0</td>\n",
       "      <td>0</td>\n",
       "      <td>0</td>\n",
       "      <td>0</td>\n",
       "      <td>0</td>\n",
       "      <td>0</td>\n",
       "      <td>1</td>\n",
       "      <td>0</td>\n",
       "      <td>1</td>\n",
       "    </tr>\n",
       "    <tr>\n",
       "      <th>1</th>\n",
       "      <td>1262</td>\n",
       "      <td>0</td>\n",
       "      <td>0</td>\n",
       "      <td>3</td>\n",
       "      <td>978.0</td>\n",
       "      <td>0.0</td>\n",
       "      <td>284.0</td>\n",
       "      <td>0</td>\n",
       "      <td>1</td>\n",
       "      <td>2</td>\n",
       "      <td>460.0</td>\n",
       "      <td>2.0</td>\n",
       "      <td>1976.0</td>\n",
       "      <td>1262</td>\n",
       "      <td>0</td>\n",
       "      <td>1</td>\n",
       "      <td>9600</td>\n",
       "      <td>80.0</td>\n",
       "      <td>0</td>\n",
       "      <td>20</td>\n",
       "      <td>0.0</td>\n",
       "      <td>0</td>\n",
       "      <td>5</td>\n",
       "      <td>0</td>\n",
       "      <td>8</td>\n",
       "      <td>6</td>\n",
       "      <td>0</td>\n",
       "      <td>0</td>\n",
       "      <td>6</td>\n",
       "      <td>1262.0</td>\n",
       "      <td>298</td>\n",
       "      <td>1976</td>\n",
       "      <td>1976</td>\n",
       "      <td>2007</td>\n",
       "      <td>1</td>\n",
       "      <td>0</td>\n",
       "      <td>0</td>\n",
       "      <td>0</td>\n",
       "      <td>0</td>\n",
       "      <td>0</td>\n",
       "      <td>1</td>\n",
       "      <td>0</td>\n",
       "      <td>0</td>\n",
       "      <td>0</td>\n",
       "      <td>1</td>\n",
       "      <td>0</td>\n",
       "      <td>0</td>\n",
       "      <td>0</td>\n",
       "      <td>0</td>\n",
       "      <td>0</td>\n",
       "      <td>0</td>\n",
       "      <td>1</td>\n",
       "      <td>0</td>\n",
       "      <td>0</td>\n",
       "      <td>0</td>\n",
       "      <td>0</td>\n",
       "      <td>0</td>\n",
       "      <td>1</td>\n",
       "      <td>0</td>\n",
       "      <td>0</td>\n",
       "      <td>0</td>\n",
       "      <td>0</td>\n",
       "      <td>1</td>\n",
       "      <td>0</td>\n",
       "      <td>0</td>\n",
       "      <td>0</td>\n",
       "      <td>1</td>\n",
       "      <td>0</td>\n",
       "      <td>1</td>\n",
       "      <td>0</td>\n",
       "      <td>0</td>\n",
       "      <td>0</td>\n",
       "      <td>0</td>\n",
       "      <td>0</td>\n",
       "      <td>0</td>\n",
       "      <td>0</td>\n",
       "      <td>0</td>\n",
       "      <td>0</td>\n",
       "      <td>1</td>\n",
       "      <td>0</td>\n",
       "      <td>0</td>\n",
       "      <td>0</td>\n",
       "      <td>0</td>\n",
       "      <td>0</td>\n",
       "      <td>0</td>\n",
       "      <td>0</td>\n",
       "      <td>0</td>\n",
       "      <td>0</td>\n",
       "      <td>1</td>\n",
       "      <td>0</td>\n",
       "      <td>0</td>\n",
       "      <td>0</td>\n",
       "      <td>0</td>\n",
       "      <td>1</td>\n",
       "      <td>0</td>\n",
       "      <td>0</td>\n",
       "      <td>0</td>\n",
       "      <td>1</td>\n",
       "      <td>0</td>\n",
       "      <td>0</td>\n",
       "      <td>0</td>\n",
       "      <td>0</td>\n",
       "      <td>0</td>\n",
       "      <td>0</td>\n",
       "      <td>0</td>\n",
       "      <td>0</td>\n",
       "      <td>1</td>\n",
       "      <td>0</td>\n",
       "      <td>0</td>\n",
       "      <td>0</td>\n",
       "      <td>0</td>\n",
       "      <td>0</td>\n",
       "      <td>0</td>\n",
       "      <td>0</td>\n",
       "      <td>0</td>\n",
       "      <td>0</td>\n",
       "      <td>0</td>\n",
       "      <td>0</td>\n",
       "      <td>0</td>\n",
       "      <td>0</td>\n",
       "      <td>0</td>\n",
       "      <td>1</td>\n",
       "      <td>0</td>\n",
       "      <td>0</td>\n",
       "      <td>0</td>\n",
       "      <td>0</td>\n",
       "      <td>0</td>\n",
       "      <td>0</td>\n",
       "      <td>0</td>\n",
       "      <td>0</td>\n",
       "      <td>0</td>\n",
       "      <td>0</td>\n",
       "      <td>0</td>\n",
       "      <td>0</td>\n",
       "      <td>1</td>\n",
       "      <td>0</td>\n",
       "      <td>1</td>\n",
       "      <td>0</td>\n",
       "      <td>0</td>\n",
       "      <td>0</td>\n",
       "      <td>0</td>\n",
       "      <td>0</td>\n",
       "      <td>0</td>\n",
       "      <td>0</td>\n",
       "      <td>0</td>\n",
       "      <td>0</td>\n",
       "      <td>0</td>\n",
       "      <td>1</td>\n",
       "      <td>0</td>\n",
       "      <td>0</td>\n",
       "      <td>1</td>\n",
       "      <td>0</td>\n",
       "      <td>0</td>\n",
       "      <td>1</td>\n",
       "      <td>0</td>\n",
       "      <td>0</td>\n",
       "      <td>0</td>\n",
       "      <td>0</td>\n",
       "      <td>0</td>\n",
       "      <td>0</td>\n",
       "      <td>1</td>\n",
       "      <td>0</td>\n",
       "      <td>0</td>\n",
       "      <td>0</td>\n",
       "      <td>0</td>\n",
       "      <td>1</td>\n",
       "      <td>0</td>\n",
       "      <td>0</td>\n",
       "      <td>0</td>\n",
       "      <td>0</td>\n",
       "      <td>0</td>\n",
       "      <td>0</td>\n",
       "      <td>1</td>\n",
       "      <td>0</td>\n",
       "      <td>0</td>\n",
       "      <td>0</td>\n",
       "      <td>0</td>\n",
       "      <td>0</td>\n",
       "      <td>0</td>\n",
       "      <td>0</td>\n",
       "      <td>0</td>\n",
       "      <td>1</td>\n",
       "      <td>0</td>\n",
       "      <td>0</td>\n",
       "      <td>0</td>\n",
       "      <td>1</td>\n",
       "      <td>1</td>\n",
       "      <td>0</td>\n",
       "      <td>0</td>\n",
       "      <td>0</td>\n",
       "      <td>0</td>\n",
       "      <td>1</td>\n",
       "      <td>0</td>\n",
       "      <td>0</td>\n",
       "      <td>0</td>\n",
       "      <td>0</td>\n",
       "      <td>0</td>\n",
       "      <td>1</td>\n",
       "      <td>0</td>\n",
       "      <td>0</td>\n",
       "      <td>0</td>\n",
       "      <td>1</td>\n",
       "      <td>0</td>\n",
       "      <td>0</td>\n",
       "      <td>0</td>\n",
       "      <td>1</td>\n",
       "      <td>0</td>\n",
       "      <td>0</td>\n",
       "      <td>0</td>\n",
       "      <td>0</td>\n",
       "      <td>0</td>\n",
       "      <td>0</td>\n",
       "      <td>0</td>\n",
       "      <td>0</td>\n",
       "      <td>0</td>\n",
       "      <td>0</td>\n",
       "      <td>0</td>\n",
       "      <td>0</td>\n",
       "      <td>0</td>\n",
       "      <td>0</td>\n",
       "      <td>0</td>\n",
       "      <td>0</td>\n",
       "      <td>0</td>\n",
       "      <td>0</td>\n",
       "      <td>0</td>\n",
       "      <td>0</td>\n",
       "      <td>0</td>\n",
       "      <td>0</td>\n",
       "      <td>0</td>\n",
       "      <td>0</td>\n",
       "      <td>0</td>\n",
       "      <td>1</td>\n",
       "      <td>0</td>\n",
       "      <td>0</td>\n",
       "      <td>1</td>\n",
       "      <td>0</td>\n",
       "      <td>1</td>\n",
       "      <td>0</td>\n",
       "      <td>0</td>\n",
       "      <td>0</td>\n",
       "      <td>0</td>\n",
       "      <td>0</td>\n",
       "      <td>0</td>\n",
       "      <td>0</td>\n",
       "      <td>1</td>\n",
       "      <td>0</td>\n",
       "      <td>0</td>\n",
       "      <td>0</td>\n",
       "      <td>0</td>\n",
       "      <td>0</td>\n",
       "      <td>0</td>\n",
       "      <td>0</td>\n",
       "      <td>0</td>\n",
       "      <td>1</td>\n",
       "      <td>0</td>\n",
       "      <td>0</td>\n",
       "      <td>0</td>\n",
       "      <td>0</td>\n",
       "      <td>0</td>\n",
       "      <td>0</td>\n",
       "      <td>0</td>\n",
       "      <td>0</td>\n",
       "      <td>0</td>\n",
       "      <td>1</td>\n",
       "      <td>0</td>\n",
       "      <td>1</td>\n",
       "    </tr>\n",
       "    <tr>\n",
       "      <th>2</th>\n",
       "      <td>920</td>\n",
       "      <td>866</td>\n",
       "      <td>0</td>\n",
       "      <td>3</td>\n",
       "      <td>486.0</td>\n",
       "      <td>0.0</td>\n",
       "      <td>434.0</td>\n",
       "      <td>0</td>\n",
       "      <td>1</td>\n",
       "      <td>2</td>\n",
       "      <td>608.0</td>\n",
       "      <td>2.0</td>\n",
       "      <td>2001.0</td>\n",
       "      <td>1786</td>\n",
       "      <td>1</td>\n",
       "      <td>1</td>\n",
       "      <td>11250</td>\n",
       "      <td>68.0</td>\n",
       "      <td>0</td>\n",
       "      <td>60</td>\n",
       "      <td>162.0</td>\n",
       "      <td>0</td>\n",
       "      <td>9</td>\n",
       "      <td>42</td>\n",
       "      <td>5</td>\n",
       "      <td>7</td>\n",
       "      <td>0</td>\n",
       "      <td>0</td>\n",
       "      <td>6</td>\n",
       "      <td>920.0</td>\n",
       "      <td>0</td>\n",
       "      <td>2001</td>\n",
       "      <td>2002</td>\n",
       "      <td>2008</td>\n",
       "      <td>1</td>\n",
       "      <td>0</td>\n",
       "      <td>0</td>\n",
       "      <td>0</td>\n",
       "      <td>0</td>\n",
       "      <td>0</td>\n",
       "      <td>0</td>\n",
       "      <td>1</td>\n",
       "      <td>0</td>\n",
       "      <td>0</td>\n",
       "      <td>0</td>\n",
       "      <td>0</td>\n",
       "      <td>1</td>\n",
       "      <td>0</td>\n",
       "      <td>0</td>\n",
       "      <td>0</td>\n",
       "      <td>0</td>\n",
       "      <td>0</td>\n",
       "      <td>1</td>\n",
       "      <td>0</td>\n",
       "      <td>0</td>\n",
       "      <td>0</td>\n",
       "      <td>1</td>\n",
       "      <td>0</td>\n",
       "      <td>0</td>\n",
       "      <td>0</td>\n",
       "      <td>0</td>\n",
       "      <td>0</td>\n",
       "      <td>1</td>\n",
       "      <td>0</td>\n",
       "      <td>0</td>\n",
       "      <td>0</td>\n",
       "      <td>1</td>\n",
       "      <td>0</td>\n",
       "      <td>0</td>\n",
       "      <td>1</td>\n",
       "      <td>0</td>\n",
       "      <td>0</td>\n",
       "      <td>0</td>\n",
       "      <td>0</td>\n",
       "      <td>0</td>\n",
       "      <td>0</td>\n",
       "      <td>0</td>\n",
       "      <td>0</td>\n",
       "      <td>1</td>\n",
       "      <td>0</td>\n",
       "      <td>0</td>\n",
       "      <td>0</td>\n",
       "      <td>0</td>\n",
       "      <td>0</td>\n",
       "      <td>0</td>\n",
       "      <td>0</td>\n",
       "      <td>0</td>\n",
       "      <td>0</td>\n",
       "      <td>1</td>\n",
       "      <td>0</td>\n",
       "      <td>0</td>\n",
       "      <td>0</td>\n",
       "      <td>0</td>\n",
       "      <td>1</td>\n",
       "      <td>0</td>\n",
       "      <td>0</td>\n",
       "      <td>1</td>\n",
       "      <td>0</td>\n",
       "      <td>0</td>\n",
       "      <td>0</td>\n",
       "      <td>0</td>\n",
       "      <td>0</td>\n",
       "      <td>0</td>\n",
       "      <td>0</td>\n",
       "      <td>0</td>\n",
       "      <td>0</td>\n",
       "      <td>0</td>\n",
       "      <td>0</td>\n",
       "      <td>0</td>\n",
       "      <td>0</td>\n",
       "      <td>1</td>\n",
       "      <td>0</td>\n",
       "      <td>0</td>\n",
       "      <td>0</td>\n",
       "      <td>0</td>\n",
       "      <td>0</td>\n",
       "      <td>0</td>\n",
       "      <td>0</td>\n",
       "      <td>0</td>\n",
       "      <td>0</td>\n",
       "      <td>0</td>\n",
       "      <td>0</td>\n",
       "      <td>0</td>\n",
       "      <td>0</td>\n",
       "      <td>0</td>\n",
       "      <td>0</td>\n",
       "      <td>1</td>\n",
       "      <td>0</td>\n",
       "      <td>0</td>\n",
       "      <td>0</td>\n",
       "      <td>0</td>\n",
       "      <td>0</td>\n",
       "      <td>0</td>\n",
       "      <td>0</td>\n",
       "      <td>1</td>\n",
       "      <td>0</td>\n",
       "      <td>0</td>\n",
       "      <td>1</td>\n",
       "      <td>0</td>\n",
       "      <td>0</td>\n",
       "      <td>0</td>\n",
       "      <td>0</td>\n",
       "      <td>0</td>\n",
       "      <td>0</td>\n",
       "      <td>0</td>\n",
       "      <td>0</td>\n",
       "      <td>0</td>\n",
       "      <td>1</td>\n",
       "      <td>0</td>\n",
       "      <td>0</td>\n",
       "      <td>1</td>\n",
       "      <td>0</td>\n",
       "      <td>0</td>\n",
       "      <td>1</td>\n",
       "      <td>0</td>\n",
       "      <td>0</td>\n",
       "      <td>0</td>\n",
       "      <td>0</td>\n",
       "      <td>0</td>\n",
       "      <td>0</td>\n",
       "      <td>1</td>\n",
       "      <td>0</td>\n",
       "      <td>0</td>\n",
       "      <td>0</td>\n",
       "      <td>0</td>\n",
       "      <td>1</td>\n",
       "      <td>0</td>\n",
       "      <td>0</td>\n",
       "      <td>0</td>\n",
       "      <td>0</td>\n",
       "      <td>0</td>\n",
       "      <td>0</td>\n",
       "      <td>0</td>\n",
       "      <td>0</td>\n",
       "      <td>0</td>\n",
       "      <td>1</td>\n",
       "      <td>0</td>\n",
       "      <td>0</td>\n",
       "      <td>0</td>\n",
       "      <td>0</td>\n",
       "      <td>1</td>\n",
       "      <td>0</td>\n",
       "      <td>0</td>\n",
       "      <td>0</td>\n",
       "      <td>0</td>\n",
       "      <td>1</td>\n",
       "      <td>1</td>\n",
       "      <td>0</td>\n",
       "      <td>0</td>\n",
       "      <td>0</td>\n",
       "      <td>0</td>\n",
       "      <td>0</td>\n",
       "      <td>0</td>\n",
       "      <td>1</td>\n",
       "      <td>1</td>\n",
       "      <td>0</td>\n",
       "      <td>0</td>\n",
       "      <td>0</td>\n",
       "      <td>0</td>\n",
       "      <td>0</td>\n",
       "      <td>0</td>\n",
       "      <td>1</td>\n",
       "      <td>0</td>\n",
       "      <td>0</td>\n",
       "      <td>1</td>\n",
       "      <td>0</td>\n",
       "      <td>0</td>\n",
       "      <td>0</td>\n",
       "      <td>0</td>\n",
       "      <td>0</td>\n",
       "      <td>0</td>\n",
       "      <td>0</td>\n",
       "      <td>1</td>\n",
       "      <td>0</td>\n",
       "      <td>0</td>\n",
       "      <td>0</td>\n",
       "      <td>0</td>\n",
       "      <td>0</td>\n",
       "      <td>0</td>\n",
       "      <td>0</td>\n",
       "      <td>0</td>\n",
       "      <td>0</td>\n",
       "      <td>0</td>\n",
       "      <td>0</td>\n",
       "      <td>0</td>\n",
       "      <td>0</td>\n",
       "      <td>0</td>\n",
       "      <td>0</td>\n",
       "      <td>0</td>\n",
       "      <td>0</td>\n",
       "      <td>0</td>\n",
       "      <td>0</td>\n",
       "      <td>0</td>\n",
       "      <td>0</td>\n",
       "      <td>1</td>\n",
       "      <td>0</td>\n",
       "      <td>1</td>\n",
       "      <td>0</td>\n",
       "      <td>0</td>\n",
       "      <td>0</td>\n",
       "      <td>0</td>\n",
       "      <td>0</td>\n",
       "      <td>0</td>\n",
       "      <td>0</td>\n",
       "      <td>1</td>\n",
       "      <td>0</td>\n",
       "      <td>0</td>\n",
       "      <td>0</td>\n",
       "      <td>0</td>\n",
       "      <td>0</td>\n",
       "      <td>0</td>\n",
       "      <td>0</td>\n",
       "      <td>0</td>\n",
       "      <td>1</td>\n",
       "      <td>0</td>\n",
       "      <td>0</td>\n",
       "      <td>0</td>\n",
       "      <td>0</td>\n",
       "      <td>0</td>\n",
       "      <td>0</td>\n",
       "      <td>0</td>\n",
       "      <td>0</td>\n",
       "      <td>0</td>\n",
       "      <td>1</td>\n",
       "      <td>0</td>\n",
       "      <td>1</td>\n",
       "    </tr>\n",
       "    <tr>\n",
       "      <th>3</th>\n",
       "      <td>961</td>\n",
       "      <td>756</td>\n",
       "      <td>0</td>\n",
       "      <td>3</td>\n",
       "      <td>216.0</td>\n",
       "      <td>0.0</td>\n",
       "      <td>540.0</td>\n",
       "      <td>272</td>\n",
       "      <td>1</td>\n",
       "      <td>1</td>\n",
       "      <td>642.0</td>\n",
       "      <td>3.0</td>\n",
       "      <td>1998.0</td>\n",
       "      <td>1717</td>\n",
       "      <td>0</td>\n",
       "      <td>1</td>\n",
       "      <td>9550</td>\n",
       "      <td>60.0</td>\n",
       "      <td>0</td>\n",
       "      <td>70</td>\n",
       "      <td>0.0</td>\n",
       "      <td>0</td>\n",
       "      <td>2</td>\n",
       "      <td>35</td>\n",
       "      <td>5</td>\n",
       "      <td>7</td>\n",
       "      <td>0</td>\n",
       "      <td>0</td>\n",
       "      <td>7</td>\n",
       "      <td>756.0</td>\n",
       "      <td>0</td>\n",
       "      <td>1915</td>\n",
       "      <td>1970</td>\n",
       "      <td>2006</td>\n",
       "      <td>1</td>\n",
       "      <td>0</td>\n",
       "      <td>0</td>\n",
       "      <td>0</td>\n",
       "      <td>0</td>\n",
       "      <td>0</td>\n",
       "      <td>0</td>\n",
       "      <td>0</td>\n",
       "      <td>1</td>\n",
       "      <td>0</td>\n",
       "      <td>1</td>\n",
       "      <td>0</td>\n",
       "      <td>0</td>\n",
       "      <td>0</td>\n",
       "      <td>0</td>\n",
       "      <td>0</td>\n",
       "      <td>0</td>\n",
       "      <td>0</td>\n",
       "      <td>1</td>\n",
       "      <td>0</td>\n",
       "      <td>0</td>\n",
       "      <td>0</td>\n",
       "      <td>1</td>\n",
       "      <td>0</td>\n",
       "      <td>0</td>\n",
       "      <td>0</td>\n",
       "      <td>0</td>\n",
       "      <td>0</td>\n",
       "      <td>0</td>\n",
       "      <td>0</td>\n",
       "      <td>1</td>\n",
       "      <td>0</td>\n",
       "      <td>1</td>\n",
       "      <td>0</td>\n",
       "      <td>0</td>\n",
       "      <td>1</td>\n",
       "      <td>0</td>\n",
       "      <td>0</td>\n",
       "      <td>0</td>\n",
       "      <td>0</td>\n",
       "      <td>0</td>\n",
       "      <td>0</td>\n",
       "      <td>0</td>\n",
       "      <td>0</td>\n",
       "      <td>1</td>\n",
       "      <td>0</td>\n",
       "      <td>0</td>\n",
       "      <td>0</td>\n",
       "      <td>0</td>\n",
       "      <td>0</td>\n",
       "      <td>0</td>\n",
       "      <td>0</td>\n",
       "      <td>0</td>\n",
       "      <td>0</td>\n",
       "      <td>1</td>\n",
       "      <td>0</td>\n",
       "      <td>0</td>\n",
       "      <td>0</td>\n",
       "      <td>0</td>\n",
       "      <td>1</td>\n",
       "      <td>0</td>\n",
       "      <td>0</td>\n",
       "      <td>0</td>\n",
       "      <td>1</td>\n",
       "      <td>0</td>\n",
       "      <td>0</td>\n",
       "      <td>0</td>\n",
       "      <td>0</td>\n",
       "      <td>0</td>\n",
       "      <td>0</td>\n",
       "      <td>0</td>\n",
       "      <td>0</td>\n",
       "      <td>0</td>\n",
       "      <td>0</td>\n",
       "      <td>0</td>\n",
       "      <td>0</td>\n",
       "      <td>0</td>\n",
       "      <td>1</td>\n",
       "      <td>0</td>\n",
       "      <td>0</td>\n",
       "      <td>0</td>\n",
       "      <td>0</td>\n",
       "      <td>0</td>\n",
       "      <td>0</td>\n",
       "      <td>0</td>\n",
       "      <td>0</td>\n",
       "      <td>0</td>\n",
       "      <td>0</td>\n",
       "      <td>0</td>\n",
       "      <td>0</td>\n",
       "      <td>0</td>\n",
       "      <td>0</td>\n",
       "      <td>0</td>\n",
       "      <td>0</td>\n",
       "      <td>1</td>\n",
       "      <td>0</td>\n",
       "      <td>0</td>\n",
       "      <td>0</td>\n",
       "      <td>1</td>\n",
       "      <td>0</td>\n",
       "      <td>0</td>\n",
       "      <td>1</td>\n",
       "      <td>0</td>\n",
       "      <td>0</td>\n",
       "      <td>0</td>\n",
       "      <td>0</td>\n",
       "      <td>0</td>\n",
       "      <td>0</td>\n",
       "      <td>0</td>\n",
       "      <td>0</td>\n",
       "      <td>0</td>\n",
       "      <td>0</td>\n",
       "      <td>0</td>\n",
       "      <td>1</td>\n",
       "      <td>0</td>\n",
       "      <td>0</td>\n",
       "      <td>0</td>\n",
       "      <td>1</td>\n",
       "      <td>0</td>\n",
       "      <td>0</td>\n",
       "      <td>0</td>\n",
       "      <td>0</td>\n",
       "      <td>0</td>\n",
       "      <td>1</td>\n",
       "      <td>0</td>\n",
       "      <td>0</td>\n",
       "      <td>1</td>\n",
       "      <td>0</td>\n",
       "      <td>0</td>\n",
       "      <td>0</td>\n",
       "      <td>0</td>\n",
       "      <td>0</td>\n",
       "      <td>0</td>\n",
       "      <td>1</td>\n",
       "      <td>0</td>\n",
       "      <td>0</td>\n",
       "      <td>0</td>\n",
       "      <td>0</td>\n",
       "      <td>0</td>\n",
       "      <td>0</td>\n",
       "      <td>0</td>\n",
       "      <td>1</td>\n",
       "      <td>0</td>\n",
       "      <td>0</td>\n",
       "      <td>0</td>\n",
       "      <td>0</td>\n",
       "      <td>1</td>\n",
       "      <td>0</td>\n",
       "      <td>0</td>\n",
       "      <td>0</td>\n",
       "      <td>0</td>\n",
       "      <td>1</td>\n",
       "      <td>1</td>\n",
       "      <td>0</td>\n",
       "      <td>0</td>\n",
       "      <td>1</td>\n",
       "      <td>0</td>\n",
       "      <td>0</td>\n",
       "      <td>0</td>\n",
       "      <td>0</td>\n",
       "      <td>1</td>\n",
       "      <td>0</td>\n",
       "      <td>0</td>\n",
       "      <td>0</td>\n",
       "      <td>0</td>\n",
       "      <td>0</td>\n",
       "      <td>0</td>\n",
       "      <td>1</td>\n",
       "      <td>0</td>\n",
       "      <td>0</td>\n",
       "      <td>0</td>\n",
       "      <td>1</td>\n",
       "      <td>0</td>\n",
       "      <td>0</td>\n",
       "      <td>0</td>\n",
       "      <td>0</td>\n",
       "      <td>0</td>\n",
       "      <td>0</td>\n",
       "      <td>0</td>\n",
       "      <td>1</td>\n",
       "      <td>0</td>\n",
       "      <td>0</td>\n",
       "      <td>0</td>\n",
       "      <td>0</td>\n",
       "      <td>0</td>\n",
       "      <td>0</td>\n",
       "      <td>0</td>\n",
       "      <td>0</td>\n",
       "      <td>0</td>\n",
       "      <td>0</td>\n",
       "      <td>0</td>\n",
       "      <td>0</td>\n",
       "      <td>0</td>\n",
       "      <td>0</td>\n",
       "      <td>0</td>\n",
       "      <td>0</td>\n",
       "      <td>0</td>\n",
       "      <td>0</td>\n",
       "      <td>0</td>\n",
       "      <td>0</td>\n",
       "      <td>1</td>\n",
       "      <td>0</td>\n",
       "      <td>1</td>\n",
       "      <td>0</td>\n",
       "      <td>0</td>\n",
       "      <td>0</td>\n",
       "      <td>0</td>\n",
       "      <td>0</td>\n",
       "      <td>0</td>\n",
       "      <td>0</td>\n",
       "      <td>1</td>\n",
       "      <td>0</td>\n",
       "      <td>0</td>\n",
       "      <td>0</td>\n",
       "      <td>0</td>\n",
       "      <td>1</td>\n",
       "      <td>0</td>\n",
       "      <td>0</td>\n",
       "      <td>0</td>\n",
       "      <td>0</td>\n",
       "      <td>0</td>\n",
       "      <td>0</td>\n",
       "      <td>0</td>\n",
       "      <td>0</td>\n",
       "      <td>0</td>\n",
       "      <td>0</td>\n",
       "      <td>0</td>\n",
       "      <td>0</td>\n",
       "      <td>0</td>\n",
       "      <td>1</td>\n",
       "      <td>0</td>\n",
       "      <td>1</td>\n",
       "    </tr>\n",
       "    <tr>\n",
       "      <th>4</th>\n",
       "      <td>1145</td>\n",
       "      <td>1053</td>\n",
       "      <td>0</td>\n",
       "      <td>4</td>\n",
       "      <td>655.0</td>\n",
       "      <td>0.0</td>\n",
       "      <td>490.0</td>\n",
       "      <td>0</td>\n",
       "      <td>1</td>\n",
       "      <td>2</td>\n",
       "      <td>836.0</td>\n",
       "      <td>3.0</td>\n",
       "      <td>2000.0</td>\n",
       "      <td>2198</td>\n",
       "      <td>1</td>\n",
       "      <td>1</td>\n",
       "      <td>14260</td>\n",
       "      <td>84.0</td>\n",
       "      <td>0</td>\n",
       "      <td>60</td>\n",
       "      <td>350.0</td>\n",
       "      <td>0</td>\n",
       "      <td>12</td>\n",
       "      <td>84</td>\n",
       "      <td>5</td>\n",
       "      <td>8</td>\n",
       "      <td>0</td>\n",
       "      <td>0</td>\n",
       "      <td>9</td>\n",
       "      <td>1145.0</td>\n",
       "      <td>192</td>\n",
       "      <td>2000</td>\n",
       "      <td>2000</td>\n",
       "      <td>2008</td>\n",
       "      <td>1</td>\n",
       "      <td>0</td>\n",
       "      <td>0</td>\n",
       "      <td>0</td>\n",
       "      <td>0</td>\n",
       "      <td>1</td>\n",
       "      <td>0</td>\n",
       "      <td>0</td>\n",
       "      <td>0</td>\n",
       "      <td>0</td>\n",
       "      <td>0</td>\n",
       "      <td>0</td>\n",
       "      <td>1</td>\n",
       "      <td>0</td>\n",
       "      <td>0</td>\n",
       "      <td>0</td>\n",
       "      <td>0</td>\n",
       "      <td>0</td>\n",
       "      <td>1</td>\n",
       "      <td>0</td>\n",
       "      <td>0</td>\n",
       "      <td>0</td>\n",
       "      <td>1</td>\n",
       "      <td>0</td>\n",
       "      <td>0</td>\n",
       "      <td>0</td>\n",
       "      <td>0</td>\n",
       "      <td>0</td>\n",
       "      <td>1</td>\n",
       "      <td>0</td>\n",
       "      <td>0</td>\n",
       "      <td>0</td>\n",
       "      <td>1</td>\n",
       "      <td>0</td>\n",
       "      <td>0</td>\n",
       "      <td>1</td>\n",
       "      <td>0</td>\n",
       "      <td>0</td>\n",
       "      <td>0</td>\n",
       "      <td>0</td>\n",
       "      <td>0</td>\n",
       "      <td>0</td>\n",
       "      <td>0</td>\n",
       "      <td>0</td>\n",
       "      <td>1</td>\n",
       "      <td>0</td>\n",
       "      <td>0</td>\n",
       "      <td>0</td>\n",
       "      <td>0</td>\n",
       "      <td>0</td>\n",
       "      <td>0</td>\n",
       "      <td>0</td>\n",
       "      <td>0</td>\n",
       "      <td>0</td>\n",
       "      <td>1</td>\n",
       "      <td>0</td>\n",
       "      <td>0</td>\n",
       "      <td>0</td>\n",
       "      <td>0</td>\n",
       "      <td>1</td>\n",
       "      <td>0</td>\n",
       "      <td>0</td>\n",
       "      <td>1</td>\n",
       "      <td>0</td>\n",
       "      <td>0</td>\n",
       "      <td>0</td>\n",
       "      <td>0</td>\n",
       "      <td>0</td>\n",
       "      <td>0</td>\n",
       "      <td>0</td>\n",
       "      <td>0</td>\n",
       "      <td>0</td>\n",
       "      <td>0</td>\n",
       "      <td>0</td>\n",
       "      <td>0</td>\n",
       "      <td>0</td>\n",
       "      <td>1</td>\n",
       "      <td>0</td>\n",
       "      <td>0</td>\n",
       "      <td>0</td>\n",
       "      <td>0</td>\n",
       "      <td>0</td>\n",
       "      <td>0</td>\n",
       "      <td>0</td>\n",
       "      <td>0</td>\n",
       "      <td>0</td>\n",
       "      <td>0</td>\n",
       "      <td>0</td>\n",
       "      <td>0</td>\n",
       "      <td>0</td>\n",
       "      <td>0</td>\n",
       "      <td>0</td>\n",
       "      <td>1</td>\n",
       "      <td>0</td>\n",
       "      <td>0</td>\n",
       "      <td>0</td>\n",
       "      <td>0</td>\n",
       "      <td>0</td>\n",
       "      <td>0</td>\n",
       "      <td>0</td>\n",
       "      <td>1</td>\n",
       "      <td>0</td>\n",
       "      <td>0</td>\n",
       "      <td>1</td>\n",
       "      <td>0</td>\n",
       "      <td>0</td>\n",
       "      <td>0</td>\n",
       "      <td>0</td>\n",
       "      <td>0</td>\n",
       "      <td>0</td>\n",
       "      <td>0</td>\n",
       "      <td>0</td>\n",
       "      <td>0</td>\n",
       "      <td>1</td>\n",
       "      <td>0</td>\n",
       "      <td>0</td>\n",
       "      <td>1</td>\n",
       "      <td>0</td>\n",
       "      <td>0</td>\n",
       "      <td>1</td>\n",
       "      <td>0</td>\n",
       "      <td>0</td>\n",
       "      <td>0</td>\n",
       "      <td>0</td>\n",
       "      <td>0</td>\n",
       "      <td>0</td>\n",
       "      <td>1</td>\n",
       "      <td>0</td>\n",
       "      <td>0</td>\n",
       "      <td>0</td>\n",
       "      <td>0</td>\n",
       "      <td>1</td>\n",
       "      <td>0</td>\n",
       "      <td>0</td>\n",
       "      <td>0</td>\n",
       "      <td>0</td>\n",
       "      <td>0</td>\n",
       "      <td>0</td>\n",
       "      <td>0</td>\n",
       "      <td>0</td>\n",
       "      <td>0</td>\n",
       "      <td>1</td>\n",
       "      <td>0</td>\n",
       "      <td>0</td>\n",
       "      <td>0</td>\n",
       "      <td>0</td>\n",
       "      <td>1</td>\n",
       "      <td>0</td>\n",
       "      <td>0</td>\n",
       "      <td>0</td>\n",
       "      <td>0</td>\n",
       "      <td>1</td>\n",
       "      <td>1</td>\n",
       "      <td>0</td>\n",
       "      <td>0</td>\n",
       "      <td>0</td>\n",
       "      <td>0</td>\n",
       "      <td>1</td>\n",
       "      <td>0</td>\n",
       "      <td>0</td>\n",
       "      <td>1</td>\n",
       "      <td>0</td>\n",
       "      <td>0</td>\n",
       "      <td>0</td>\n",
       "      <td>0</td>\n",
       "      <td>0</td>\n",
       "      <td>0</td>\n",
       "      <td>1</td>\n",
       "      <td>0</td>\n",
       "      <td>0</td>\n",
       "      <td>1</td>\n",
       "      <td>0</td>\n",
       "      <td>0</td>\n",
       "      <td>0</td>\n",
       "      <td>0</td>\n",
       "      <td>0</td>\n",
       "      <td>0</td>\n",
       "      <td>0</td>\n",
       "      <td>0</td>\n",
       "      <td>0</td>\n",
       "      <td>0</td>\n",
       "      <td>0</td>\n",
       "      <td>0</td>\n",
       "      <td>0</td>\n",
       "      <td>0</td>\n",
       "      <td>0</td>\n",
       "      <td>0</td>\n",
       "      <td>0</td>\n",
       "      <td>1</td>\n",
       "      <td>0</td>\n",
       "      <td>0</td>\n",
       "      <td>0</td>\n",
       "      <td>0</td>\n",
       "      <td>0</td>\n",
       "      <td>0</td>\n",
       "      <td>0</td>\n",
       "      <td>0</td>\n",
       "      <td>0</td>\n",
       "      <td>0</td>\n",
       "      <td>0</td>\n",
       "      <td>1</td>\n",
       "      <td>0</td>\n",
       "      <td>1</td>\n",
       "      <td>0</td>\n",
       "      <td>0</td>\n",
       "      <td>0</td>\n",
       "      <td>0</td>\n",
       "      <td>0</td>\n",
       "      <td>0</td>\n",
       "      <td>0</td>\n",
       "      <td>1</td>\n",
       "      <td>0</td>\n",
       "      <td>0</td>\n",
       "      <td>0</td>\n",
       "      <td>0</td>\n",
       "      <td>0</td>\n",
       "      <td>0</td>\n",
       "      <td>0</td>\n",
       "      <td>0</td>\n",
       "      <td>1</td>\n",
       "      <td>0</td>\n",
       "      <td>0</td>\n",
       "      <td>0</td>\n",
       "      <td>0</td>\n",
       "      <td>0</td>\n",
       "      <td>0</td>\n",
       "      <td>0</td>\n",
       "      <td>0</td>\n",
       "      <td>0</td>\n",
       "      <td>1</td>\n",
       "      <td>0</td>\n",
       "      <td>1</td>\n",
       "    </tr>\n",
       "  </tbody>\n",
       "</table>\n",
       "</div>"
      ],
      "text/plain": [
       "   1stFlrSF  2ndFlrSF  3SsnPorch  BedroomAbvGr  BsmtFinSF1  BsmtFinSF2  \\\n",
       "0       856       854          0             3       706.0         0.0   \n",
       "1      1262         0          0             3       978.0         0.0   \n",
       "2       920       866          0             3       486.0         0.0   \n",
       "3       961       756          0             3       216.0         0.0   \n",
       "4      1145      1053          0             4       655.0         0.0   \n",
       "\n",
       "   BsmtUnfSF  EnclosedPorch  Fireplaces  FullBath  GarageArea  GarageCars  \\\n",
       "0      150.0              0           0         2       548.0         2.0   \n",
       "1      284.0              0           1         2       460.0         2.0   \n",
       "2      434.0              0           1         2       608.0         2.0   \n",
       "3      540.0            272           1         1       642.0         3.0   \n",
       "4      490.0              0           1         2       836.0         3.0   \n",
       "\n",
       "   GarageYrBlt  GrLivArea  HalfBath  KitchenAbvGr  LotArea  LotFrontage  \\\n",
       "0       2003.0       1710         1             1     8450         65.0   \n",
       "1       1976.0       1262         0             1     9600         80.0   \n",
       "2       2001.0       1786         1             1    11250         68.0   \n",
       "3       1998.0       1717         0             1     9550         60.0   \n",
       "4       2000.0       2198         1             1    14260         84.0   \n",
       "\n",
       "   LowQualFinSF  MSSubClass  MasVnrArea  MiscVal  MoSold  OpenPorchSF  \\\n",
       "0             0          60       196.0        0       2           61   \n",
       "1             0          20         0.0        0       5            0   \n",
       "2             0          60       162.0        0       9           42   \n",
       "3             0          70         0.0        0       2           35   \n",
       "4             0          60       350.0        0      12           84   \n",
       "\n",
       "   OverallCond  OverallQual  PoolArea  ScreenPorch  TotRmsAbvGrd  TotalBsmtSF  \\\n",
       "0            5            7         0            0             8        856.0   \n",
       "1            8            6         0            0             6       1262.0   \n",
       "2            5            7         0            0             6        920.0   \n",
       "3            5            7         0            0             7        756.0   \n",
       "4            5            8         0            0             9       1145.0   \n",
       "\n",
       "   WoodDeckSF  YearBuilt  YearRemodAdd  YrSold  BldgType_1Fam  \\\n",
       "0           0       2003          2003    2008              1   \n",
       "1         298       1976          1976    2007              1   \n",
       "2           0       2001          2002    2008              1   \n",
       "3           0       1915          1970    2006              1   \n",
       "4         192       2000          2000    2008              1   \n",
       "\n",
       "   BldgType_2fmCon  BldgType_Duplex  BldgType_Twnhs  BldgType_TwnhsE  \\\n",
       "0                0                0               0                0   \n",
       "1                0                0               0                0   \n",
       "2                0                0               0                0   \n",
       "3                0                0               0                0   \n",
       "4                0                0               0                0   \n",
       "\n",
       "   BsmtExposure_Av  BsmtExposure_Gd  BsmtExposure_Mn  BsmtExposure_No  \\\n",
       "0                0                0                0                1   \n",
       "1                0                1                0                0   \n",
       "2                0                0                1                0   \n",
       "3                0                0                0                1   \n",
       "4                1                0                0                0   \n",
       "\n",
       "   BsmtExposure_NoBsmt  BsmtFinType1_ALQ  BsmtFinType1_BLQ  BsmtFinType1_GLQ  \\\n",
       "0                    0                 0                 0                 1   \n",
       "1                    0                 1                 0                 0   \n",
       "2                    0                 0                 0                 1   \n",
       "3                    0                 1                 0                 0   \n",
       "4                    0                 0                 0                 1   \n",
       "\n",
       "   BsmtFinType1_LwQ  BsmtFinType1_NoBsmt  BsmtFinType1_Rec  BsmtFinType1_Unf  \\\n",
       "0                 0                    0                 0                 0   \n",
       "1                 0                    0                 0                 0   \n",
       "2                 0                    0                 0                 0   \n",
       "3                 0                    0                 0                 0   \n",
       "4                 0                    0                 0                 0   \n",
       "\n",
       "   BsmtFullBath_0  BsmtFullBath_1  BsmtFullBath_2  BsmtFullBath_3  \\\n",
       "0               0               1               0               0   \n",
       "1               1               0               0               0   \n",
       "2               0               1               0               0   \n",
       "3               0               1               0               0   \n",
       "4               0               1               0               0   \n",
       "\n",
       "   BsmtFullBath_0  BsmtHalfBath_0  BsmtHalfBath_1  BsmtHalfBath_2  \\\n",
       "0               0               1               0               0   \n",
       "1               0               0               1               0   \n",
       "2               0               1               0               0   \n",
       "3               0               1               0               0   \n",
       "4               0               1               0               0   \n",
       "\n",
       "   BsmtHalfBath_0  BsmtQual_Ex  BsmtQual_Fa  BsmtQual_Gd  BsmtQual_NoBsmt  \\\n",
       "0               0            0            0            1                0   \n",
       "1               0            0            0            1                0   \n",
       "2               0            0            0            1                0   \n",
       "3               0            0            0            0                0   \n",
       "4               0            0            0            1                0   \n",
       "\n",
       "   BsmtQual_TA  CentralAir_N  CentralAir_Y  Condition1_Artery  \\\n",
       "0            0             0             1                  0   \n",
       "1            0             0             1                  0   \n",
       "2            0             0             1                  0   \n",
       "3            1             0             1                  0   \n",
       "4            0             0             1                  0   \n",
       "\n",
       "   Condition1_Feedr  Condition1_Norm  Condition1_PosA  Condition1_PosN  \\\n",
       "0                 0                1                0                0   \n",
       "1                 1                0                0                0   \n",
       "2                 0                1                0                0   \n",
       "3                 0                1                0                0   \n",
       "4                 0                1                0                0   \n",
       "\n",
       "   Condition1_RRAe  Condition1_RRAn  Condition1_RRNe  Condition1_RRNn  \\\n",
       "0                0                0                0                0   \n",
       "1                0                0                0                0   \n",
       "2                0                0                0                0   \n",
       "3                0                0                0                0   \n",
       "4                0                0                0                0   \n",
       "\n",
       "   Condition2_Artery  Condition2_Feedr  Condition2_Norm  Condition2_PosA  \\\n",
       "0                  0                 0                1                0   \n",
       "1                  0                 0                1                0   \n",
       "2                  0                 0                1                0   \n",
       "3                  0                 0                1                0   \n",
       "4                  0                 0                1                0   \n",
       "\n",
       "   Condition2_PosN  Condition2_RRAe  Condition2_RRAn  Condition2_RRNn  \\\n",
       "0                0                0                0                0   \n",
       "1                0                0                0                0   \n",
       "2                0                0                0                0   \n",
       "3                0                0                0                0   \n",
       "4                0                0                0                0   \n",
       "\n",
       "   Electrical_FuseA  Electrical_FuseF  Electrical_FuseP  Electrical_Mix  \\\n",
       "0                 0                 0                 0               0   \n",
       "1                 0                 0                 0               0   \n",
       "2                 0                 0                 0               0   \n",
       "3                 0                 0                 0               0   \n",
       "4                 0                 0                 0               0   \n",
       "\n",
       "   Electrical_SBrkr  ExterCond_Ex  ExterCond_Fa  ExterCond_Gd  ExterCond_Po  \\\n",
       "0                 1             0             0             0             0   \n",
       "1                 1             0             0             0             0   \n",
       "2                 1             0             0             0             0   \n",
       "3                 1             0             0             0             0   \n",
       "4                 1             0             0             0             0   \n",
       "\n",
       "   ExterCond_TA  ExterQual_Ex  ExterQual_Fa  ExterQual_Gd  ExterQual_TA  \\\n",
       "0             1             0             0             1             0   \n",
       "1             1             0             0             0             1   \n",
       "2             1             0             0             1             0   \n",
       "3             1             0             0             0             1   \n",
       "4             1             0             0             1             0   \n",
       "\n",
       "   Exterior1st_AsbShng  Exterior1st_AsphShn  Exterior1st_BrkComm  \\\n",
       "0                    0                    0                    0   \n",
       "1                    0                    0                    0   \n",
       "2                    0                    0                    0   \n",
       "3                    0                    0                    0   \n",
       "4                    0                    0                    0   \n",
       "\n",
       "   Exterior1st_BrkFace  Exterior1st_CBlock  Exterior1st_CemntBd  \\\n",
       "0                    0                   0                    0   \n",
       "1                    0                   0                    0   \n",
       "2                    0                   0                    0   \n",
       "3                    0                   0                    0   \n",
       "4                    0                   0                    0   \n",
       "\n",
       "   Exterior1st_HdBoard  Exterior1st_ImStucc  Exterior1st_MetalSd  \\\n",
       "0                    0                    0                    0   \n",
       "1                    0                    0                    1   \n",
       "2                    0                    0                    0   \n",
       "3                    0                    0                    0   \n",
       "4                    0                    0                    0   \n",
       "\n",
       "   Exterior1st_Plywood  Exterior1st_Stone  Exterior1st_Stucco  \\\n",
       "0                    0                  0                   0   \n",
       "1                    0                  0                   0   \n",
       "2                    0                  0                   0   \n",
       "3                    0                  0                   0   \n",
       "4                    0                  0                   0   \n",
       "\n",
       "   Exterior1st_VinylSd  Exterior1st_Wd Sdng  Exterior1st_WdShing  \\\n",
       "0                    1                    0                    0   \n",
       "1                    0                    0                    0   \n",
       "2                    1                    0                    0   \n",
       "3                    0                    1                    0   \n",
       "4                    1                    0                    0   \n",
       "\n",
       "   Exterior2nd_AsbShng  Exterior2nd_AsphShn  Exterior2nd_Brk Cmn  \\\n",
       "0                    0                    0                    0   \n",
       "1                    0                    0                    0   \n",
       "2                    0                    0                    0   \n",
       "3                    0                    0                    0   \n",
       "4                    0                    0                    0   \n",
       "\n",
       "   Exterior2nd_BrkFace  Exterior2nd_CBlock  Exterior2nd_CmentBd  \\\n",
       "0                    0                   0                    0   \n",
       "1                    0                   0                    0   \n",
       "2                    0                   0                    0   \n",
       "3                    0                   0                    0   \n",
       "4                    0                   0                    0   \n",
       "\n",
       "   Exterior2nd_HdBoard  Exterior2nd_ImStucc  Exterior2nd_MetalSd  \\\n",
       "0                    0                    0                    0   \n",
       "1                    0                    0                    1   \n",
       "2                    0                    0                    0   \n",
       "3                    0                    0                    0   \n",
       "4                    0                    0                    0   \n",
       "\n",
       "   Exterior2nd_Other  Exterior2nd_Plywood  Exterior2nd_Stone  \\\n",
       "0                  0                    0                  0   \n",
       "1                  0                    0                  0   \n",
       "2                  0                    0                  0   \n",
       "3                  0                    0                  0   \n",
       "4                  0                    0                  0   \n",
       "\n",
       "   Exterior2nd_Stucco  Exterior2nd_VinylSd  Exterior2nd_Wd Sdng  \\\n",
       "0                   0                    1                    0   \n",
       "1                   0                    0                    0   \n",
       "2                   0                    1                    0   \n",
       "3                   0                    0                    0   \n",
       "4                   0                    1                    0   \n",
       "\n",
       "   Exterior2nd_Wd Shng  FireplaceQu_0  FireplaceQu_Ex  FireplaceQu_Fa  \\\n",
       "0                    0              1               0               0   \n",
       "1                    0              0               0               0   \n",
       "2                    0              0               0               0   \n",
       "3                    1              0               0               0   \n",
       "4                    0              0               0               0   \n",
       "\n",
       "   FireplaceQu_Gd  FireplaceQu_Po  FireplaceQu_TA  Foundation_BrkTil  \\\n",
       "0               0               0               0                  0   \n",
       "1               0               0               1                  0   \n",
       "2               0               0               1                  0   \n",
       "3               1               0               0                  1   \n",
       "4               0               0               1                  0   \n",
       "\n",
       "   Foundation_CBlock  Foundation_PConc  Foundation_Slab  Foundation_Stone  \\\n",
       "0                  0                 1                0                 0   \n",
       "1                  1                 0                0                 0   \n",
       "2                  0                 1                0                 0   \n",
       "3                  0                 0                0                 0   \n",
       "4                  0                 1                0                 0   \n",
       "\n",
       "   Foundation_Wood  Functional_Maj1  Functional_Maj2  Functional_Min1  \\\n",
       "0                0                0                0                0   \n",
       "1                0                0                0                0   \n",
       "2                0                0                0                0   \n",
       "3                0                0                0                0   \n",
       "4                0                0                0                0   \n",
       "\n",
       "   Functional_Min2  Functional_Mod  Functional_Sev  Functional_Typ  \\\n",
       "0                0               0               0               1   \n",
       "1                0               0               0               1   \n",
       "2                0               0               0               1   \n",
       "3                0               0               0               1   \n",
       "4                0               0               0               1   \n",
       "\n",
       "   GarageFinish_Fin  GarageFinish_Nog  GarageFinish_RFn  GarageFinish_Unf  \\\n",
       "0                 0                 0                 1                 0   \n",
       "1                 0                 0                 1                 0   \n",
       "2                 0                 0                 1                 0   \n",
       "3                 0                 0                 0                 1   \n",
       "4                 0                 0                 1                 0   \n",
       "\n",
       "   GarageType_2Types  GarageType_Attchd  GarageType_Basment  \\\n",
       "0                  0                  1                   0   \n",
       "1                  0                  1                   0   \n",
       "2                  0                  1                   0   \n",
       "3                  0                  0                   0   \n",
       "4                  0                  1                   0   \n",
       "\n",
       "   GarageType_BuiltIn  GarageType_CarPort  GarageType_Detchd  GarageType_Nog  \\\n",
       "0                   0                   0                  0               0   \n",
       "1                   0                   0                  0               0   \n",
       "2                   0                   0                  0               0   \n",
       "3                   0                   0                  1               0   \n",
       "4                   0                   0                  0               0   \n",
       "\n",
       "   Heating_Floor  Heating_GasA  Heating_GasW  Heating_Grav  Heating_OthW  \\\n",
       "0              0             1             0             0             0   \n",
       "1              0             1             0             0             0   \n",
       "2              0             1             0             0             0   \n",
       "3              0             1             0             0             0   \n",
       "4              0             1             0             0             0   \n",
       "\n",
       "   Heating_Wall  HeatingQC_Ex  HeatingQC_Fa  HeatingQC_Gd  HeatingQC_Po  \\\n",
       "0             0             1             0             0             0   \n",
       "1             0             1             0             0             0   \n",
       "2             0             1             0             0             0   \n",
       "3             0             0             0             1             0   \n",
       "4             0             1             0             0             0   \n",
       "\n",
       "   HeatingQC_TA  HouseStyle_1.5Fin  HouseStyle_1.5Unf  HouseStyle_1Story  \\\n",
       "0             0                  0                  0                  0   \n",
       "1             0                  0                  0                  1   \n",
       "2             0                  0                  0                  0   \n",
       "3             0                  0                  0                  0   \n",
       "4             0                  0                  0                  0   \n",
       "\n",
       "   HouseStyle_2.5Fin  HouseStyle_2.5Unf  HouseStyle_2Story  HouseStyle_SFoyer  \\\n",
       "0                  0                  0                  1                  0   \n",
       "1                  0                  0                  0                  0   \n",
       "2                  0                  0                  1                  0   \n",
       "3                  0                  0                  1                  0   \n",
       "4                  0                  0                  1                  0   \n",
       "\n",
       "   HouseStyle_SLvl  KitchenQual_Ex  KitchenQual_Fa  KitchenQual_Gd  \\\n",
       "0                0               0               0               1   \n",
       "1                0               0               0               0   \n",
       "2                0               0               0               1   \n",
       "3                0               0               0               1   \n",
       "4                0               0               0               1   \n",
       "\n",
       "   KitchenQual_TA  LandContour_Bnk  LandContour_HLS  LandContour_Low  \\\n",
       "0               0                0                0                0   \n",
       "1               1                0                0                0   \n",
       "2               0                0                0                0   \n",
       "3               0                0                0                0   \n",
       "4               0                0                0                0   \n",
       "\n",
       "   LandContour_Lvl  LandSlope_Gtl  LandSlope_Mod  LandSlope_Sev  \\\n",
       "0                1              1              0              0   \n",
       "1                1              1              0              0   \n",
       "2                1              1              0              0   \n",
       "3                1              1              0              0   \n",
       "4                1              1              0              0   \n",
       "\n",
       "   LotConfig_Corner  LotConfig_CulDSac  LotConfig_FR2  LotConfig_FR3  \\\n",
       "0                 0                  0              0              0   \n",
       "1                 0                  0              1              0   \n",
       "2                 0                  0              0              0   \n",
       "3                 1                  0              0              0   \n",
       "4                 0                  0              1              0   \n",
       "\n",
       "   LotConfig_Inside  LotShape_IR1  LotShape_IR2  LotShape_IR3  LotShape_Reg  \\\n",
       "0                 1             0             0             0             1   \n",
       "1                 0             0             0             0             1   \n",
       "2                 1             1             0             0             0   \n",
       "3                 0             1             0             0             0   \n",
       "4                 0             1             0             0             0   \n",
       "\n",
       "   MSZoning_C (all)  MSZoning_FV  MSZoning_RH  MSZoning_RL  MSZoning_RM  \\\n",
       "0                 0            0            0            1            0   \n",
       "1                 0            0            0            1            0   \n",
       "2                 0            0            0            1            0   \n",
       "3                 0            0            0            1            0   \n",
       "4                 0            0            0            1            0   \n",
       "\n",
       "   MasVnrType_BrkCmn  MasVnrType_BrkFace  MasVnrType_None  MasVnrType_Stone  \\\n",
       "0                  0                   1                0                 0   \n",
       "1                  0                   0                1                 0   \n",
       "2                  0                   1                0                 0   \n",
       "3                  0                   0                1                 0   \n",
       "4                  0                   1                0                 0   \n",
       "\n",
       "   Neighborhood_Blmngtn  Neighborhood_Blueste  Neighborhood_BrDale  \\\n",
       "0                     0                     0                    0   \n",
       "1                     0                     0                    0   \n",
       "2                     0                     0                    0   \n",
       "3                     0                     0                    0   \n",
       "4                     0                     0                    0   \n",
       "\n",
       "   Neighborhood_BrkSide  Neighborhood_ClearCr  Neighborhood_CollgCr  \\\n",
       "0                     0                     0                     1   \n",
       "1                     0                     0                     0   \n",
       "2                     0                     0                     1   \n",
       "3                     0                     0                     0   \n",
       "4                     0                     0                     0   \n",
       "\n",
       "   Neighborhood_Crawfor  Neighborhood_Edwards  Neighborhood_Gilbert  \\\n",
       "0                     0                     0                     0   \n",
       "1                     0                     0                     0   \n",
       "2                     0                     0                     0   \n",
       "3                     1                     0                     0   \n",
       "4                     0                     0                     0   \n",
       "\n",
       "   Neighborhood_IDOTRR  Neighborhood_MeadowV  Neighborhood_Mitchel  \\\n",
       "0                    0                     0                     0   \n",
       "1                    0                     0                     0   \n",
       "2                    0                     0                     0   \n",
       "3                    0                     0                     0   \n",
       "4                    0                     0                     0   \n",
       "\n",
       "   Neighborhood_NAmes  Neighborhood_NPkVill  Neighborhood_NWAmes  \\\n",
       "0                   0                     0                    0   \n",
       "1                   0                     0                    0   \n",
       "2                   0                     0                    0   \n",
       "3                   0                     0                    0   \n",
       "4                   0                     0                    0   \n",
       "\n",
       "   Neighborhood_NoRidge  Neighborhood_NridgHt  Neighborhood_OldTown  \\\n",
       "0                     0                     0                     0   \n",
       "1                     0                     0                     0   \n",
       "2                     0                     0                     0   \n",
       "3                     0                     0                     0   \n",
       "4                     1                     0                     0   \n",
       "\n",
       "   Neighborhood_SWISU  Neighborhood_Sawyer  Neighborhood_SawyerW  \\\n",
       "0                   0                    0                     0   \n",
       "1                   0                    0                     0   \n",
       "2                   0                    0                     0   \n",
       "3                   0                    0                     0   \n",
       "4                   0                    0                     0   \n",
       "\n",
       "   Neighborhood_Somerst  Neighborhood_StoneBr  Neighborhood_Timber  \\\n",
       "0                     0                     0                    0   \n",
       "1                     0                     0                    0   \n",
       "2                     0                     0                    0   \n",
       "3                     0                     0                    0   \n",
       "4                     0                     0                    0   \n",
       "\n",
       "   Neighborhood_Veenker  PavedDrive_N  PavedDrive_P  PavedDrive_Y  \\\n",
       "0                     0             0             0             1   \n",
       "1                     1             0             0             1   \n",
       "2                     0             0             0             1   \n",
       "3                     0             0             0             1   \n",
       "4                     0             0             0             1   \n",
       "\n",
       "   RoofMatl_ClyTile  RoofMatl_CompShg  RoofMatl_Membran  RoofMatl_Metal  \\\n",
       "0                 0                 1                 0               0   \n",
       "1                 0                 1                 0               0   \n",
       "2                 0                 1                 0               0   \n",
       "3                 0                 1                 0               0   \n",
       "4                 0                 1                 0               0   \n",
       "\n",
       "   RoofMatl_Roll  RoofMatl_Tar&Grv  RoofMatl_WdShake  RoofMatl_WdShngl  \\\n",
       "0              0                 0                 0                 0   \n",
       "1              0                 0                 0                 0   \n",
       "2              0                 0                 0                 0   \n",
       "3              0                 0                 0                 0   \n",
       "4              0                 0                 0                 0   \n",
       "\n",
       "   RoofStyle_Flat  RoofStyle_Gable  RoofStyle_Gambrel  RoofStyle_Hip  \\\n",
       "0               0                1                  0              0   \n",
       "1               0                1                  0              0   \n",
       "2               0                1                  0              0   \n",
       "3               0                1                  0              0   \n",
       "4               0                1                  0              0   \n",
       "\n",
       "   RoofStyle_Mansard  RoofStyle_Shed  SaleCondition_Abnorml  \\\n",
       "0                  0               0                      0   \n",
       "1                  0               0                      0   \n",
       "2                  0               0                      0   \n",
       "3                  0               0                      1   \n",
       "4                  0               0                      0   \n",
       "\n",
       "   SaleCondition_AdjLand  SaleCondition_Alloca  SaleCondition_Family  \\\n",
       "0                      0                     0                     0   \n",
       "1                      0                     0                     0   \n",
       "2                      0                     0                     0   \n",
       "3                      0                     0                     0   \n",
       "4                      0                     0                     0   \n",
       "\n",
       "   SaleCondition_Normal  SaleCondition_Partial  SaleType_COD  SaleType_CWD  \\\n",
       "0                     1                      0             0             0   \n",
       "1                     1                      0             0             0   \n",
       "2                     1                      0             0             0   \n",
       "3                     0                      0             0             0   \n",
       "4                     1                      0             0             0   \n",
       "\n",
       "   SaleType_Con  SaleType_ConLD  SaleType_ConLI  SaleType_ConLw  SaleType_New  \\\n",
       "0             0               0               0               0             0   \n",
       "1             0               0               0               0             0   \n",
       "2             0               0               0               0             0   \n",
       "3             0               0               0               0             0   \n",
       "4             0               0               0               0             0   \n",
       "\n",
       "   SaleType_Oth  SaleType_WD  Street_Grvl  Street_Pave  \n",
       "0             0            1            0            1  \n",
       "1             0            1            0            1  \n",
       "2             0            1            0            1  \n",
       "3             0            1            0            1  \n",
       "4             0            1            0            1  "
      ]
     },
     "execution_count": 110,
     "metadata": {},
     "output_type": "execute_result"
    }
   ],
   "source": [
    "df_all_features.head()"
   ]
  },
  {
   "cell_type": "code",
   "execution_count": 111,
   "metadata": {
    "execution": {
     "iopub.execute_input": "2020-11-08T14:12:34.886435Z",
     "iopub.status.busy": "2020-11-08T14:12:34.885637Z",
     "iopub.status.idle": "2020-11-08T14:12:34.889923Z",
     "shell.execute_reply": "2020-11-08T14:12:34.890488Z"
    },
    "papermill": {
     "duration": 0.233582,
     "end_time": "2020-11-08T14:12:34.890652",
     "exception": false,
     "start_time": "2020-11-08T14:12:34.657070",
     "status": "completed"
    },
    "tags": []
   },
   "outputs": [
    {
     "data": {
      "text/plain": [
       "(2919, 266)"
      ]
     },
     "execution_count": 111,
     "metadata": {},
     "output_type": "execute_result"
    }
   ],
   "source": [
    "df_all_features.shape"
   ]
  },
  {
   "cell_type": "markdown",
   "metadata": {
    "papermill": {
     "duration": 0.22027,
     "end_time": "2020-11-08T14:12:35.331595",
     "exception": false,
     "start_time": "2020-11-08T14:12:35.111325",
     "status": "completed"
    },
    "tags": []
   },
   "source": [
    "## Model Training"
   ]
  },
  {
   "cell_type": "code",
   "execution_count": 112,
   "metadata": {
    "execution": {
     "iopub.execute_input": "2020-11-08T14:12:35.816836Z",
     "iopub.status.busy": "2020-11-08T14:12:35.815705Z",
     "iopub.status.idle": "2020-11-08T14:12:35.818887Z",
     "shell.execute_reply": "2020-11-08T14:12:35.818237Z"
    },
    "papermill": {
     "duration": 0.270105,
     "end_time": "2020-11-08T14:12:35.819016",
     "exception": false,
     "start_time": "2020-11-08T14:12:35.548911",
     "status": "completed"
    },
    "tags": []
   },
   "outputs": [],
   "source": [
    "def divide_df(df):\n",
    "    return df.iloc[:1460], df.iloc[1460:]"
   ]
  },
  {
   "cell_type": "code",
   "execution_count": 113,
   "metadata": {
    "execution": {
     "iopub.execute_input": "2020-11-08T14:12:36.271963Z",
     "iopub.status.busy": "2020-11-08T14:12:36.270853Z",
     "iopub.status.idle": "2020-11-08T14:12:36.273564Z",
     "shell.execute_reply": "2020-11-08T14:12:36.274095Z"
    },
    "papermill": {
     "duration": 0.230437,
     "end_time": "2020-11-08T14:12:36.274253",
     "exception": false,
     "start_time": "2020-11-08T14:12:36.043816",
     "status": "completed"
    },
    "tags": []
   },
   "outputs": [],
   "source": [
    "X_train, X_test = divide_df(df_all_features)"
   ]
  },
  {
   "cell_type": "code",
   "execution_count": 114,
   "metadata": {
    "execution": {
     "iopub.execute_input": "2020-11-08T14:12:36.723188Z",
     "iopub.status.busy": "2020-11-08T14:12:36.722298Z",
     "iopub.status.idle": "2020-11-08T14:12:36.725754Z",
     "shell.execute_reply": "2020-11-08T14:12:36.725135Z"
    },
    "papermill": {
     "duration": 0.232491,
     "end_time": "2020-11-08T14:12:36.725899",
     "exception": false,
     "start_time": "2020-11-08T14:12:36.493408",
     "status": "completed"
    },
    "tags": []
   },
   "outputs": [],
   "source": [
    "y_train = df_train['SalePrice']"
   ]
  },
  {
   "cell_type": "code",
   "execution_count": 115,
   "metadata": {
    "execution": {
     "iopub.execute_input": "2020-11-08T14:12:37.174064Z",
     "iopub.status.busy": "2020-11-08T14:12:37.173085Z",
     "iopub.status.idle": "2020-11-08T14:12:37.177575Z",
     "shell.execute_reply": "2020-11-08T14:12:37.176833Z"
    },
    "papermill": {
     "duration": 0.232473,
     "end_time": "2020-11-08T14:12:37.177752",
     "exception": false,
     "start_time": "2020-11-08T14:12:36.945279",
     "status": "completed"
    },
    "tags": []
   },
   "outputs": [
    {
     "name": "stdout",
     "output_type": "stream",
     "text": [
      "X_train shape: (1460, 266)\n",
      "y_train shape: (1460,)\n",
      "X_test shape: (1459, 266)\n"
     ]
    }
   ],
   "source": [
    "print('X_train shape:', X_train.shape)\n",
    "print('y_train shape:', y_train.shape)\n",
    "print('X_test shape:', X_test.shape)"
   ]
  },
  {
   "cell_type": "code",
   "execution_count": 116,
   "metadata": {
    "execution": {
     "iopub.execute_input": "2020-11-08T14:12:37.627989Z",
     "iopub.status.busy": "2020-11-08T14:12:37.627212Z",
     "iopub.status.idle": "2020-11-08T14:12:37.888134Z",
     "shell.execute_reply": "2020-11-08T14:12:37.887492Z"
    },
    "papermill": {
     "duration": 0.488344,
     "end_time": "2020-11-08T14:12:37.888257",
     "exception": false,
     "start_time": "2020-11-08T14:12:37.399913",
     "status": "completed"
    },
    "tags": []
   },
   "outputs": [],
   "source": [
    "from sklearn.preprocessing import StandardScaler\n",
    "from sklearn.pipeline import make_pipeline\n",
    "from sklearn.metrics import r2_score,mean_squared_error,make_scorer\n",
    "from sklearn.ensemble import RandomForestRegressor"
   ]
  },
  {
   "cell_type": "code",
   "execution_count": 117,
   "metadata": {
    "execution": {
     "iopub.execute_input": "2020-11-08T14:12:38.367562Z",
     "iopub.status.busy": "2020-11-08T14:12:38.366719Z",
     "iopub.status.idle": "2020-11-08T14:15:48.878919Z",
     "shell.execute_reply": "2020-11-08T14:15:48.879533Z"
    },
    "papermill": {
     "duration": 190.753941,
     "end_time": "2020-11-08T14:15:48.879702",
     "exception": false,
     "start_time": "2020-11-08T14:12:38.125761",
     "status": "completed"
    },
    "tags": []
   },
   "outputs": [
    {
     "data": {
      "text/plain": [
       "Pipeline(steps=[('standardscaler', StandardScaler()),\n",
       "                ('randomforestregressor',\n",
       "                 RandomForestRegressor(max_samples=1460, n_estimators=5000,\n",
       "                                       random_state=14))])"
      ]
     },
     "execution_count": 117,
     "metadata": {},
     "output_type": "execute_result"
    }
   ],
   "source": [
    "rf = make_pipeline(StandardScaler(), \n",
    "                   RandomForestRegressor(max_samples=1460, \n",
    "                                         n_estimators=5000, \n",
    "                                         min_samples_leaf=1, \n",
    "                                         random_state=14))\n",
    "rf.fit(X_train, y_train)"
   ]
  },
  {
   "cell_type": "code",
   "execution_count": 118,
   "metadata": {
    "execution": {
     "iopub.execute_input": "2020-11-08T14:15:49.327361Z",
     "iopub.status.busy": "2020-11-08T14:15:49.326240Z",
     "iopub.status.idle": "2020-11-08T14:15:49.338642Z",
     "shell.execute_reply": "2020-11-08T14:15:49.337873Z"
    },
    "papermill": {
     "duration": 0.239605,
     "end_time": "2020-11-08T14:15:49.338764",
     "exception": false,
     "start_time": "2020-11-08T14:15:49.099159",
     "status": "completed"
    },
    "tags": []
   },
   "outputs": [
    {
     "data": {
      "text/plain": [
       "Series([], dtype: float64)"
      ]
     },
     "execution_count": 118,
     "metadata": {},
     "output_type": "execute_result"
    }
   ],
   "source": [
    "check_null(X_train)"
   ]
  },
  {
   "cell_type": "code",
   "execution_count": 119,
   "metadata": {
    "execution": {
     "iopub.execute_input": "2020-11-08T14:15:49.792354Z",
     "iopub.status.busy": "2020-11-08T14:15:49.791231Z",
     "iopub.status.idle": "2020-11-08T14:15:49.802534Z",
     "shell.execute_reply": "2020-11-08T14:15:49.801921Z"
    },
    "papermill": {
     "duration": 0.243425,
     "end_time": "2020-11-08T14:15:49.802661",
     "exception": false,
     "start_time": "2020-11-08T14:15:49.559236",
     "status": "completed"
    },
    "tags": []
   },
   "outputs": [
    {
     "data": {
      "text/plain": [
       "Series([], dtype: float64)"
      ]
     },
     "execution_count": 119,
     "metadata": {},
     "output_type": "execute_result"
    }
   ],
   "source": [
    "check_null(X_test)"
   ]
  },
  {
   "cell_type": "code",
   "execution_count": 120,
   "metadata": {
    "execution": {
     "iopub.execute_input": "2020-11-08T14:15:50.257624Z",
     "iopub.status.busy": "2020-11-08T14:15:50.256425Z",
     "iopub.status.idle": "2020-11-08T14:15:52.206053Z",
     "shell.execute_reply": "2020-11-08T14:15:52.205417Z"
    },
    "papermill": {
     "duration": 2.182105,
     "end_time": "2020-11-08T14:15:52.206187",
     "exception": false,
     "start_time": "2020-11-08T14:15:50.024082",
     "status": "completed"
    },
    "tags": []
   },
   "outputs": [],
   "source": [
    "pred = rf.predict(X_test)"
   ]
  },
  {
   "cell_type": "markdown",
   "metadata": {
    "papermill": {
     "duration": 0.221411,
     "end_time": "2020-11-08T14:15:52.652190",
     "exception": false,
     "start_time": "2020-11-08T14:15:52.430779",
     "status": "completed"
    },
    "tags": []
   },
   "source": [
    "### To CSV"
   ]
  },
  {
   "cell_type": "code",
   "execution_count": 121,
   "metadata": {
    "execution": {
     "iopub.execute_input": "2020-11-08T14:15:53.102949Z",
     "iopub.status.busy": "2020-11-08T14:15:53.101855Z",
     "iopub.status.idle": "2020-11-08T14:15:53.134211Z",
     "shell.execute_reply": "2020-11-08T14:15:53.133418Z"
    },
    "papermill": {
     "duration": 0.260626,
     "end_time": "2020-11-08T14:15:53.134337",
     "exception": false,
     "start_time": "2020-11-08T14:15:52.873711",
     "status": "completed"
    },
    "tags": []
   },
   "outputs": [],
   "source": [
    "test_data = pd.read_csv('../input/house-prices-advanced-regression-techniques/test.csv')"
   ]
  },
  {
   "cell_type": "code",
   "execution_count": 122,
   "metadata": {
    "execution": {
     "iopub.execute_input": "2020-11-08T14:15:53.588031Z",
     "iopub.status.busy": "2020-11-08T14:15:53.586950Z",
     "iopub.status.idle": "2020-11-08T14:15:53.590500Z",
     "shell.execute_reply": "2020-11-08T14:15:53.589722Z"
    },
    "papermill": {
     "duration": 0.231108,
     "end_time": "2020-11-08T14:15:53.590626",
     "exception": false,
     "start_time": "2020-11-08T14:15:53.359518",
     "status": "completed"
    },
    "tags": []
   },
   "outputs": [],
   "source": [
    "submission = pd.DataFrame({'Id': test_data['Id'], 'SalePrice': pred })"
   ]
  },
  {
   "cell_type": "code",
   "execution_count": 123,
   "metadata": {
    "execution": {
     "iopub.execute_input": "2020-11-08T14:15:54.041039Z",
     "iopub.status.busy": "2020-11-08T14:15:54.039974Z",
     "iopub.status.idle": "2020-11-08T14:15:54.516009Z",
     "shell.execute_reply": "2020-11-08T14:15:54.515186Z"
    },
    "papermill": {
     "duration": 0.702684,
     "end_time": "2020-11-08T14:15:54.516135",
     "exception": false,
     "start_time": "2020-11-08T14:15:53.813451",
     "status": "completed"
    },
    "tags": []
   },
   "outputs": [],
   "source": [
    "submission.to_csv('Submission.csv', index=False)"
   ]
  },
  {
   "cell_type": "code",
   "execution_count": 124,
   "metadata": {
    "execution": {
     "iopub.execute_input": "2020-11-08T14:15:54.972955Z",
     "iopub.status.busy": "2020-11-08T14:15:54.971871Z",
     "iopub.status.idle": "2020-11-08T14:15:54.975478Z",
     "shell.execute_reply": "2020-11-08T14:15:54.976071Z"
    },
    "papermill": {
     "duration": 0.236599,
     "end_time": "2020-11-08T14:15:54.976225",
     "exception": false,
     "start_time": "2020-11-08T14:15:54.739626",
     "status": "completed"
    },
    "tags": []
   },
   "outputs": [
    {
     "data": {
      "text/html": [
       "<div>\n",
       "<style scoped>\n",
       "    .dataframe tbody tr th:only-of-type {\n",
       "        vertical-align: middle;\n",
       "    }\n",
       "\n",
       "    .dataframe tbody tr th {\n",
       "        vertical-align: top;\n",
       "    }\n",
       "\n",
       "    .dataframe thead th {\n",
       "        text-align: right;\n",
       "    }\n",
       "</style>\n",
       "<table border=\"1\" class=\"dataframe\">\n",
       "  <thead>\n",
       "    <tr style=\"text-align: right;\">\n",
       "      <th></th>\n",
       "      <th>Id</th>\n",
       "      <th>SalePrice</th>\n",
       "    </tr>\n",
       "  </thead>\n",
       "  <tbody>\n",
       "    <tr>\n",
       "      <th>0</th>\n",
       "      <td>1461</td>\n",
       "      <td>127884.6012</td>\n",
       "    </tr>\n",
       "    <tr>\n",
       "      <th>1</th>\n",
       "      <td>1462</td>\n",
       "      <td>154648.8550</td>\n",
       "    </tr>\n",
       "    <tr>\n",
       "      <th>2</th>\n",
       "      <td>1463</td>\n",
       "      <td>179153.4550</td>\n",
       "    </tr>\n",
       "    <tr>\n",
       "      <th>3</th>\n",
       "      <td>1464</td>\n",
       "      <td>182835.0104</td>\n",
       "    </tr>\n",
       "    <tr>\n",
       "      <th>4</th>\n",
       "      <td>1465</td>\n",
       "      <td>198992.6250</td>\n",
       "    </tr>\n",
       "  </tbody>\n",
       "</table>\n",
       "</div>"
      ],
      "text/plain": [
       "     Id    SalePrice\n",
       "0  1461  127884.6012\n",
       "1  1462  154648.8550\n",
       "2  1463  179153.4550\n",
       "3  1464  182835.0104\n",
       "4  1465  198992.6250"
      ]
     },
     "execution_count": 124,
     "metadata": {},
     "output_type": "execute_result"
    }
   ],
   "source": [
    "submission.head()"
   ]
  }
 ],
 "metadata": {
  "kernelspec": {
   "display_name": "Python 3",
   "language": "python",
   "name": "python3"
  },
  "language_info": {
   "codemirror_mode": {
    "name": "ipython",
    "version": 3
   },
   "file_extension": ".py",
   "mimetype": "text/x-python",
   "name": "python",
   "nbconvert_exporter": "python",
   "pygments_lexer": "ipython3",
   "version": "3.7.6"
  },
  "papermill": {
   "duration": 280.828447,
   "end_time": "2020-11-08T14:15:56.267996",
   "environment_variables": {},
   "exception": null,
   "input_path": "__notebook__.ipynb",
   "output_path": "__notebook__.ipynb",
   "parameters": {},
   "start_time": "2020-11-08T14:11:15.439549",
   "version": "2.1.0"
  }
 },
 "nbformat": 4,
 "nbformat_minor": 4
}
